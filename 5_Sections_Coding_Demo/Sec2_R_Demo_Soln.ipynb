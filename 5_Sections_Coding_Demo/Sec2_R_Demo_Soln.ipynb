{
 "cells": [
  {
   "cell_type": "markdown",
   "id": "33b475f2-f689-4b37-99ab-7f2046291537",
   "metadata": {},
   "source": [
    "# EEP/IAS C118 - Spring 2024- Section 2"
   ]
  },
  {
   "cell_type": "markdown",
   "id": "dc6a7dd9-9548-47bb-9d8b-7816c12045f7",
   "metadata": {},
   "source": [
    "## Function of the Week: group_by()\n",
    "\n",
    "This week, we will work review usage of the function `group_by()`, which was also covered in R Bootcamp part 1."
   ]
  },
  {
   "cell_type": "markdown",
   "id": "c93956c6-3fd3-427b-89a8-fe876e864d2b",
   "metadata": {},
   "source": [
    "## Preamble & Load Dataset\n",
    "\n",
    "Begin by importing the \"SLEEP75.DTA\" dataset. Note that reading Stata data files (.dta or .DTA) requires the use of the `haven` package, specifically the `read_dta()` function. Let us also call in the `dplyr` function, which will come in handy later on."
   ]
  },
  {
   "cell_type": "code",
   "execution_count": 1,
   "id": "824a7830-1cc0-4a1b-8f14-80d92e59d717",
   "metadata": {},
   "outputs": [
    {
     "name": "stderr",
     "output_type": "stream",
     "text": [
      "\n",
      "Attaching package: ‘dplyr’\n",
      "\n",
      "\n",
      "The following objects are masked from ‘package:stats’:\n",
      "\n",
      "    filter, lag\n",
      "\n",
      "\n",
      "The following objects are masked from ‘package:base’:\n",
      "\n",
      "    intersect, setdiff, setequal, union\n",
      "\n",
      "\n"
     ]
    }
   ],
   "source": [
    "# Load \"haven\" and \"dplyr\" package\n",
    "library(haven) # DELETE for Blank\n",
    "library(dplyr) # DELETE for Blank"
   ]
  },
  {
   "cell_type": "code",
   "execution_count": 2,
   "id": "5013a17a-8df7-4f4a-9fc1-c27426d47efe",
   "metadata": {},
   "outputs": [],
   "source": [
    "# Load in \"sleep75.dta\" and save it as data-frame object \"sleep75\"\n",
    "sleep75 <- read_dta(\"sleep75.dta\") # DELETE for Blank"
   ]
  },
  {
   "cell_type": "code",
   "execution_count": 3,
   "id": "184d8232-3788-4aa2-8bae-0ea41d2460a8",
   "metadata": {},
   "outputs": [
    {
     "data": {
      "text/html": [
       "<table class=\"dataframe\">\n",
       "<caption>A tibble: 6 × 34</caption>\n",
       "<thead>\n",
       "\t<tr><th scope=col>age</th><th scope=col>black</th><th scope=col>case</th><th scope=col>clerical</th><th scope=col>construc</th><th scope=col>educ</th><th scope=col>earns74</th><th scope=col>gdhlth</th><th scope=col>inlf</th><th scope=col>leis1</th><th scope=col>⋯</th><th scope=col>spwrk75</th><th scope=col>totwrk</th><th scope=col>union</th><th scope=col>worknrm</th><th scope=col>workscnd</th><th scope=col>exper</th><th scope=col>yngkid</th><th scope=col>yrsmarr</th><th scope=col>hrwage</th><th scope=col>agesq</th></tr>\n",
       "\t<tr><th scope=col>&lt;dbl&gt;</th><th scope=col>&lt;dbl&gt;</th><th scope=col>&lt;dbl&gt;</th><th scope=col>&lt;dbl&gt;</th><th scope=col>&lt;dbl&gt;</th><th scope=col>&lt;dbl&gt;</th><th scope=col>&lt;dbl&gt;</th><th scope=col>&lt;dbl&gt;</th><th scope=col>&lt;dbl&gt;</th><th scope=col>&lt;dbl&gt;</th><th scope=col>⋯</th><th scope=col>&lt;dbl&gt;</th><th scope=col>&lt;dbl&gt;</th><th scope=col>&lt;dbl&gt;</th><th scope=col>&lt;dbl&gt;</th><th scope=col>&lt;dbl&gt;</th><th scope=col>&lt;dbl&gt;</th><th scope=col>&lt;dbl&gt;</th><th scope=col>&lt;dbl&gt;</th><th scope=col>&lt;dbl&gt;</th><th scope=col>&lt;dbl&gt;</th></tr>\n",
       "</thead>\n",
       "<tbody>\n",
       "\t<tr><td>32</td><td>0</td><td>1</td><td>0</td><td>0</td><td>12</td><td>    0</td><td>0</td><td>1</td><td>3529</td><td>⋯</td><td>0</td><td>3438</td><td>0</td><td>3438</td><td>   0</td><td>14</td><td>0</td><td>13</td><td> 7.070004</td><td>1024</td></tr>\n",
       "\t<tr><td>31</td><td>0</td><td>2</td><td>0</td><td>0</td><td>14</td><td> 9500</td><td>1</td><td>1</td><td>2140</td><td>⋯</td><td>0</td><td>5020</td><td>0</td><td>5020</td><td>   0</td><td>11</td><td>0</td><td> 0</td><td> 1.429999</td><td> 961</td></tr>\n",
       "\t<tr><td>44</td><td>0</td><td>3</td><td>0</td><td>0</td><td>17</td><td>42500</td><td>1</td><td>1</td><td>4595</td><td>⋯</td><td>1</td><td>2815</td><td>0</td><td>2815</td><td>   0</td><td>21</td><td>0</td><td> 0</td><td>20.529997</td><td>1936</td></tr>\n",
       "\t<tr><td>30</td><td>0</td><td>4</td><td>0</td><td>0</td><td>12</td><td>42500</td><td>1</td><td>1</td><td>3211</td><td>⋯</td><td>1</td><td>3786</td><td>0</td><td>3786</td><td>   0</td><td>12</td><td>0</td><td>12</td><td> 9.619998</td><td> 900</td></tr>\n",
       "\t<tr><td>64</td><td>0</td><td>5</td><td>0</td><td>0</td><td>14</td><td> 2500</td><td>1</td><td>1</td><td>4052</td><td>⋯</td><td>1</td><td>2580</td><td>0</td><td>2580</td><td>   0</td><td>44</td><td>0</td><td>33</td><td> 2.750000</td><td>4096</td></tr>\n",
       "\t<tr><td>41</td><td>0</td><td>6</td><td>0</td><td>0</td><td>12</td><td>    0</td><td>1</td><td>1</td><td>4812</td><td>⋯</td><td>0</td><td>1205</td><td>0</td><td>   0</td><td>1205</td><td>23</td><td>0</td><td>23</td><td>19.249998</td><td>1681</td></tr>\n",
       "</tbody>\n",
       "</table>\n"
      ],
      "text/latex": [
       "A tibble: 6 × 34\n",
       "\\begin{tabular}{lllllllllllllllllllll}\n",
       " age & black & case & clerical & construc & educ & earns74 & gdhlth & inlf & leis1 & ⋯ & spwrk75 & totwrk & union & worknrm & workscnd & exper & yngkid & yrsmarr & hrwage & agesq\\\\\n",
       " <dbl> & <dbl> & <dbl> & <dbl> & <dbl> & <dbl> & <dbl> & <dbl> & <dbl> & <dbl> & ⋯ & <dbl> & <dbl> & <dbl> & <dbl> & <dbl> & <dbl> & <dbl> & <dbl> & <dbl> & <dbl>\\\\\n",
       "\\hline\n",
       "\t 32 & 0 & 1 & 0 & 0 & 12 &     0 & 0 & 1 & 3529 & ⋯ & 0 & 3438 & 0 & 3438 &    0 & 14 & 0 & 13 &  7.070004 & 1024\\\\\n",
       "\t 31 & 0 & 2 & 0 & 0 & 14 &  9500 & 1 & 1 & 2140 & ⋯ & 0 & 5020 & 0 & 5020 &    0 & 11 & 0 &  0 &  1.429999 &  961\\\\\n",
       "\t 44 & 0 & 3 & 0 & 0 & 17 & 42500 & 1 & 1 & 4595 & ⋯ & 1 & 2815 & 0 & 2815 &    0 & 21 & 0 &  0 & 20.529997 & 1936\\\\\n",
       "\t 30 & 0 & 4 & 0 & 0 & 12 & 42500 & 1 & 1 & 3211 & ⋯ & 1 & 3786 & 0 & 3786 &    0 & 12 & 0 & 12 &  9.619998 &  900\\\\\n",
       "\t 64 & 0 & 5 & 0 & 0 & 14 &  2500 & 1 & 1 & 4052 & ⋯ & 1 & 2580 & 0 & 2580 &    0 & 44 & 0 & 33 &  2.750000 & 4096\\\\\n",
       "\t 41 & 0 & 6 & 0 & 0 & 12 &     0 & 1 & 1 & 4812 & ⋯ & 0 & 1205 & 0 &    0 & 1205 & 23 & 0 & 23 & 19.249998 & 1681\\\\\n",
       "\\end{tabular}\n"
      ],
      "text/markdown": [
       "\n",
       "A tibble: 6 × 34\n",
       "\n",
       "| age &lt;dbl&gt; | black &lt;dbl&gt; | case &lt;dbl&gt; | clerical &lt;dbl&gt; | construc &lt;dbl&gt; | educ &lt;dbl&gt; | earns74 &lt;dbl&gt; | gdhlth &lt;dbl&gt; | inlf &lt;dbl&gt; | leis1 &lt;dbl&gt; | ⋯ ⋯ | spwrk75 &lt;dbl&gt; | totwrk &lt;dbl&gt; | union &lt;dbl&gt; | worknrm &lt;dbl&gt; | workscnd &lt;dbl&gt; | exper &lt;dbl&gt; | yngkid &lt;dbl&gt; | yrsmarr &lt;dbl&gt; | hrwage &lt;dbl&gt; | agesq &lt;dbl&gt; |\n",
       "|---|---|---|---|---|---|---|---|---|---|---|---|---|---|---|---|---|---|---|---|---|\n",
       "| 32 | 0 | 1 | 0 | 0 | 12 |     0 | 0 | 1 | 3529 | ⋯ | 0 | 3438 | 0 | 3438 |    0 | 14 | 0 | 13 |  7.070004 | 1024 |\n",
       "| 31 | 0 | 2 | 0 | 0 | 14 |  9500 | 1 | 1 | 2140 | ⋯ | 0 | 5020 | 0 | 5020 |    0 | 11 | 0 |  0 |  1.429999 |  961 |\n",
       "| 44 | 0 | 3 | 0 | 0 | 17 | 42500 | 1 | 1 | 4595 | ⋯ | 1 | 2815 | 0 | 2815 |    0 | 21 | 0 |  0 | 20.529997 | 1936 |\n",
       "| 30 | 0 | 4 | 0 | 0 | 12 | 42500 | 1 | 1 | 3211 | ⋯ | 1 | 3786 | 0 | 3786 |    0 | 12 | 0 | 12 |  9.619998 |  900 |\n",
       "| 64 | 0 | 5 | 0 | 0 | 14 |  2500 | 1 | 1 | 4052 | ⋯ | 1 | 2580 | 0 | 2580 |    0 | 44 | 0 | 33 |  2.750000 | 4096 |\n",
       "| 41 | 0 | 6 | 0 | 0 | 12 |     0 | 1 | 1 | 4812 | ⋯ | 0 | 1205 | 0 |    0 | 1205 | 23 | 0 | 23 | 19.249998 | 1681 |\n",
       "\n"
      ],
      "text/plain": [
       "  age black case clerical construc educ earns74 gdhlth inlf leis1 ⋯ spwrk75\n",
       "1 32  0     1    0        0        12       0   0      1    3529  ⋯ 0      \n",
       "2 31  0     2    0        0        14    9500   1      1    2140  ⋯ 0      \n",
       "3 44  0     3    0        0        17   42500   1      1    4595  ⋯ 1      \n",
       "4 30  0     4    0        0        12   42500   1      1    3211  ⋯ 1      \n",
       "5 64  0     5    0        0        14    2500   1      1    4052  ⋯ 1      \n",
       "6 41  0     6    0        0        12       0   1      1    4812  ⋯ 0      \n",
       "  totwrk union worknrm workscnd exper yngkid yrsmarr hrwage    agesq\n",
       "1 3438   0     3438       0     14    0      13       7.070004 1024 \n",
       "2 5020   0     5020       0     11    0       0       1.429999  961 \n",
       "3 2815   0     2815       0     21    0       0      20.529997 1936 \n",
       "4 3786   0     3786       0     12    0      12       9.619998  900 \n",
       "5 2580   0     2580       0     44    0      33       2.750000 4096 \n",
       "6 1205   0        0    1205     23    0      23      19.249998 1681 "
      ]
     },
     "metadata": {},
     "output_type": "display_data"
    }
   ],
   "source": [
    "# Use head() function to explore the dataframe\n",
    "head(sleep75) # DELETE for Blank"
   ]
  },
  {
   "cell_type": "markdown",
   "id": "c0a33126-a902-44d4-8a3e-5d9b2fe230e9",
   "metadata": {},
   "source": [
    "## Summary stats by groups"
   ]
  },
  {
   "cell_type": "markdown",
   "id": "edec1ef8-8dff-4919-9250-61b66dc2a004",
   "metadata": {},
   "source": [
    "Sometimes we may want to group our data by values of certain variables.\n",
    "\n",
    "For example, we may want to know if the levels of income in our sample differ systematically by gender.\n",
    "\n",
    "Below, we cover three methods for doing so.\n",
    "\n",
    "Note: The relevant varibles in the dataframe are: `earns74` for income and `male` for gender."
   ]
  },
  {
   "cell_type": "markdown",
   "id": "b38d373b-8cf5-46f1-927c-63d4f26c6e9b",
   "metadata": {},
   "source": [
    "### Method 1: Using `filter()`"
   ]
  },
  {
   "cell_type": "markdown",
   "id": "1ab403e9-54f9-4b2c-9be0-2ca330c91ec1",
   "metadata": {},
   "source": [
    "If we want summary statistics from our _sleep75_ data split on the variable _male_, we could use `filter()` to subset the dataset by gender to create two separate datasets and run each through `summarise()`.\n",
    "\n",
    "Note: `filter()` function comes from `dplyr` package."
   ]
  },
  {
   "cell_type": "code",
   "execution_count": 4,
   "id": "9d917053-8209-4649-bd0d-4b570c782242",
   "metadata": {},
   "outputs": [],
   "source": [
    "# Create a new smaller dataframe with subset of observations from \"sleep75\" with only female observations\n",
    "sleep75_male <- filter(sleep75, male == 0) # DELETE for Blank\n",
    "\n",
    "# Create a new smaller dataframe with subset of observations from \"sleep75\" with only male observations\n",
    "sleep75_female <- filter(sleep75, male == 1) # DELETE for Blank"
   ]
  },
  {
   "cell_type": "code",
   "execution_count": 5,
   "id": "61b7543f-846d-4769-864d-e03eaa334805",
   "metadata": {},
   "outputs": [
    {
     "data": {
      "text/html": [
       "<table class=\"dataframe\">\n",
       "<caption>A tibble: 1 × 2</caption>\n",
       "<thead>\n",
       "\t<tr><th scope=col>Count of Observations</th><th scope=col>Average Income</th></tr>\n",
       "\t<tr><th scope=col>&lt;int&gt;</th><th scope=col>&lt;dbl&gt;</th></tr>\n",
       "</thead>\n",
       "<tbody>\n",
       "\t<tr><td>400</td><td>10956.25</td></tr>\n",
       "</tbody>\n",
       "</table>\n"
      ],
      "text/latex": [
       "A tibble: 1 × 2\n",
       "\\begin{tabular}{ll}\n",
       " Count of Observations & Average Income\\\\\n",
       " <int> & <dbl>\\\\\n",
       "\\hline\n",
       "\t 400 & 10956.25\\\\\n",
       "\\end{tabular}\n"
      ],
      "text/markdown": [
       "\n",
       "A tibble: 1 × 2\n",
       "\n",
       "| Count of Observations &lt;int&gt; | Average Income &lt;dbl&gt; |\n",
       "|---|---|\n",
       "| 400 | 10956.25 |\n",
       "\n"
      ],
      "text/plain": [
       "  Count of Observations Average Income\n",
       "1 400                   10956.25      "
      ]
     },
     "metadata": {},
     "output_type": "display_data"
    }
   ],
   "source": [
    "# Use summarise() to find mean income for females only\n",
    "summarise(sleep75_female, \n",
    "          \"Count of Observations\" = n(), \n",
    "          \"Average Income\" = mean(earns74)) # DELETE for Blank"
   ]
  },
  {
   "cell_type": "code",
   "execution_count": 6,
   "id": "eb2e892d-7fe8-47e0-a139-da6ce6f58b11",
   "metadata": {},
   "outputs": [
    {
     "data": {
      "text/html": [
       "<table class=\"dataframe\">\n",
       "<caption>A tibble: 1 × 2</caption>\n",
       "<thead>\n",
       "\t<tr><th scope=col>Count of Observations</th><th scope=col>Average Income</th></tr>\n",
       "\t<tr><th scope=col>&lt;int&gt;</th><th scope=col>&lt;dbl&gt;</th></tr>\n",
       "</thead>\n",
       "<tbody>\n",
       "\t<tr><td>306</td><td>8214.052</td></tr>\n",
       "</tbody>\n",
       "</table>\n"
      ],
      "text/latex": [
       "A tibble: 1 × 2\n",
       "\\begin{tabular}{ll}\n",
       " Count of Observations & Average Income\\\\\n",
       " <int> & <dbl>\\\\\n",
       "\\hline\n",
       "\t 306 & 8214.052\\\\\n",
       "\\end{tabular}\n"
      ],
      "text/markdown": [
       "\n",
       "A tibble: 1 × 2\n",
       "\n",
       "| Count of Observations &lt;int&gt; | Average Income &lt;dbl&gt; |\n",
       "|---|---|\n",
       "| 306 | 8214.052 |\n",
       "\n"
      ],
      "text/plain": [
       "  Count of Observations Average Income\n",
       "1 306                   8214.052      "
      ]
     },
     "metadata": {},
     "output_type": "display_data"
    }
   ],
   "source": [
    "# Use summarise() to find mean income for males only\n",
    "summarise(sleep75_male, \n",
    "          \"Count of Observations\" = n(), \n",
    "          \"Average Income\" = mean(earns74)) # DELETE for Blank"
   ]
  },
  {
   "cell_type": "markdown",
   "id": "a5c71097-316c-4587-bb0c-ab5fcd179601",
   "metadata": {},
   "source": [
    "However, this requires storing multiple objects in memory and running identical summarise() codes twice."
   ]
  },
  {
   "cell_type": "markdown",
   "id": "a96fca20-20ee-4b61-af9a-fe47138f2598",
   "metadata": {},
   "source": [
    "### Method 2: Using `group_by()`"
   ]
  },
  {
   "cell_type": "markdown",
   "id": "012a0614-8a76-4392-b233-33a7335ee45b",
   "metadata": {},
   "source": [
    "Instead, we can perform the same task more cleanly with group by:\n",
    "\n",
    "1 Group the data by the variable male: `sleep75 <- group_by(sleep75, male)`\n",
    "\n",
    "2 Produce summary statistics using summarise(): `summarise(sleep75, \"Count of Observations\" = n(), \"Average Income\" = mean(earns74))`\n",
    "\n",
    "This code produces a table of summary statistics, with one row for females (male = 0) and one row for males (male = 1), as opposed to the default of one row for the entire dataset."
   ]
  },
  {
   "cell_type": "code",
   "execution_count": 7,
   "id": "80571d26-9492-4dbd-a87d-e2f23b88c903",
   "metadata": {},
   "outputs": [
    {
     "data": {
      "text/html": [
       "<table class=\"dataframe\">\n",
       "<caption>A tibble: 2 × 3</caption>\n",
       "<thead>\n",
       "\t<tr><th scope=col>male</th><th scope=col>Count of Observations</th><th scope=col>Average Income</th></tr>\n",
       "\t<tr><th scope=col>&lt;dbl&gt;</th><th scope=col>&lt;int&gt;</th><th scope=col>&lt;dbl&gt;</th></tr>\n",
       "</thead>\n",
       "<tbody>\n",
       "\t<tr><td>0</td><td>306</td><td> 8214.052</td></tr>\n",
       "\t<tr><td>1</td><td>400</td><td>10956.250</td></tr>\n",
       "</tbody>\n",
       "</table>\n"
      ],
      "text/latex": [
       "A tibble: 2 × 3\n",
       "\\begin{tabular}{lll}\n",
       " male & Count of Observations & Average Income\\\\\n",
       " <dbl> & <int> & <dbl>\\\\\n",
       "\\hline\n",
       "\t 0 & 306 &  8214.052\\\\\n",
       "\t 1 & 400 & 10956.250\\\\\n",
       "\\end{tabular}\n"
      ],
      "text/markdown": [
       "\n",
       "A tibble: 2 × 3\n",
       "\n",
       "| male &lt;dbl&gt; | Count of Observations &lt;int&gt; | Average Income &lt;dbl&gt; |\n",
       "|---|---|---|\n",
       "| 0 | 306 |  8214.052 |\n",
       "| 1 | 400 | 10956.250 |\n",
       "\n"
      ],
      "text/plain": [
       "  male Count of Observations Average Income\n",
       "1 0    306                    8214.052     \n",
       "2 1    400                   10956.250     "
      ]
     },
     "metadata": {},
     "output_type": "display_data"
    }
   ],
   "source": [
    "sleep75 <- group_by(sleep75, male)\n",
    "\n",
    "summarise(sleep75, \"Count of Observations\" = n(), \"Average Income\" = mean(earns74))"
   ]
  },
  {
   "cell_type": "markdown",
   "id": "9df9d251-1baf-4db7-a340-a18404028ab1",
   "metadata": {},
   "source": [
    "**First column**: the variable we grouped by\n",
    "\n",
    "**Other columns**: our custom summary statistics\n",
    "\n",
    "**First row**: summary stats for women and other genders (male = 0)\n",
    "\n",
    "**Second row**: summary stats for men (male = 1)"
   ]
  },
  {
   "cell_type": "markdown",
   "id": "0e2d4dda-8420-4e56-8eac-a7daa27eade5",
   "metadata": {},
   "source": [
    "Let's say we want to further create variables based on group membership. We can do that too! If we want a variable equal to this mean of income conditional on gender, we can add it to our grouped data using `mutate()`, again from `dplyr` package:\n",
    "\n",
    "`sleep75 <- mutate(sleep75, inc_avg = mean(earns74))`"
   ]
  },
  {
   "cell_type": "code",
   "execution_count": 8,
   "id": "faa1258c-6376-4e32-b242-228e43139f69",
   "metadata": {},
   "outputs": [],
   "source": [
    "sleep75 <- mutate(sleep75, inc_avg = mean(earns74))"
   ]
  },
  {
   "cell_type": "code",
   "execution_count": 9,
   "id": "5194fe9b-9920-4132-9571-2164025ec5df",
   "metadata": {},
   "outputs": [
    {
     "data": {
      "text/html": [
       "<table class=\"dataframe\">\n",
       "<caption>A grouped_df: 6 × 35</caption>\n",
       "<thead>\n",
       "\t<tr><th scope=col>age</th><th scope=col>black</th><th scope=col>case</th><th scope=col>clerical</th><th scope=col>construc</th><th scope=col>educ</th><th scope=col>earns74</th><th scope=col>gdhlth</th><th scope=col>inlf</th><th scope=col>leis1</th><th scope=col>⋯</th><th scope=col>totwrk</th><th scope=col>union</th><th scope=col>worknrm</th><th scope=col>workscnd</th><th scope=col>exper</th><th scope=col>yngkid</th><th scope=col>yrsmarr</th><th scope=col>hrwage</th><th scope=col>agesq</th><th scope=col>inc_avg</th></tr>\n",
       "\t<tr><th scope=col>&lt;dbl&gt;</th><th scope=col>&lt;dbl&gt;</th><th scope=col>&lt;dbl&gt;</th><th scope=col>&lt;dbl&gt;</th><th scope=col>&lt;dbl&gt;</th><th scope=col>&lt;dbl&gt;</th><th scope=col>&lt;dbl&gt;</th><th scope=col>&lt;dbl&gt;</th><th scope=col>&lt;dbl&gt;</th><th scope=col>&lt;dbl&gt;</th><th scope=col>⋯</th><th scope=col>&lt;dbl&gt;</th><th scope=col>&lt;dbl&gt;</th><th scope=col>&lt;dbl&gt;</th><th scope=col>&lt;dbl&gt;</th><th scope=col>&lt;dbl&gt;</th><th scope=col>&lt;dbl&gt;</th><th scope=col>&lt;dbl&gt;</th><th scope=col>&lt;dbl&gt;</th><th scope=col>&lt;dbl&gt;</th><th scope=col>&lt;dbl&gt;</th></tr>\n",
       "</thead>\n",
       "<tbody>\n",
       "\t<tr><td>32</td><td>0</td><td>1</td><td>0</td><td>0</td><td>12</td><td>    0</td><td>0</td><td>1</td><td>3529</td><td>⋯</td><td>3438</td><td>0</td><td>3438</td><td>   0</td><td>14</td><td>0</td><td>13</td><td> 7.070004</td><td>1024</td><td>10956.250</td></tr>\n",
       "\t<tr><td>31</td><td>0</td><td>2</td><td>0</td><td>0</td><td>14</td><td> 9500</td><td>1</td><td>1</td><td>2140</td><td>⋯</td><td>5020</td><td>0</td><td>5020</td><td>   0</td><td>11</td><td>0</td><td> 0</td><td> 1.429999</td><td> 961</td><td>10956.250</td></tr>\n",
       "\t<tr><td>44</td><td>0</td><td>3</td><td>0</td><td>0</td><td>17</td><td>42500</td><td>1</td><td>1</td><td>4595</td><td>⋯</td><td>2815</td><td>0</td><td>2815</td><td>   0</td><td>21</td><td>0</td><td> 0</td><td>20.529997</td><td>1936</td><td>10956.250</td></tr>\n",
       "\t<tr><td>30</td><td>0</td><td>4</td><td>0</td><td>0</td><td>12</td><td>42500</td><td>1</td><td>1</td><td>3211</td><td>⋯</td><td>3786</td><td>0</td><td>3786</td><td>   0</td><td>12</td><td>0</td><td>12</td><td> 9.619998</td><td> 900</td><td> 8214.052</td></tr>\n",
       "\t<tr><td>64</td><td>0</td><td>5</td><td>0</td><td>0</td><td>14</td><td> 2500</td><td>1</td><td>1</td><td>4052</td><td>⋯</td><td>2580</td><td>0</td><td>2580</td><td>   0</td><td>44</td><td>0</td><td>33</td><td> 2.750000</td><td>4096</td><td>10956.250</td></tr>\n",
       "\t<tr><td>41</td><td>0</td><td>6</td><td>0</td><td>0</td><td>12</td><td>    0</td><td>1</td><td>1</td><td>4812</td><td>⋯</td><td>1205</td><td>0</td><td>   0</td><td>1205</td><td>23</td><td>0</td><td>23</td><td>19.249998</td><td>1681</td><td>10956.250</td></tr>\n",
       "</tbody>\n",
       "</table>\n"
      ],
      "text/latex": [
       "A grouped\\_df: 6 × 35\n",
       "\\begin{tabular}{lllllllllllllllllllll}\n",
       " age & black & case & clerical & construc & educ & earns74 & gdhlth & inlf & leis1 & ⋯ & totwrk & union & worknrm & workscnd & exper & yngkid & yrsmarr & hrwage & agesq & inc\\_avg\\\\\n",
       " <dbl> & <dbl> & <dbl> & <dbl> & <dbl> & <dbl> & <dbl> & <dbl> & <dbl> & <dbl> & ⋯ & <dbl> & <dbl> & <dbl> & <dbl> & <dbl> & <dbl> & <dbl> & <dbl> & <dbl> & <dbl>\\\\\n",
       "\\hline\n",
       "\t 32 & 0 & 1 & 0 & 0 & 12 &     0 & 0 & 1 & 3529 & ⋯ & 3438 & 0 & 3438 &    0 & 14 & 0 & 13 &  7.070004 & 1024 & 10956.250\\\\\n",
       "\t 31 & 0 & 2 & 0 & 0 & 14 &  9500 & 1 & 1 & 2140 & ⋯ & 5020 & 0 & 5020 &    0 & 11 & 0 &  0 &  1.429999 &  961 & 10956.250\\\\\n",
       "\t 44 & 0 & 3 & 0 & 0 & 17 & 42500 & 1 & 1 & 4595 & ⋯ & 2815 & 0 & 2815 &    0 & 21 & 0 &  0 & 20.529997 & 1936 & 10956.250\\\\\n",
       "\t 30 & 0 & 4 & 0 & 0 & 12 & 42500 & 1 & 1 & 3211 & ⋯ & 3786 & 0 & 3786 &    0 & 12 & 0 & 12 &  9.619998 &  900 &  8214.052\\\\\n",
       "\t 64 & 0 & 5 & 0 & 0 & 14 &  2500 & 1 & 1 & 4052 & ⋯ & 2580 & 0 & 2580 &    0 & 44 & 0 & 33 &  2.750000 & 4096 & 10956.250\\\\\n",
       "\t 41 & 0 & 6 & 0 & 0 & 12 &     0 & 1 & 1 & 4812 & ⋯ & 1205 & 0 &    0 & 1205 & 23 & 0 & 23 & 19.249998 & 1681 & 10956.250\\\\\n",
       "\\end{tabular}\n"
      ],
      "text/markdown": [
       "\n",
       "A grouped_df: 6 × 35\n",
       "\n",
       "| age &lt;dbl&gt; | black &lt;dbl&gt; | case &lt;dbl&gt; | clerical &lt;dbl&gt; | construc &lt;dbl&gt; | educ &lt;dbl&gt; | earns74 &lt;dbl&gt; | gdhlth &lt;dbl&gt; | inlf &lt;dbl&gt; | leis1 &lt;dbl&gt; | ⋯ ⋯ | totwrk &lt;dbl&gt; | union &lt;dbl&gt; | worknrm &lt;dbl&gt; | workscnd &lt;dbl&gt; | exper &lt;dbl&gt; | yngkid &lt;dbl&gt; | yrsmarr &lt;dbl&gt; | hrwage &lt;dbl&gt; | agesq &lt;dbl&gt; | inc_avg &lt;dbl&gt; |\n",
       "|---|---|---|---|---|---|---|---|---|---|---|---|---|---|---|---|---|---|---|---|---|\n",
       "| 32 | 0 | 1 | 0 | 0 | 12 |     0 | 0 | 1 | 3529 | ⋯ | 3438 | 0 | 3438 |    0 | 14 | 0 | 13 |  7.070004 | 1024 | 10956.250 |\n",
       "| 31 | 0 | 2 | 0 | 0 | 14 |  9500 | 1 | 1 | 2140 | ⋯ | 5020 | 0 | 5020 |    0 | 11 | 0 |  0 |  1.429999 |  961 | 10956.250 |\n",
       "| 44 | 0 | 3 | 0 | 0 | 17 | 42500 | 1 | 1 | 4595 | ⋯ | 2815 | 0 | 2815 |    0 | 21 | 0 |  0 | 20.529997 | 1936 | 10956.250 |\n",
       "| 30 | 0 | 4 | 0 | 0 | 12 | 42500 | 1 | 1 | 3211 | ⋯ | 3786 | 0 | 3786 |    0 | 12 | 0 | 12 |  9.619998 |  900 |  8214.052 |\n",
       "| 64 | 0 | 5 | 0 | 0 | 14 |  2500 | 1 | 1 | 4052 | ⋯ | 2580 | 0 | 2580 |    0 | 44 | 0 | 33 |  2.750000 | 4096 | 10956.250 |\n",
       "| 41 | 0 | 6 | 0 | 0 | 12 |     0 | 1 | 1 | 4812 | ⋯ | 1205 | 0 |    0 | 1205 | 23 | 0 | 23 | 19.249998 | 1681 | 10956.250 |\n",
       "\n"
      ],
      "text/plain": [
       "  age black case clerical construc educ earns74 gdhlth inlf leis1 ⋯ totwrk\n",
       "1 32  0     1    0        0        12       0   0      1    3529  ⋯ 3438  \n",
       "2 31  0     2    0        0        14    9500   1      1    2140  ⋯ 5020  \n",
       "3 44  0     3    0        0        17   42500   1      1    4595  ⋯ 2815  \n",
       "4 30  0     4    0        0        12   42500   1      1    3211  ⋯ 3786  \n",
       "5 64  0     5    0        0        14    2500   1      1    4052  ⋯ 2580  \n",
       "6 41  0     6    0        0        12       0   1      1    4812  ⋯ 1205  \n",
       "  union worknrm workscnd exper yngkid yrsmarr hrwage    agesq inc_avg  \n",
       "1 0     3438       0     14    0      13       7.070004 1024  10956.250\n",
       "2 0     5020       0     11    0       0       1.429999  961  10956.250\n",
       "3 0     2815       0     21    0       0      20.529997 1936  10956.250\n",
       "4 0     3786       0     12    0      12       9.619998  900   8214.052\n",
       "5 0     2580       0     44    0      33       2.750000 4096  10956.250\n",
       "6 0        0    1205     23    0      23      19.249998 1681  10956.250"
      ]
     },
     "metadata": {},
     "output_type": "display_data"
    }
   ],
   "source": [
    "# Take a look at your dataset. It added a new variable named 'inc_avg', and its values are 10956.2 for males and 8214 for females.\n",
    "head(sleep75)"
   ]
  },
  {
   "cell_type": "markdown",
   "id": "d276e6cf-5296-4bb5-b527-31279ebe12fe",
   "metadata": {},
   "source": [
    "Note that all functions like mean(), sd(), min(), quantile(), etc.\n",
    "behave this way with grouped data"
   ]
  },
  {
   "cell_type": "markdown",
   "id": "812c262e-3efa-49b4-889f-0925804c907e",
   "metadata": {},
   "source": [
    "Grouped output from summarise() will have as many rows as values of the grouping variable – we would have had 15 rows if we grouped\n",
    "on years of education!\n",
    "\n",
    "When done with grouped transformations, make sure to use ungroup() on your data to restore the functions to their normal behavior:\n",
    "\n",
    "`sleep75 <- ungroup(sleep75)`\n",
    "\n",
    "You can group by multiple variables, just separate them by commas (i.e. age then education level for all duplicated ages)\n",
    "\n",
    "We could also want to create a new variable equal to the mean of income conditional on race\n",
    "\n",
    "With `group_by()` in tidyverse package we can do both of these!"
   ]
  }
 ],
 "metadata": {
  "kernelspec": {
   "display_name": "R",
   "language": "R",
   "name": "ir"
  },
  "language_info": {
   "codemirror_mode": "r",
   "file_extension": ".r",
   "mimetype": "text/x-r-source",
   "name": "R",
   "pygments_lexer": "r",
   "version": "4.3.2"
  }
 },
 "nbformat": 4,
 "nbformat_minor": 5
}
