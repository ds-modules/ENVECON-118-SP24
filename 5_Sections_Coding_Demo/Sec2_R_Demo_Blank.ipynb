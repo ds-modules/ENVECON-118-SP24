{
 "cells": [
  {
   "cell_type": "markdown",
   "id": "33b475f2-f689-4b37-99ab-7f2046291537",
   "metadata": {},
   "source": [
    "# EEP/IAS C118 - Spring 2024- Section 2"
   ]
  },
  {
   "cell_type": "markdown",
   "id": "dc6a7dd9-9548-47bb-9d8b-7816c12045f7",
   "metadata": {},
   "source": [
    "## Function of the Week: group_by()\n",
    "\n",
    "This week, we will work review usage of the function `group_by()`, which was also covered in R Bootcamp part 1."
   ]
  },
  {
   "cell_type": "markdown",
   "id": "c93956c6-3fd3-427b-89a8-fe876e864d2b",
   "metadata": {},
   "source": [
    "## Preamble & Load Dataset\n",
    "\n",
    "Begin by importing the \"sleep75.dta\" dataset. Note that reading Stata data files (.dta or .DTA) requires the use of the `haven` package, specifically the `read_dta()` function. Let us also call in the `dplyr` function, which will come in handy later on."
   ]
  },
  {
   "cell_type": "code",
   "execution_count": null,
   "id": "824a7830-1cc0-4a1b-8f14-80d92e59d717",
   "metadata": {},
   "outputs": [],
   "source": [
    "# Load \"haven\" and \"dplyr\" package\n"
   ]
  },
  {
   "cell_type": "code",
   "execution_count": null,
   "id": "5013a17a-8df7-4f4a-9fc1-c27426d47efe",
   "metadata": {},
   "outputs": [],
   "source": [
    "# Load in \"sleep75.dta\" and save it as data-frame object \"sleep75\"\n"
   ]
  },
  {
   "cell_type": "code",
   "execution_count": null,
   "id": "184d8232-3788-4aa2-8bae-0ea41d2460a8",
   "metadata": {},
   "outputs": [],
   "source": [
    "# Use head() function to explore the dataframe\n"
   ]
  },
  {
   "cell_type": "markdown",
   "id": "c0a33126-a902-44d4-8a3e-5d9b2fe230e9",
   "metadata": {},
   "source": [
    "## Summary stats by groups"
   ]
  },
  {
   "cell_type": "markdown",
   "id": "edec1ef8-8dff-4919-9250-61b66dc2a004",
   "metadata": {},
   "source": [
    "Sometimes we may want to group our data by values of certain variables.\n",
    "\n",
    "For example, we may want to know if the levels of income in our sample differ systematically by gender.\n",
    "\n",
    "Below, we cover three methods for doing so.\n",
    "\n",
    "Note: The relevant varibles in the dataframe are: `earns74` for income and `male` for gender."
   ]
  },
  {
   "cell_type": "markdown",
   "id": "b38d373b-8cf5-46f1-927c-63d4f26c6e9b",
   "metadata": {},
   "source": [
    "### Method 1: Using `filter()`"
   ]
  },
  {
   "cell_type": "markdown",
   "id": "1ab403e9-54f9-4b2c-9be0-2ca330c91ec1",
   "metadata": {},
   "source": [
    "If we want summary statistics from our _sleep75_ data split on the variable _male_, we could use `filter()` to subset the dataset by gender to create two separate datasets and run each through `summarise()`.\n",
    "\n",
    "Note: `filter()` function comes from `dplyr` package."
   ]
  },
  {
   "cell_type": "code",
   "execution_count": null,
   "id": "9d917053-8209-4649-bd0d-4b570c782242",
   "metadata": {},
   "outputs": [],
   "source": [
    "# Create a new smaller dataframe with subset of observations from \"sleep75\" with only female observations\n",
    "\n",
    "# Create a new smaller dataframe with subset of observations from \"sleep75\" with only male observations\n"
   ]
  },
  {
   "cell_type": "code",
   "execution_count": null,
   "id": "61b7543f-846d-4769-864d-e03eaa334805",
   "metadata": {},
   "outputs": [],
   "source": [
    "# Use summarise() to find mean income for females only\n"
   ]
  },
  {
   "cell_type": "code",
   "execution_count": null,
   "id": "eb2e892d-7fe8-47e0-a139-da6ce6f58b11",
   "metadata": {},
   "outputs": [],
   "source": [
    "# Use summarise() to find mean income for males only\n"
   ]
  },
  {
   "cell_type": "markdown",
   "id": "a5c71097-316c-4587-bb0c-ab5fcd179601",
   "metadata": {},
   "source": [
    "However, this requires storing multiple objects in memory and running identical summarise() codes twice."
   ]
  },
  {
   "cell_type": "markdown",
   "id": "a96fca20-20ee-4b61-af9a-fe47138f2598",
   "metadata": {},
   "source": [
    "### Method 2: Using `group_by()`"
   ]
  },
  {
   "cell_type": "markdown",
   "id": "012a0614-8a76-4392-b233-33a7335ee45b",
   "metadata": {},
   "source": [
    "Instead, we can perform the same task more cleanly with group by:\n",
    "\n",
    "1 Group the data by the variable male: `sleep75 <- group_by(sleep75, male)`\n",
    "\n",
    "2 Produce summary statistics using summarise(): `summarise(sleep75, \"Count of Observations\" = n(), \"Average Income\" = mean(earns74))`\n",
    "\n",
    "This code produces a table of summary statistics, with one row for females (male = 0) and one row for males (male = 1), as opposed to the default of one row for the entire dataset."
   ]
  },
  {
   "cell_type": "code",
   "execution_count": null,
   "id": "80571d26-9492-4dbd-a87d-e2f23b88c903",
   "metadata": {},
   "outputs": [],
   "source": []
  },
  {
   "cell_type": "markdown",
   "id": "9df9d251-1baf-4db7-a340-a18404028ab1",
   "metadata": {},
   "source": [
    "**First column**: the variable we grouped by\n",
    "\n",
    "**Other columns**: our custom summary statistics\n",
    "\n",
    "**First row**: summary stats for women and other genders (male = 0)\n",
    "\n",
    "**Second row**: summary stats for men (male = 1)"
   ]
  },
  {
   "cell_type": "markdown",
   "id": "0e2d4dda-8420-4e56-8eac-a7daa27eade5",
   "metadata": {},
   "source": [
    "Let's say we want to further create variables based on group membership. We can do that too! If we want a variable equal to this mean of income conditional on gender, we can add it to our grouped data using `mutate()`, again from `dplyr` package:\n",
    "\n",
    "`sleep75 <- mutate(sleep75, inc_avg = mean(earns74))`"
   ]
  },
  {
   "cell_type": "code",
   "execution_count": null,
   "id": "faa1258c-6376-4e32-b242-228e43139f69",
   "metadata": {},
   "outputs": [],
   "source": []
  },
  {
   "cell_type": "code",
   "execution_count": null,
   "id": "5194fe9b-9920-4132-9571-2164025ec5df",
   "metadata": {},
   "outputs": [],
   "source": [
    "# Take a look at your dataset. It added a new variable named 'inc_avg', and its values are 10956.2 for males and 8214 for females.\n"
   ]
  },
  {
   "cell_type": "markdown",
   "id": "d276e6cf-5296-4bb5-b527-31279ebe12fe",
   "metadata": {},
   "source": [
    "Note that all functions like mean(), sd(), min(), quantile(), etc.\n",
    "behave this way with grouped data"
   ]
  },
  {
   "cell_type": "markdown",
   "id": "812c262e-3efa-49b4-889f-0925804c907e",
   "metadata": {},
   "source": [
    "Grouped output from summarise() will have as many rows as values of the grouping variable – we would have had 15 rows if we grouped\n",
    "on years of education!\n",
    "\n",
    "When done with grouped transformations, make sure to use ungroup() on your data to restore the functions to their normal behavior:\n",
    "\n",
    "`sleep75 <- ungroup(sleep75)`\n",
    "\n",
    "You can group by multiple variables, just separate them by commas (i.e. age then education level for all duplicated ages)\n",
    "\n",
    "We could also want to create a new variable equal to the mean of income conditional on race\n",
    "\n",
    "With `group_by()` in tidyverse package we can do both of these!"
   ]
  }
 ],
 "metadata": {
  "kernelspec": {
   "display_name": "R",
   "language": "R",
   "name": "ir"
  },
  "language_info": {
   "codemirror_mode": "r",
   "file_extension": ".r",
   "mimetype": "text/x-r-source",
   "name": "R",
   "pygments_lexer": "r",
   "version": "4.3.2"
  }
 },
 "nbformat": 4,
 "nbformat_minor": 5
}
