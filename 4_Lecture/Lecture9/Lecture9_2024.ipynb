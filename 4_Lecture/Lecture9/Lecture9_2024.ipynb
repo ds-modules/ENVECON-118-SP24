{
 "cells": [
  {
   "cell_type": "markdown",
   "id": "35ada569-515b-461e-91d7-5f86d19472b8",
   "metadata": {},
   "source": [
    "# Lecture 9- Spring 2024\n",
    "# Villas-Boas\n",
    "\n",
    "# Lecture 9 EEP 118 Spring 2024\n",
    "\n"
   ]
  },
  {
   "cell_type": "code",
   "execution_count": null,
   "id": "c2d55630-5544-43f0-89bf-fc0b25d2cc4b",
   "metadata": {},
   "outputs": [],
   "source": [
    "# Load the 'pacman' package\n",
    "library(pacman) \n",
    "#packages to use load them now using the pacman \"manager\"\n",
    "p_load(dplyr, readr) \n",
    "#Another great feature of p_load(): if you try to load a package that is not installed on your machine, p_load() install the package for you, rather than throwing an error. For instance, let’s install and load one final package named ggplot2. \n",
    "p_load(ggplot2)\n",
    "\n",
    "#set scientific display off, thank you Roy\n",
    "options(scipen=999)\n",
    "\n",
    "# Loading packages\n",
    "pacman::p_load(lfe, lmtest, haven, sandwich, tidyverse,psych)\n",
    "# lfe for running fixed effects regression\n",
    "# lmtest for displaying robust SE in output table\n",
    "# haven for loading in dta files\n",
    "# sandwich for producing robust Var-Cov matrix\n",
    "# tidyverse for manipulating data and producing plots\n",
    "# psych for using describe later on\n",
    "\n",
    "\n"
   ]
  },
  {
   "cell_type": "code",
   "execution_count": null,
   "id": "374492e7-7ae3-461c-a19e-db22081b78cc",
   "metadata": {},
   "outputs": [],
   "source": [
    "#-------------------------------------------\n",
    "#1. Read in data\n",
    "#-------------------------------------------\n",
    "my_data <- read_dta(\"data2024.dta\")\n",
    "head(my_data)"
   ]
  },
  {
   "cell_type": "code",
   "execution_count": null,
   "id": "c310f961-0a90-4ed2-9542-308b3280c420",
   "metadata": {},
   "outputs": [],
   "source": [
    "#describe data\n",
    "describe(my_data,skew = FALSE)\n",
    "\n",
    "# 108 total responses"
   ]
  },
  {
   "cell_type": "markdown",
   "id": "153865e0-c5a5-488c-af43-1f9bfe42f139",
   "metadata": {},
   "source": [
    "### Select coming to class subsample and how many came to class?"
   ]
  },
  {
   "cell_type": "code",
   "execution_count": null,
   "id": "1ff3b772-080d-4626-b0ca-7b29702f5e7d",
   "metadata": {},
   "outputs": [],
   "source": [
    "#select coming to class subsample \n",
    "my_dataClass <- filter(my_data, went2Class == 1) \n",
    "\n",
    "#how many are there that came to class?\n",
    "summarise(my_dataClass, trimmed_count = n())\n",
    "\n",
    "#answer 101 out of 108 came to class"
   ]
  },
  {
   "cell_type": "code",
   "execution_count": null,
   "id": "345d9321-9981-427f-a987-f5a572fbf549",
   "metadata": {},
   "outputs": [],
   "source": [
    "# what is the proportion of correct both for those coming to class?\n",
    "mean(my_dataClass$correctboth)"
   ]
  },
  {
   "cell_type": "code",
   "execution_count": null,
   "id": "328baf75-5172-4e4d-828e-6ef423c6286c",
   "metadata": {},
   "outputs": [],
   "source": [
    "#Lets call that phat_c   p hat for having come to class\"\n",
    "\n",
    "phat_c<-mean(my_dataClass$correctboth)\n",
    "phat_c"
   ]
  },
  {
   "cell_type": "markdown",
   "id": "d438adfa-2ac8-41d1-9f38-d929b4d4929d",
   "metadata": {},
   "source": [
    "## Select not coming to class subsample and how many did not come to class?"
   ]
  },
  {
   "cell_type": "code",
   "execution_count": null,
   "id": "44f998be-e985-48b6-bfc9-4a46ff4a6300",
   "metadata": {},
   "outputs": [],
   "source": [
    "#select not coming to class subsample \n",
    "my_dataNotClass <- filter(my_data, went2Class == 0) \n",
    "\n",
    "#how many are there that did not come to class?\n",
    "summarise(my_dataNotClass, trimmed_count = n())\n",
    "\n",
    "#answer 7 out of 108 did not come to class"
   ]
  },
  {
   "cell_type": "code",
   "execution_count": null,
   "id": "4793e953-f897-4e18-bf72-19f53bf3d463",
   "metadata": {},
   "outputs": [],
   "source": [
    "#Lets call that phat_nc   the proportion of people that answered correctly both questions among those that did not \n",
    "#come to class \" p hat_nc, with  nc  for having not come to class\"\n",
    "\n",
    "phat_nc<-mean(my_dataNotClass$correctboth)\n",
    "phat_nc"
   ]
  },
  {
   "cell_type": "markdown",
   "id": "4794271f-9bd4-457e-87cb-44373fcd4749",
   "metadata": {},
   "source": [
    "## Question: \n",
    "Test whether the proportion of answering both correctly for those\n",
    "that came to class (p_c) is\n",
    "statistically different from those that did not (p_nc)\n",
    "\n",
    "## Recall the 5 step-procedure for hypothesis testing.\n",
    "\n",
    "\n",
    "\n",
    "let D=p_c - p_nc  the diffference in proportions\n",
    "\n",
    "## Step 1: D=0 null, alternative not equal two sided.\n",
    "\n",
    "## Step 2: construct the test stat\n",
    "\n",
    "For that we need the vriance and standard errors of phat_c and phat_nc\n"
   ]
  },
  {
   "cell_type": "code",
   "execution_count": null,
   "id": "6fddda93-083c-424a-a249-9c8bcb2c1763",
   "metadata": {},
   "outputs": [],
   "source": [
    "#get variance and se for phat Class\n",
    "var_phat_c<-phat_c*(1-phat_c)/nrow(my_dataClass)\n",
    "\n",
    "var_phat_c\n"
   ]
  },
  {
   "cell_type": "code",
   "execution_count": null,
   "id": "6a7af775-ddad-4b12-a064-87eb915984a1",
   "metadata": {},
   "outputs": [],
   "source": [
    "#stad error\n",
    "se_phat_c<-sqrt(var_phat_c)\n",
    "se_phat_c"
   ]
  },
  {
   "cell_type": "code",
   "execution_count": null,
   "id": "1b16cb1c-b259-467b-afa6-18606b057989",
   "metadata": {},
   "outputs": [],
   "source": [
    "\n",
    "#get variance and std for phat no class\n",
    "var_phat_nc<-phat_nc*(1-phat_nc)/nrow(my_dataNotClass)\n",
    "se_phat_nc<-sqrt(var_phat_nc)\n"
   ]
  },
  {
   "cell_type": "code",
   "execution_count": null,
   "id": "d8a6e839-82ab-4fcc-b48e-801871aef06a",
   "metadata": {},
   "outputs": [],
   "source": [
    "#estimate of differend D is Dhat=phat_c-phat_nc\n",
    "D_hat<-phat_c-phat_nc\n"
   ]
  },
  {
   "cell_type": "code",
   "execution_count": null,
   "id": "7c96bc23-3041-4ed7-b832-c6093c0e1a86",
   "metadata": {},
   "outputs": [],
   "source": [
    "#variance of Dhat and std error of D hat\n",
    "Variance_Dhat<-var_phat_c+var_phat_nc\n",
    "#and \n",
    "se_Dhat<-sqrt(Variance_Dhat)\n",
    "se_Dhat\n"
   ]
  },
  {
   "cell_type": "code",
   "execution_count": null,
   "id": "d3b5e35f-e126-49e1-9367-657648b0eecd",
   "metadata": {},
   "outputs": [],
   "source": [
    "#the test statistic is then\n",
    "\n",
    "#t= Dhat/seDhat\n",
    "\n",
    "t_testStatValue<-D_hat/se_Dhat\n",
    "t_testStatValue"
   ]
  },
  {
   "cell_type": "markdown",
   "id": "7ee59cbd-3be8-43a5-bb88-bb12c082addb",
   "metadata": {},
   "source": [
    "##  Step 3: given significance level alpha=10% get the Critical T value for 106 degrees of freedom\n",
    "#get two sided DF=106, 10% critical value \n",
    "\n",
    "#go to the t table\n",
    "\n",
    "you will see that \n",
    "\r",
    "t_crit<-1.66\n",
    "\n"
   ]
  },
  {
   "cell_type": "code",
   "execution_count": null,
   "id": "2a2eb499-4319-4d02-b838-f9258c7700cc",
   "metadata": {},
   "outputs": [],
   "source": [
    "#or get it in R by\n",
    "tcritical<-qt(0.05,106,lower.tail=FALSE)\n",
    "tcritical\n",
    "\n",
    "#this gives you the t value that has 5 percent mass higher than it, which is what we want"
   ]
  },
  {
   "cell_type": "code",
   "execution_count": null,
   "id": "12d2da19-4ade-48b2-b266-1a1b2e08dbd1",
   "metadata": {},
   "outputs": [],
   "source": [
    "\n",
    "#the other critical value that has 5% less than it in prob mass is the symmetric of tcritical\n",
    "\n",
    "tcriticallower<-qt(0.05,106,lower.tail=TRUE)\n",
    "tcriticallower"
   ]
  },
  {
   "cell_type": "markdown",
   "id": "03578886-aad7-4b9c-ae88-e10f823afb77",
   "metadata": {},
   "source": [
    "## Step 4: Compare t with t critical\n",
    "\n",
    "If the absolute value of t is less than the absolute value of tcritical then we fall in the non rejection area, \n",
    "that is, if abs(t)<abs(tcritical) then cannot reject the null of step 1\n",
    "\n",
    "\n",
    "If the absolute value of t is greater than the absolute value of tcritical then we fall in the rejection area, \n",
    "that is, if abs(t)>abs(tcritical) then we reject the null of step 1"
   ]
  },
  {
   "cell_type": "code",
   "execution_count": null,
   "id": "d42a6833-87e1-4bd3-a0a9-e42f6ba22e6b",
   "metadata": {},
   "outputs": [],
   "source": [
    "#what do you find?\n",
    "#since absol t less than absol c we cannot reject the null\n",
    "\n"
   ]
  },
  {
   "cell_type": "markdown",
   "id": "08c9d126-8246-4493-b15d-12008b95da1d",
   "metadata": {},
   "source": [
    "## Step 5: Conclude. \n",
    "\n",
    "In this case, we cannot reject that both proportions are the same at the 10% significance level against a two sided alternative"
   ]
  },
  {
   "cell_type": "markdown",
   "id": "ca664fe1-dda2-4521-a9e0-bf08bd3dd3d7",
   "metadata": {},
   "source": [
    "# Final Task, and repeat as daily assignment at some point, please\n",
    "\n",
    "Test at the 10% significance level whether you can reject the null that the average number of correct answers is the same for the sample of those coming to class as the sample of those not coming to class"
   ]
  },
  {
   "cell_type": "markdown",
   "id": "db13d2d7-eddb-4f7e-918c-2a973ed5b46d",
   "metadata": {},
   "source": [
    "Let us look at the number of correct answers by the respondent, given by the variable my_data$numberCorrect\n",
    "\n",
    "How would you compute the average number of correct answers int he sample?"
   ]
  },
  {
   "cell_type": "code",
   "execution_count": null,
   "id": "f59a6e5c-f2ce-4125-86f9-c0976048a5ed",
   "metadata": {},
   "outputs": [],
   "source": []
  },
  {
   "cell_type": "markdown",
   "id": "cd8d2a5f-372e-414b-9232-7f99ab92906e",
   "metadata": {},
   "source": [
    "Solution: answer is obtained by running in the command line above the following command\n",
    "\n",
    "\n",
    "mean(my_data$numberCorrect)\r\n",
    "\n",
    "#answer is 1.52778\n"
   ]
  },
  {
   "cell_type": "markdown",
   "id": "9958109c-2b32-4d23-a2f3-e1eedca1967f",
   "metadata": {},
   "source": [
    "Test at the 10% significance level whether you can reject the null that the average number of correct answers is the same\n",
    "for the sample of those coming to class as the sample of those not coming to class\n",
    "\n",
    "Let N_c be the population mean number of correct answers for those coming to class\n",
    "\n",
    "Let N_nc be the population mean number of correct answers for those not coming to class\n",
    "\n",
    "Let D=N_c - N_nc  be the difference of the two\n"
   ]
  },
  {
   "cell_type": "markdown",
   "id": "f7312e40-551a-4c7e-9362-819a63e54c8b",
   "metadata": {},
   "source": [
    "### Step 1 specify the null and the alternative\n",
    "\n"
   ]
  },
  {
   "cell_type": "markdown",
   "id": "2f38a82e-d8b1-4e19-9920-81966f663e9a",
   "metadata": {},
   "source": []
  },
  {
   "cell_type": "markdown",
   "id": "1171eedd-63bc-4122-a01e-0d0f260d26b9",
   "metadata": {},
   "source": [
    "Answer : H0: N_c = N_nc    or N_c - N_nc = 0 or D=0\n",
    "\n",
    "Ha: D not equal to zero"
   ]
  },
  {
   "cell_type": "markdown",
   "id": "51d4d20c-58f9-490c-9d3a-42c2e6dbc23a",
   "metadata": {},
   "source": [
    "### step 2: Construct the t stat"
   ]
  },
  {
   "cell_type": "markdown",
   "id": "64591a18-7c46-4eee-b854-25fee3597cc8",
   "metadata": {},
   "source": [
    "Things you need to run in the line above\n",
    "\n",
    "#what is the average number of correct answers for those coming to class Nbar_c\n",
    "\r",
    "Nhat_c<-mean(my_dataClass$numberCorrect)\n",
    "\r",
    "#answer is  1.574257\n",
    "\n",
    "\n",
    "#what is the average number of correct answers for those coming to class Nbar_nc\n",
    "\n",
    "Nhat_nc<-mean(my_dataNotClass$numberCorrect)\r",
    "\r",
    "#it is 0.8571429\n",
    "\n",
    "#then get the variances and std errors for average Number correct for those coming to class Var_Nbar_c   and se_Nbar_c\n",
    "and for average number correct for those not coming to class  Var_Nbar_nc and  se_Nbar_nc\n",
    "\n",
    "\n",
    "\n",
    "#get variance and std error for number of correct answers for those coming to Class \n",
    "\n",
    "\r",
    "var_Nhat_c<-var(my_dataClass$numberCorrect)/nrow(my_dataClass)\n",
    "\r\n",
    "se_Nhat_c<-sqrt(var_Nhat_c)\n",
    "\r\n",
    "\r",
    "#get variance and std error for number of correct answers for those not coming to class\n",
    "\r\n",
    "var_Nhat_nc<-var(my_dataNotClass$numberCorrect)/nrow(my_dataNotClass)\n",
    "\n",
    "\n",
    "se_Nhat_nc<-sqrt(var_Nhat_nc)\n",
    "\n"
   ]
  },
  {
   "cell_type": "markdown",
   "id": "26e7f8a1-86b9-46bd-b071-e13daf1566b5",
   "metadata": {},
   "source": [
    "\n",
    "# now we can do hypothesis testing using the five steps\n",
    "\n",
    "## step 1\n",
    "\n",
    "#Ho: D=0  \n",
    "\n",
    "#Ha D not equal to 0\n",
    "\n",
    "\n",
    "#where D=population Mean of Number correct for those coming to class minus \n",
    "#population  Mean of number correct of those not coming to class\n",
    "\n",
    "\n",
    "\n",
    "## step 2: construct the t statistic\n",
    "\n",
    "#t = (Dhat-Dunder null) / se(Dhat)\n",
    "\n",
    "#Dunder null=0\n",
    "\n",
    "#Dhat=Nhat_c - Nhat_nc\n",
    "\n",
    "#se(Dhat)=square root of [ var(Nhat_c)+var(Nhat_nc) ]\n",
    "\n",
    "\n",
    "#step 2: construct the t statistic of daily assignment (DA)\n",
    "\n",
    "\n",
    "#t_DA = (Dhat-Dunder null) / se(Dhat)\n",
    "\n",
    "\n",
    "#where Dunder null=0\n",
    "\n",
    "\n",
    "\n",
    "#DhatDA=Nhat_c - Nhat_nc\n",
    "\n",
    "\n",
    "DhatDA<-Nhat_c-Nhat_nc\n",
    "\n",
    "\n",
    "#se(Dhat)=square root of \\[ var(Nhat_c)+var(Nhat_nc) \\]\n",
    "\n",
    "\n",
    "se_DhatDA<-sqrt(var_Nhat_c+var_Nhat_nc)\n",
    "\n",
    "#t of daily assignment t_DA\n",
    "\n",
    "t_DA <- DhatDA / se_DhatDA\n",
    "\n",
    "\n",
    "t_DA\n",
    "\n",
    "\n",
    "#answer is 2.086796\n",
    "\n",
    "#do it in the code cell below"
   ]
  },
  {
   "cell_type": "code",
   "execution_count": null,
   "id": "aa21d324-8982-45ab-813a-0455aa78e6ff",
   "metadata": {},
   "outputs": [],
   "source": []
  },
  {
   "cell_type": "markdown",
   "id": "e2141dd7-2930-4afd-b673-aceaa0cf9ddc",
   "metadata": {},
   "source": [
    "## Step 3: given significance level 10% what is the critical value  we know its 1.659 from above.\n",
    "\n",
    "what about for significance level 5%?\n",
    "\n",
    "#find it in the cell below\n",
    "\n",
    "#answer is obtained by the commands typed (first to get, then to show in output)\n",
    "\n",
    "\n",
    "t_criticalDA<- qt(0.025, 106, lower.tail=FALSE)\n",
    "\n",
    "t_criticalDA"
   ]
  },
  {
   "cell_type": "code",
   "execution_count": null,
   "id": "e59d9e4a-3850-4f22-bc31-b65f88e27d65",
   "metadata": {},
   "outputs": [],
   "source": [
    "t_criticalDA<- qt(0.025, 106, lower.tail=FALSE)\n",
    "t_criticalDA"
   ]
  },
  {
   "cell_type": "markdown",
   "id": "188f372e-b8fb-430b-a4c4-c97dfb035edb",
   "metadata": {},
   "source": [
    "## Step 4: compare the absolute value of your tDA with the absolute value of the tcritical value. what do you conclude in Step 5?"
   ]
  },
  {
   "cell_type": "markdown",
   "id": "8c832ece-4dc2-47cb-8ac6-b774205e08c9",
   "metadata": {},
   "source": [
    "Answer step 4 : the absolute value of the t stat is 2.08 is greater than the absolute \n",
    "value of the critical t of 1.9825972617655\n",
    "\n",
    "\r",
    "so we land in the rejection area of this two-sided test\r\n",
    "\n",
    "Answer step 5: \n",
    "so we reject the null that the mean of number of correct answers for those coming to class is the same as the mean of the number of correct answers for those not coming to class, against the alternative of the means being different at the 5 percent significance level.\n",
    "\n",
    "\n",
    "## based on this test, reject that it does not matter coming to class in terms of the Null that the number of correct answers in the population would have the same mean regardless of coming or not coming to class  !\n",
    "\n",
    "So, do come to class :-)\n",
    "\n",
    "\n",
    "I will write the entire code now to solve the task in the cell below\n"
   ]
  },
  {
   "cell_type": "code",
   "execution_count": null,
   "id": "a9455f21-05ed-4417-b14e-77e168c5d9a1",
   "metadata": {},
   "outputs": [],
   "source": []
  },
  {
   "cell_type": "markdown",
   "id": "7a5f55d8-938e-414b-8fa2-429fdedb8c34",
   "metadata": {},
   "source": [
    "# the end"
   ]
  },
  {
   "cell_type": "code",
   "execution_count": null,
   "id": "97cb2264-db49-4a7e-9d43-add9ff316fe4",
   "metadata": {},
   "outputs": [],
   "source": []
  }
 ],
 "metadata": {
  "kernelspec": {
   "display_name": "R",
   "language": "R",
   "name": "ir"
  },
  "language_info": {
   "codemirror_mode": "r",
   "file_extension": ".r",
   "mimetype": "text/x-r-source",
   "name": "R",
   "pygments_lexer": "r",
   "version": "4.3.2"
  }
 },
 "nbformat": 4,
 "nbformat_minor": 5
}
