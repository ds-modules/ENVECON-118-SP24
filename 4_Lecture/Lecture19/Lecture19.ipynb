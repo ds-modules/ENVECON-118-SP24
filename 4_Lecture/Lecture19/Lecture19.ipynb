{
 "cells": [
  {
   "attachments": {},
   "cell_type": "markdown",
   "id": "45202013-e314-41d5-902d-700884645657",
   "metadata": {},
   "source": [
    "## Lecture 19 EEP118\n",
    "\n",
    "General Multi Year Panel Data\n",
    "\n",
    "Assumptions for Fixed Effect (FE) Model\n",
    "\n",
    "Policy analysis with Panel Data\n",
    "\n",
    "\n",
    "\n",
    "End chapter 13. Read 14.1\n",
    "\n",
    "See R code on bcourses and also notebook in datahub for this lecture\n",
    "\n",
    "Daily Assignment 19 posted as well as solutions\n",
    "\n",
    "Pset 4 posted see due date in bcourses \u000b",
    "Pset 5 posted soon\n",
    "\n"
   ]
  },
  {
   "attachments": {},
   "cell_type": "markdown",
   "id": "6259fbac",
   "metadata": {},
   "source": [
    "Last class, with a panel of 46 cities and two years of data, 82 and 87, we estimated the following model\n",
    "𝑐𝑟𝑖𝑚𝑒𝑟𝑎𝑡𝑒_𝑖𝑡= 𝛼_𝑖 + 𝛽_1  𝑢𝑛𝑒𝑚_𝑖𝑡 +𝛽_2  𝑑87 + 𝑣_𝑖𝑡\n",
    "\n",
    "\n",
    "𝛽_1  = controlling for all the characteristics of the cities that do not vary over time (𝛼_𝑖  fixed effects ) and for the general effect of time common to all cities (d87) a one percent point increase in unemployment induces a 𝛽_1  increase in crime rate (number crimes per 100 people)\n",
    "\n",
    "\n",
    "we used Lecture18_CRIME2 .dta   \n",
    "\n",
    "and estimated a model\n",
    "\n",
    "reg6n <- lm(crmrte ~ unem + d87+ +offarea+lawexpc+pcinc+factor(city) , data = mydata) \n",
    "summary(reg6n)\n",
    "\n",
    "How did we interpret beta hat for unemployment?\n",
    "\n",
    "Controlling for all constant characteristics of cities (that do not vary over time) =city fixed effects, and for effect of time (dummy for year 87) that captures changes in 1987 relative to 1982 factors that affect crime rate that are common to all cities,  and controlling for officer per area, law espenditures, per capita income,\n",
    "a 1 percentage point increase in\n",
    " unemployment rate  induces a significant\n",
    " 2.932 per thousand increase in crime rate \n",
    "\n",
    "\n",
    "\n"
   ]
  },
  {
   "attachments": {},
   "cell_type": "markdown",
   "id": "2d0d6849",
   "metadata": {},
   "source": [
    "Last lecture we had two years of data\n",
    "\n",
    "Generalizing to many years is mechanically very easy and will open the door to many new analyses\n",
    "\n",
    "Illustration of multi-year panel data analysis: \n",
    "\n",
    "# We will measure the impact of Enterprise Zones (EZ) on employment\n",
    "\n",
    "\n",
    "Data: 22 cities in Indiana, from 1980 to 1988\n",
    "22 cities and many years of data\n",
    "\n",
    "Multi-year panel data:  Impact of enterprise zones on employment\n",
    "Source:  data file EZUNEM (Wooldridge). 22 cities in Indiana, from 1980 to 1988\n",
    "\n",
    "\n",
    "Six city enterprise zones created in 1984, and 4 more city EZ created in 1985.\n",
    "\n"
   ]
  },
  {
   "cell_type": "code",
   "execution_count": 1,
   "id": "2a63d91f-6d11-4908-8254-399c7a23a5e3",
   "metadata": {},
   "outputs": [],
   "source": [
    "# Load the 'pacman' package\n",
    "library(pacman) \n",
    "#packages to use load them now using the pacman \"manager\"\n",
    "p_load(dplyr, haven, readr) \n",
    "#Another great feature of p_load(): if you try to load a package that is not installed on your machine, p_load() install the package for you, rather than throwing an error. For instance, let’s install and load one final package named ggplot2. \n",
    "p_load(ggplot2)\n",
    "\n",
    "\n",
    "pacman::p_load(lfe, lmtest, haven, sandwich, tidyverse)\n",
    "# lfe for running fixed effects regression\n",
    "# lmtest for displaying robust SE in output table\n",
    "# haven for loading in dta files\n",
    "# sandwich for producing robust Var-Cov matrix\n",
    "# tidyverse for manipulating data and producing plots\n",
    "\n",
    "\n",
    "#change into Lecture 19 directory\n",
    "#setwd(\"/Users/sofiavillas-boas/Dropbox/EEP118_Spring2023/Lectures/Lecture19\")\n",
    "\n",
    "\n",
    "pacman::p_load(lfe, haven, tidyverse)\n",
    "\n",
    "\n"
   ]
  },
  {
   "cell_type": "code",
   "execution_count": 2,
   "id": "90010501-22f1-4455-8ae6-408d7f42c0a1",
   "metadata": {
    "scrolled": true
   },
   "outputs": [
    {
     "data": {
      "text/html": [
       "<table class=\"dataframe\">\n",
       "<caption>A tibble: 6 × 37</caption>\n",
       "<thead>\n",
       "\t<tr><th scope=col>year</th><th scope=col>uclms</th><th scope=col>ez</th><th scope=col>d81</th><th scope=col>d82</th><th scope=col>d83</th><th scope=col>d84</th><th scope=col>d85</th><th scope=col>d86</th><th scope=col>d87</th><th scope=col>⋯</th><th scope=col>c17</th><th scope=col>c18</th><th scope=col>c19</th><th scope=col>c20</th><th scope=col>c21</th><th scope=col>c22</th><th scope=col>luclms</th><th scope=col>guclms</th><th scope=col>cez</th><th scope=col>city</th></tr>\n",
       "\t<tr><th scope=col>&lt;dbl&gt;</th><th scope=col>&lt;dbl&gt;</th><th scope=col>&lt;dbl&gt;</th><th scope=col>&lt;dbl&gt;</th><th scope=col>&lt;dbl&gt;</th><th scope=col>&lt;dbl&gt;</th><th scope=col>&lt;dbl&gt;</th><th scope=col>&lt;dbl&gt;</th><th scope=col>&lt;dbl&gt;</th><th scope=col>&lt;dbl&gt;</th><th scope=col>⋯</th><th scope=col>&lt;dbl&gt;</th><th scope=col>&lt;dbl&gt;</th><th scope=col>&lt;dbl&gt;</th><th scope=col>&lt;dbl&gt;</th><th scope=col>&lt;dbl&gt;</th><th scope=col>&lt;dbl&gt;</th><th scope=col>&lt;dbl&gt;</th><th scope=col>&lt;dbl&gt;</th><th scope=col>&lt;dbl&gt;</th><th scope=col>&lt;dbl&gt;</th></tr>\n",
       "</thead>\n",
       "<tbody>\n",
       "\t<tr><td>1980</td><td>166746</td><td>0</td><td>0</td><td>0</td><td>0</td><td>0</td><td>0</td><td>0</td><td>0</td><td>⋯</td><td>0</td><td>0</td><td>0</td><td>0</td><td>0</td><td>0</td><td>12.02423</td><td>         NA</td><td>NA</td><td>1</td></tr>\n",
       "\t<tr><td>1981</td><td> 83561</td><td>0</td><td>1</td><td>0</td><td>0</td><td>0</td><td>0</td><td>0</td><td>0</td><td>⋯</td><td>0</td><td>0</td><td>0</td><td>0</td><td>0</td><td>0</td><td>11.33333</td><td>-0.69089508</td><td> 0</td><td>1</td></tr>\n",
       "\t<tr><td>1982</td><td>158146</td><td>0</td><td>0</td><td>1</td><td>0</td><td>0</td><td>0</td><td>0</td><td>0</td><td>⋯</td><td>0</td><td>0</td><td>0</td><td>0</td><td>0</td><td>0</td><td>11.97127</td><td> 0.63794231</td><td> 0</td><td>1</td></tr>\n",
       "\t<tr><td>1983</td><td> 83572</td><td>0</td><td>0</td><td>0</td><td>1</td><td>0</td><td>0</td><td>0</td><td>0</td><td>⋯</td><td>0</td><td>0</td><td>0</td><td>0</td><td>0</td><td>0</td><td>11.33346</td><td>-0.63781071</td><td> 0</td><td>1</td></tr>\n",
       "\t<tr><td>1984</td><td> 45949</td><td>1</td><td>0</td><td>0</td><td>0</td><td>1</td><td>0</td><td>0</td><td>0</td><td>⋯</td><td>0</td><td>0</td><td>0</td><td>0</td><td>0</td><td>0</td><td>10.73529</td><td>-0.59817600</td><td> 1</td><td>1</td></tr>\n",
       "\t<tr><td>1985</td><td> 48848</td><td>1</td><td>0</td><td>0</td><td>0</td><td>0</td><td>1</td><td>0</td><td>0</td><td>⋯</td><td>0</td><td>0</td><td>0</td><td>0</td><td>0</td><td>0</td><td>10.79647</td><td> 0.06118107</td><td> 0</td><td>1</td></tr>\n",
       "</tbody>\n",
       "</table>\n"
      ],
      "text/latex": [
       "A tibble: 6 × 37\n",
       "\\begin{tabular}{lllllllllllllllllllll}\n",
       " year & uclms & ez & d81 & d82 & d83 & d84 & d85 & d86 & d87 & ⋯ & c17 & c18 & c19 & c20 & c21 & c22 & luclms & guclms & cez & city\\\\\n",
       " <dbl> & <dbl> & <dbl> & <dbl> & <dbl> & <dbl> & <dbl> & <dbl> & <dbl> & <dbl> & ⋯ & <dbl> & <dbl> & <dbl> & <dbl> & <dbl> & <dbl> & <dbl> & <dbl> & <dbl> & <dbl>\\\\\n",
       "\\hline\n",
       "\t 1980 & 166746 & 0 & 0 & 0 & 0 & 0 & 0 & 0 & 0 & ⋯ & 0 & 0 & 0 & 0 & 0 & 0 & 12.02423 &          NA & NA & 1\\\\\n",
       "\t 1981 &  83561 & 0 & 1 & 0 & 0 & 0 & 0 & 0 & 0 & ⋯ & 0 & 0 & 0 & 0 & 0 & 0 & 11.33333 & -0.69089508 &  0 & 1\\\\\n",
       "\t 1982 & 158146 & 0 & 0 & 1 & 0 & 0 & 0 & 0 & 0 & ⋯ & 0 & 0 & 0 & 0 & 0 & 0 & 11.97127 &  0.63794231 &  0 & 1\\\\\n",
       "\t 1983 &  83572 & 0 & 0 & 0 & 1 & 0 & 0 & 0 & 0 & ⋯ & 0 & 0 & 0 & 0 & 0 & 0 & 11.33346 & -0.63781071 &  0 & 1\\\\\n",
       "\t 1984 &  45949 & 1 & 0 & 0 & 0 & 1 & 0 & 0 & 0 & ⋯ & 0 & 0 & 0 & 0 & 0 & 0 & 10.73529 & -0.59817600 &  1 & 1\\\\\n",
       "\t 1985 &  48848 & 1 & 0 & 0 & 0 & 0 & 1 & 0 & 0 & ⋯ & 0 & 0 & 0 & 0 & 0 & 0 & 10.79647 &  0.06118107 &  0 & 1\\\\\n",
       "\\end{tabular}\n"
      ],
      "text/markdown": [
       "\n",
       "A tibble: 6 × 37\n",
       "\n",
       "| year &lt;dbl&gt; | uclms &lt;dbl&gt; | ez &lt;dbl&gt; | d81 &lt;dbl&gt; | d82 &lt;dbl&gt; | d83 &lt;dbl&gt; | d84 &lt;dbl&gt; | d85 &lt;dbl&gt; | d86 &lt;dbl&gt; | d87 &lt;dbl&gt; | ⋯ ⋯ | c17 &lt;dbl&gt; | c18 &lt;dbl&gt; | c19 &lt;dbl&gt; | c20 &lt;dbl&gt; | c21 &lt;dbl&gt; | c22 &lt;dbl&gt; | luclms &lt;dbl&gt; | guclms &lt;dbl&gt; | cez &lt;dbl&gt; | city &lt;dbl&gt; |\n",
       "|---|---|---|---|---|---|---|---|---|---|---|---|---|---|---|---|---|---|---|---|---|\n",
       "| 1980 | 166746 | 0 | 0 | 0 | 0 | 0 | 0 | 0 | 0 | ⋯ | 0 | 0 | 0 | 0 | 0 | 0 | 12.02423 |          NA | NA | 1 |\n",
       "| 1981 |  83561 | 0 | 1 | 0 | 0 | 0 | 0 | 0 | 0 | ⋯ | 0 | 0 | 0 | 0 | 0 | 0 | 11.33333 | -0.69089508 |  0 | 1 |\n",
       "| 1982 | 158146 | 0 | 0 | 1 | 0 | 0 | 0 | 0 | 0 | ⋯ | 0 | 0 | 0 | 0 | 0 | 0 | 11.97127 |  0.63794231 |  0 | 1 |\n",
       "| 1983 |  83572 | 0 | 0 | 0 | 1 | 0 | 0 | 0 | 0 | ⋯ | 0 | 0 | 0 | 0 | 0 | 0 | 11.33346 | -0.63781071 |  0 | 1 |\n",
       "| 1984 |  45949 | 1 | 0 | 0 | 0 | 1 | 0 | 0 | 0 | ⋯ | 0 | 0 | 0 | 0 | 0 | 0 | 10.73529 | -0.59817600 |  1 | 1 |\n",
       "| 1985 |  48848 | 1 | 0 | 0 | 0 | 0 | 1 | 0 | 0 | ⋯ | 0 | 0 | 0 | 0 | 0 | 0 | 10.79647 |  0.06118107 |  0 | 1 |\n",
       "\n"
      ],
      "text/plain": [
       "  year uclms  ez d81 d82 d83 d84 d85 d86 d87 ⋯ c17 c18 c19 c20 c21 c22 luclms  \n",
       "1 1980 166746 0  0   0   0   0   0   0   0   ⋯ 0   0   0   0   0   0   12.02423\n",
       "2 1981  83561 0  1   0   0   0   0   0   0   ⋯ 0   0   0   0   0   0   11.33333\n",
       "3 1982 158146 0  0   1   0   0   0   0   0   ⋯ 0   0   0   0   0   0   11.97127\n",
       "4 1983  83572 0  0   0   1   0   0   0   0   ⋯ 0   0   0   0   0   0   11.33346\n",
       "5 1984  45949 1  0   0   0   1   0   0   0   ⋯ 0   0   0   0   0   0   10.73529\n",
       "6 1985  48848 1  0   0   0   0   1   0   0   ⋯ 0   0   0   0   0   0   10.79647\n",
       "  guclms      cez city\n",
       "1          NA NA  1   \n",
       "2 -0.69089508  0  1   \n",
       "3  0.63794231  0  1   \n",
       "4 -0.63781071  0  1   \n",
       "5 -0.59817600  1  1   \n",
       "6  0.06118107  0  1   "
      ]
     },
     "metadata": {},
     "output_type": "display_data"
    }
   ],
   "source": [
    "\n",
    "#read in a Stata dataset DATA LECTURE 19\n",
    "mydata <- read_dta(\"Lecture19_ezunem.dta\")\n",
    "head(mydata)\n",
    "\n",
    "#when did city 1 get an EZ?"
   ]
  },
  {
   "cell_type": "markdown",
   "id": "19a7027c",
   "metadata": {},
   "source": [
    "City 1 got EZ=1 in 1984 onwards, so in 1984"
   ]
  },
  {
   "cell_type": "code",
   "execution_count": 3,
   "id": "385fdfb1",
   "metadata": {},
   "outputs": [
    {
     "data": {
      "text/plain": [
       "      year          uclms              ez              d81        \n",
       " Min.   :1980   Min.   : 12360   Min.   :0.0000   Min.   :0.0000  \n",
       " 1st Qu.:1982   1st Qu.: 43922   1st Qu.:0.0000   1st Qu.:0.0000  \n",
       " Median :1984   Median : 69170   Median :0.0000   Median :0.0000  \n",
       " Mean   :1984   Mean   : 95383   Mean   :0.2323   Mean   :0.1111  \n",
       " 3rd Qu.:1986   3rd Qu.:114443   3rd Qu.:0.0000   3rd Qu.:0.0000  \n",
       " Max.   :1988   Max.   :667208   Max.   :1.0000   Max.   :1.0000  \n",
       "                                                                  \n",
       "      d82              d83              d84              d85        \n",
       " Min.   :0.0000   Min.   :0.0000   Min.   :0.0000   Min.   :0.0000  \n",
       " 1st Qu.:0.0000   1st Qu.:0.0000   1st Qu.:0.0000   1st Qu.:0.0000  \n",
       " Median :0.0000   Median :0.0000   Median :0.0000   Median :0.0000  \n",
       " Mean   :0.1111   Mean   :0.1111   Mean   :0.1111   Mean   :0.1111  \n",
       " 3rd Qu.:0.0000   3rd Qu.:0.0000   3rd Qu.:0.0000   3rd Qu.:0.0000  \n",
       " Max.   :1.0000   Max.   :1.0000   Max.   :1.0000   Max.   :1.0000  \n",
       "                                                                    \n",
       "      d86              d87              d88               c1         \n",
       " Min.   :0.0000   Min.   :0.0000   Min.   :0.0000   Min.   :0.00000  \n",
       " 1st Qu.:0.0000   1st Qu.:0.0000   1st Qu.:0.0000   1st Qu.:0.00000  \n",
       " Median :0.0000   Median :0.0000   Median :0.0000   Median :0.00000  \n",
       " Mean   :0.1111   Mean   :0.1111   Mean   :0.1111   Mean   :0.04545  \n",
       " 3rd Qu.:0.0000   3rd Qu.:0.0000   3rd Qu.:0.0000   3rd Qu.:0.00000  \n",
       " Max.   :1.0000   Max.   :1.0000   Max.   :1.0000   Max.   :1.00000  \n",
       "                                                                     \n",
       "       c2                c3                c4                c5         \n",
       " Min.   :0.00000   Min.   :0.00000   Min.   :0.00000   Min.   :0.00000  \n",
       " 1st Qu.:0.00000   1st Qu.:0.00000   1st Qu.:0.00000   1st Qu.:0.00000  \n",
       " Median :0.00000   Median :0.00000   Median :0.00000   Median :0.00000  \n",
       " Mean   :0.04545   Mean   :0.04545   Mean   :0.04545   Mean   :0.04545  \n",
       " 3rd Qu.:0.00000   3rd Qu.:0.00000   3rd Qu.:0.00000   3rd Qu.:0.00000  \n",
       " Max.   :1.00000   Max.   :1.00000   Max.   :1.00000   Max.   :1.00000  \n",
       "                                                                        \n",
       "       c6                c7                c8                c9         \n",
       " Min.   :0.00000   Min.   :0.00000   Min.   :0.00000   Min.   :0.00000  \n",
       " 1st Qu.:0.00000   1st Qu.:0.00000   1st Qu.:0.00000   1st Qu.:0.00000  \n",
       " Median :0.00000   Median :0.00000   Median :0.00000   Median :0.00000  \n",
       " Mean   :0.04545   Mean   :0.04545   Mean   :0.04545   Mean   :0.04545  \n",
       " 3rd Qu.:0.00000   3rd Qu.:0.00000   3rd Qu.:0.00000   3rd Qu.:0.00000  \n",
       " Max.   :1.00000   Max.   :1.00000   Max.   :1.00000   Max.   :1.00000  \n",
       "                                                                        \n",
       "      c10               c11               c12               c13         \n",
       " Min.   :0.00000   Min.   :0.00000   Min.   :0.00000   Min.   :0.00000  \n",
       " 1st Qu.:0.00000   1st Qu.:0.00000   1st Qu.:0.00000   1st Qu.:0.00000  \n",
       " Median :0.00000   Median :0.00000   Median :0.00000   Median :0.00000  \n",
       " Mean   :0.04545   Mean   :0.04545   Mean   :0.04545   Mean   :0.04545  \n",
       " 3rd Qu.:0.00000   3rd Qu.:0.00000   3rd Qu.:0.00000   3rd Qu.:0.00000  \n",
       " Max.   :1.00000   Max.   :1.00000   Max.   :1.00000   Max.   :1.00000  \n",
       "                                                                        \n",
       "      c14               c15               c16               c17         \n",
       " Min.   :0.00000   Min.   :0.00000   Min.   :0.00000   Min.   :0.00000  \n",
       " 1st Qu.:0.00000   1st Qu.:0.00000   1st Qu.:0.00000   1st Qu.:0.00000  \n",
       " Median :0.00000   Median :0.00000   Median :0.00000   Median :0.00000  \n",
       " Mean   :0.04545   Mean   :0.04545   Mean   :0.04545   Mean   :0.04545  \n",
       " 3rd Qu.:0.00000   3rd Qu.:0.00000   3rd Qu.:0.00000   3rd Qu.:0.00000  \n",
       " Max.   :1.00000   Max.   :1.00000   Max.   :1.00000   Max.   :1.00000  \n",
       "                                                                        \n",
       "      c18               c19               c20               c21         \n",
       " Min.   :0.00000   Min.   :0.00000   Min.   :0.00000   Min.   :0.00000  \n",
       " 1st Qu.:0.00000   1st Qu.:0.00000   1st Qu.:0.00000   1st Qu.:0.00000  \n",
       " Median :0.00000   Median :0.00000   Median :0.00000   Median :0.00000  \n",
       " Mean   :0.04545   Mean   :0.04545   Mean   :0.04545   Mean   :0.04545  \n",
       " 3rd Qu.:0.00000   3rd Qu.:0.00000   3rd Qu.:0.00000   3rd Qu.:0.00000  \n",
       " Max.   :1.00000   Max.   :1.00000   Max.   :1.00000   Max.   :1.00000  \n",
       "                                                                        \n",
       "      c22              luclms           guclms              cez         \n",
       " Min.   :0.00000   Min.   : 9.422   Min.   :-0.84730   Min.   :0.00000  \n",
       " 1st Qu.:0.00000   1st Qu.:10.690   1st Qu.:-0.38671   1st Qu.:0.00000  \n",
       " Median :0.00000   Median :11.144   Median :-0.21562   Median :0.00000  \n",
       " Mean   :0.04545   Mean   :11.191   Mean   :-0.15939   Mean   :0.05682  \n",
       " 3rd Qu.:0.00000   3rd Qu.:11.648   3rd Qu.: 0.02655   3rd Qu.:0.00000  \n",
       " Max.   :1.00000   Max.   :13.411   Max.   : 0.79429   Max.   :1.00000  \n",
       "                                    NA's   :22         NA's   :22       \n",
       "      city     \n",
       " Min.   : 1.0  \n",
       " 1st Qu.: 6.0  \n",
       " Median :11.5  \n",
       " Mean   :11.5  \n",
       " 3rd Qu.:17.0  \n",
       " Max.   :22.0  \n",
       "               "
      ]
     },
     "metadata": {},
     "output_type": "display_data"
    }
   ],
   "source": [
    "# summarize data\n",
    "summary(mydata)"
   ]
  },
  {
   "cell_type": "markdown",
   "id": "d444241c",
   "metadata": {},
   "source": [
    "We want to estimate the Impact of establishing Enterprise Zones (EZ) on Unemployment\n",
    "\n",
    "The variable 𝑢𝑐𝑙𝑚𝑠_𝑖𝑡 = Unemployment claims at city i and year t\n",
    "\n",
    "The variable 𝐸𝑍_𝑖𝑡=0 if no EZ and=1 if there is an EZ in city i at time t"
   ]
  },
  {
   "cell_type": "markdown",
   "id": "acf8c7f0",
   "metadata": {},
   "source": [
    "uclms is number of unemployment claims file during the year in a city\n",
    "\n",
    "year            1980 to 1988\n",
    "\n",
    "ez              =1 if have enterprise zone, =0 o.w.\n",
    "\n",
    "city             a city identifier from 1 to 22"
   ]
  },
  {
   "attachments": {},
   "cell_type": "markdown",
   "id": "a4d2c1e6",
   "metadata": {},
   "source": [
    "What is the number of observations?    9 years times 22 cities = 198\n",
    "\n",
    "What is the unit of observation?   ->   a city in a year\n",
    "\n",
    "What percent of observations have EZ=1?   ---> .2323232    \n"
   ]
  },
  {
   "attachments": {},
   "cell_type": "markdown",
   "id": "cf40f707",
   "metadata": {},
   "source": [
    "the average of EZ is .2323232   "
   ]
  },
  {
   "attachments": {},
   "cell_type": "markdown",
   "id": "a50866bb",
   "metadata": {},
   "source": [
    "## Create a graph to let us look at evolution of Total unemployment over time\n",
    "\n"
   ]
  },
  {
   "cell_type": "code",
   "execution_count": 4,
   "id": "f4983e6b",
   "metadata": {},
   "outputs": [],
   "source": [
    "# first generate sum of claims by year\n",
    "#The command below creates a column in the original data with sum (over all cities) of unempl claims by year\n",
    "\n",
    "lec19df <- mydata %>%\n",
    "  group_by(year) %>%\n",
    "  mutate(annual_claims = sum(uclms)) %>%\n",
    "  ungroup"
   ]
  },
  {
   "cell_type": "markdown",
   "id": "1d831f4d",
   "metadata": {},
   "source": [
    "make graph of total (sum over all cities) umemployment claims by year"
   ]
  },
  {
   "cell_type": "code",
   "execution_count": 5,
   "id": "045892a9",
   "metadata": {},
   "outputs": [
    {
     "data": {
      "image/png": "[encoded data removed]",
      "text/plain": [
       "plot without title"
      ]
     },
     "metadata": {
      "image/png": {
       "height": 420,
       "width": 420
      }
     },
     "output_type": "display_data"
    }
   ],
   "source": [
    "# plot\n",
    "ggplot(lec19df, aes(x = year, y = annual_claims)) +\n",
    "  geom_line() +\n",
    "  labs(title = \"Unempl Claims by Year in 22 cities\",\n",
    "       x = \"Year\",\n",
    "       y = \"# Unemployment Claims\")"
   ]
  },
  {
   "attachments": {},
   "cell_type": "markdown",
   "id": "31a128df",
   "metadata": {},
   "source": [
    "## Graph Total unemployment claims (Sum of for EZ cities) and then (Sum for non EZ cities) over time\n"
   ]
  },
  {
   "cell_type": "code",
   "execution_count": 6,
   "id": "cf000c30-9bff-4497-ae8f-51befc27974a",
   "metadata": {},
   "outputs": [],
   "source": [
    "# variables for graph for EZ and non EZ cities\n",
    "lec19df <- mydata %>%\n",
    "  group_by(city) %>%\n",
    "  mutate(cityez = ifelse(max(ez)==1, \"EZ\", \"Non-EZ\")) %>%\n",
    "  group_by(year, cityez) %>%\n",
    "  mutate(annual_claims_ez = sum(uclms)) %>%\n",
    "  ungroup()"
   ]
  },
  {
   "cell_type": "code",
   "execution_count": 7,
   "id": "de136772",
   "metadata": {},
   "outputs": [
    {
     "data": {
      "image/png": "[encoded data removed]",
      "text/plain": [
       "plot without title"
      ]
     },
     "metadata": {
      "image/png": {
       "height": 420,
       "width": 420
      }
     },
     "output_type": "display_data"
    }
   ],
   "source": [
    "# plot for EZ and non EZ cities\n",
    "ggplot(lec19df, aes(x = year, y = annual_claims_ez, group = cityez, color = cityez)) +\n",
    "  geom_line() +\n",
    "  scale_color_discrete(name=\"\",\n",
    "                       breaks=c(\"EZ\", \"Non-EZ\"),\n",
    "                       labels=c(\"Cities With EZ after 1984 or 1985\", \"Cities without EZ\")) +\n",
    "  labs(title = \"Unemployment Claims by Year in 22 Cities\",\n",
    "       x = \"Year\",\n",
    "       y = \"# Unemployment Claims\") "
   ]
  },
  {
   "attachments": {},
   "cell_type": "markdown",
   "id": "18a570ff",
   "metadata": {},
   "source": [
    "What do you see?\n",
    "\n",
    "1. A drop in 1982\n",
    "\n",
    "2. 2. EZ cities always had and have lower unemployment\n",
    "\n",
    "\n",
    "3. The difference between red line (cities without EZ) and blue line before 1984 had nothing to do with EZ. Since EZ only happens after 1984 for some cities\n",
    "\n",
    "4.  The switches to EZ are in 1984 and  in 1985\n",
    "\n",
    "\n",
    "5. The path of the blue line cannot be fully attributed to EZ\n",
    "\n",
    "\n",
    "The empirical question is :\n",
    "\n",
    "Does the difference in the two lines increase or decrease when cities adopt EZs?\n",
    "\n"
   ]
  },
  {
   "attachments": {},
   "cell_type": "markdown",
   "id": "9574b50c",
   "metadata": {},
   "source": [
    "## Regression\n",
    "\n",
    "Lets estimate a regression model to investigate whether EZ caused an impact on unemployment\n",
    "\n",
    "\n",
    "Lets consider the relationship between unemployment and EZ over time and across the 22 cities in the data using T years (T=9 here)\n",
    "\n",
    "\n",
    "Model- city j  year t\n",
    "\n",
    " ln⁡(𝑢𝑐𝑙𝑚𝑠)_𝑗𝑡=  𝛽_1  𝐸𝑍_𝑗𝑡 + {aj } + {𝑑𝑡 } + 𝑣_𝑗𝑡\n",
    "\n",
    "\n",
    "Unemployment marginal effect: (𝝏 𝒍𝒏(𝒖𝒄𝒍𝒎𝒔))/(𝑬𝒁 𝟎 𝒕𝒐 𝟏)  = 𝛽_1  percent change in unemployment claims, controlling for constant factors by city and factors common to all cities by year, with city fixed effects, and also year fixed effects, respectively.\n",
    "\n",
    "aj captures all the characteristics of city j that are constant over time and affect unemployment -> that is, it controls for the overall level of unemployment in a city j, a city fixed effect. \n",
    "\n",
    "dt captures overall time patterns, year by year, that is the factors changing over time, that change year by year that affect unemployment and that are common to all cities, a year fixed effect. \n",
    "\n",
    "\n",
    "Short writing for one dummy for ALL BUT ONE city:  a2,  a3, …,a22.\n",
    "\n",
    "And one dummy for all but ONE year (d81, d82, …dT)  exclude 1980\n",
    "\n",
    "\n",
    "\n",
    "For city j in 1980 to 1983 no EZ (EZ=0 for all j and t<1984)\n",
    "\n",
    " ln⁡(𝑢𝑐𝑙𝑚𝑠)_𝑗80=𝛽_0+aj +𝑣_𝑗80          in 1980         \n",
    " \n",
    " --->  constant 𝛽_0  is 1980 (when all   other dyears=0\n",
    " \n",
    " \n",
    " ln⁡(𝑢𝑐𝑙𝑚𝑠)_𝑗81= aj +𝑑81 +𝑣_𝑗81     in 1981\n",
    "\n",
    "For city j at time t, notation, \n",
    "\n",
    "ln⁡(𝑢𝑐𝑙𝑚𝑠)_𝑗𝑡= 𝛽_0+ 𝛽_1  𝐸𝑍_𝑗𝑡_ +aj +𝑑𝑡 +𝑣_𝑗𝑡\n",
    "\n",
    "\n",
    "\n"
   ]
  },
  {
   "cell_type": "code",
   "execution_count": 8,
   "id": "4ea59c18",
   "metadata": {},
   "outputs": [
    {
     "data": {
      "text/plain": [
       "\n",
       "Call:\n",
       "lm(formula = uclms ~ ez, data = lec19df)\n",
       "\n",
       "Residuals:\n",
       "   Min     1Q Median     3Q    Max \n",
       "-94003 -48961 -20850  24958 560845 \n",
       "\n",
       "Coefficients:\n",
       "            Estimate Std. Error t value Pr(>|t|)    \n",
       "(Intercept)   106364       7066  15.052  < 2e-16 ***\n",
       "ez            -47262      14661  -3.224  0.00148 ** \n",
       "---\n",
       "Signif. codes:  0 ‘***’ 0.001 ‘**’ 0.01 ‘*’ 0.05 ‘.’ 0.1 ‘ ’ 1\n",
       "\n",
       "Residual standard error: 87120 on 196 degrees of freedom\n",
       "Multiple R-squared:  0.05035,\tAdjusted R-squared:  0.04551 \n",
       "F-statistic: 10.39 on 1 and 196 DF,  p-value: 0.001482\n"
      ]
     },
     "metadata": {},
     "output_type": "display_data"
    }
   ],
   "source": [
    "#regression in levels\n",
    "reg1 <- lm(uclms ~ ez, data = lec19df)\n",
    "summary(reg1)\n"
   ]
  },
  {
   "cell_type": "code",
   "execution_count": 9,
   "id": "d81f4545",
   "metadata": {},
   "outputs": [
    {
     "data": {
      "text/plain": [
       "\n",
       "Call:\n",
       "lm(formula = luclms ~ ez, data = lec19df)\n",
       "\n",
       "Residuals:\n",
       "     Min       1Q   Median       3Q      Max \n",
       "-1.87835 -0.49217 -0.01882  0.48605  2.11029 \n",
       "\n",
       "Coefficients:\n",
       "            Estimate Std. Error t value Pr(>|t|)    \n",
       "(Intercept) 11.30057    0.05575 202.685  < 2e-16 ***\n",
       "ez          -0.47257    0.11567  -4.085 6.41e-05 ***\n",
       "---\n",
       "Signif. codes:  0 ‘***’ 0.001 ‘**’ 0.01 ‘*’ 0.05 ‘.’ 0.1 ‘ ’ 1\n",
       "\n",
       "Residual standard error: 0.6874 on 196 degrees of freedom\n",
       "Multiple R-squared:  0.07847,\tAdjusted R-squared:  0.07377 \n",
       "F-statistic: 16.69 on 1 and 196 DF,  p-value: 6.411e-05\n"
      ]
     },
     "metadata": {},
     "output_type": "display_data"
    }
   ],
   "source": [
    "\n",
    "#regression in log unemployment\n",
    "reg0 <- lm(luclms ~ ez, data = lec19df)\n",
    "summary(reg0)"
   ]
  },
  {
   "cell_type": "markdown",
   "id": "2e959184",
   "metadata": {},
   "source": [
    "We see that EZ from 0 to 1 reduced ln of log unemployment claims by -0.47 \n",
    "\n",
    "Significantly. Or reduced unclms by 47%. Significant at 1% level. p value is p-value: 6.411e-05\n"
   ]
  },
  {
   "attachments": {},
   "cell_type": "markdown",
   "id": "244bd435",
   "metadata": {},
   "source": [
    "## Fixed effects regression\n",
    "\n",
    "And one dummy for all but ONE year (d81, d82, …dT)  exclude 1980\n",
    "\n",
    "One dummy for ALL BUT ONE city:  a2,  a3, …,a22.  exclude city1\n"
   ]
  },
  {
   "cell_type": "code",
   "execution_count": 10,
   "id": "98a878f0",
   "metadata": {},
   "outputs": [
    {
     "data": {
      "text/plain": [
       "\n",
       "Call:\n",
       "lm(formula = luclms ~ ez + factor(year) + factor(city), data = lec19df)\n",
       "\n",
       "Residuals:\n",
       "     Min       1Q   Median       3Q      Max \n",
       "-0.57618 -0.10837 -0.00977  0.11364  0.49623 \n",
       "\n",
       "Coefficients:\n",
       "                 Estimate Std. Error t value Pr(>|t|)    \n",
       "(Intercept)      11.67615    0.08008 145.807  < 2e-16 ***\n",
       "ez               -0.10441    0.05542  -1.884 0.061291 .  \n",
       "factor(year)1981 -0.32163    0.06046  -5.320 3.30e-07 ***\n",
       "factor(year)1982  0.13550    0.06046   2.241 0.026332 *  \n",
       "factor(year)1983 -0.21926    0.06046  -3.627 0.000381 ***\n",
       "factor(year)1984 -0.57915    0.06232  -9.293  < 2e-16 ***\n",
       "factor(year)1985 -0.59179    0.06550  -9.036 3.92e-16 ***\n",
       "factor(year)1986 -0.62126    0.06550  -9.486  < 2e-16 ***\n",
       "factor(year)1987 -0.88895    0.06550 -13.573  < 2e-16 ***\n",
       "factor(year)1988 -1.22763    0.06550 -18.744  < 2e-16 ***\n",
       "factor(city)2    -0.19349    0.09941  -1.946 0.053292 .  \n",
       "factor(city)3    -0.37894    0.09941  -3.812 0.000194 ***\n",
       "factor(city)4    -0.54118    0.09941  -5.444 1.83e-07 ***\n",
       "factor(city)5     0.01103    0.09472   0.116 0.907423    \n",
       "factor(city)6     0.55458    0.09452   5.867 2.32e-08 ***\n",
       "factor(city)7     0.75006    0.09452   7.935 2.90e-13 ***\n",
       "factor(city)8    -0.05876    0.09472  -0.620 0.535888    \n",
       "factor(city)9     0.35342    0.09472   3.731 0.000261 ***\n",
       "factor(city)10    1.64501    0.09941  16.548  < 2e-16 ***\n",
       "factor(city)11   -0.13032    0.09941  -1.311 0.191694    \n",
       "factor(city)12   -0.03498    0.09941  -0.352 0.725377    \n",
       "factor(city)13   -0.83258    0.09941  -8.375 2.15e-14 ***\n",
       "factor(city)14   -0.87363    0.09472  -9.223  < 2e-16 ***\n",
       "factor(city)15   -0.23542    0.09941  -2.368 0.019020 *  \n",
       "factor(city)16    0.43574    0.09941   4.383 2.06e-05 ***\n",
       "factor(city)17   -0.44523    0.09452  -4.710 5.18e-06 ***\n",
       "factor(city)18   -0.04289    0.09941  -0.431 0.666677    \n",
       "factor(city)19    0.09341    0.09941   0.940 0.348780    \n",
       "factor(city)20   -0.35098    0.09452  -3.713 0.000279 ***\n",
       "factor(city)21    0.45779    0.09452   4.843 2.90e-06 ***\n",
       "factor(city)22    0.21864    0.09941   2.199 0.029229 *  \n",
       "---\n",
       "Signif. codes:  0 ‘***’ 0.001 ‘**’ 0.01 ‘*’ 0.05 ‘.’ 0.1 ‘ ’ 1\n",
       "\n",
       "Residual standard error: 0.2005 on 167 degrees of freedom\n",
       "Multiple R-squared:  0.9332,\tAdjusted R-squared:  0.9212 \n",
       "F-statistic: 77.75 on 30 and 167 DF,  p-value: < 2.2e-16\n"
      ]
     },
     "metadata": {},
     "output_type": "display_data"
    }
   ],
   "source": [
    "#reg with fixed effects and log of unemployment claims as Y variable\n",
    "reg <- lm(luclms ~ ez + factor(year) + factor(city), data = lec19df)\n",
    "summary(reg)\n"
   ]
  },
  {
   "attachments": {},
   "cell_type": "markdown",
   "id": "8e4a91ef",
   "metadata": {},
   "source": [
    "EZ from 0 to 1 reduced log of unemployment claims by -0.10\n",
    "\n",
    "Significantly. Or reduced unclms by 10%. Significant at 6% level.\n"
   ]
  },
  {
   "attachments": {},
   "cell_type": "markdown",
   "id": "156de4a7",
   "metadata": {},
   "source": [
    "what does the intercept estimate mean?\n",
    "\n",
    "Ln uclms hat for city=1 and 1980\n",
    "\n",
    "dummy for all but ONE year to take into account annual differences- exclude 1980\n",
    "\n",
    "\n",
    "One dummy for ALL BUT ONE city exclude city1, to take into account city constant differences\n",
    "\n",
    "\n"
   ]
  },
  {
   "cell_type": "markdown",
   "id": "96f9392f",
   "metadata": {},
   "source": [
    "### If we want to control for FE but not necessarily have all the estimates printed out as output, an equivalent command is in R:"
   ]
  },
  {
   "cell_type": "code",
   "execution_count": 11,
   "id": "af6a1f7c",
   "metadata": {},
   "outputs": [
    {
     "data": {
      "text/plain": [
       "\n",
       "Call:\n",
       "   felm(formula = luclms ~ ez | year + city, data = lec19df) \n",
       "\n",
       "Residuals:\n",
       "     Min       1Q   Median       3Q      Max \n",
       "-0.57618 -0.10837 -0.00977  0.11364  0.49623 \n",
       "\n",
       "Coefficients:\n",
       "   Estimate Std. Error t value Pr(>|t|)  \n",
       "ez -0.10441    0.05542  -1.884   0.0613 .\n",
       "---\n",
       "Signif. codes:  0 ‘***’ 0.001 ‘**’ 0.01 ‘*’ 0.05 ‘.’ 0.1 ‘ ’ 1\n",
       "\n",
       "Residual standard error: 0.2005 on 167 degrees of freedom\n",
       "Multiple R-squared(full model): 0.9332   Adjusted R-squared: 0.9212 \n",
       "Multiple R-squared(proj model): 0.02081   Adjusted R-squared: -0.1551 \n",
       "F-statistic(full model):77.75 on 30 and 167 DF, p-value: < 2.2e-16 \n",
       "F-statistic(proj model):  3.55 on 1 and 167 DF, p-value: 0.06129 \n",
       "\n"
      ]
     },
     "metadata": {},
     "output_type": "display_data"
    }
   ],
   "source": [
    "#xtreg equivalent using felm\n",
    "reg2 <- felm(luclms ~ ez | year + city, data = lec19df)\n",
    "summary(reg2)"
   ]
  },
  {
   "cell_type": "markdown",
   "id": "1563f863",
   "metadata": {},
   "source": [
    "## Make a Table"
   ]
  },
  {
   "cell_type": "code",
   "execution_count": 13,
   "id": "c1749a25",
   "metadata": {},
   "outputs": [],
   "source": [
    "#make table\n",
    "#library(stargazer)\n",
    "#stargazer(list(reg2), type=\"text\",keep.stat=c(\"n\",\"rsq\"))\n",
    "\n",
    "#the above work in R Studio"
   ]
  },
  {
   "cell_type": "markdown",
   "id": "f4e46b4f",
   "metadata": {},
   "source": [
    "# Panel Data Estimates of the Effects of Death Penalty Laws, and Executions on Murder Rates 1960-2000\u000b"
   ]
  },
  {
   "attachments": {},
   "cell_type": "markdown",
   "id": "dcf4c50f",
   "metadata": {},
   "source": [
    "## Another data set now: \n",
    "\n",
    "TODAY, as an example, “Panel Data Estimates of the Effects of Death Penalty Laws on Murder Rates 1960-2000”\n",
    "\n",
    "Using data from FBI that I collected in March 22, 2017 \n",
    "\n",
    "To try to perform a Replication of Donohue and Wolfers (2006) analysis\n",
    "\n"
   ]
  },
  {
   "cell_type": "code",
   "execution_count": 14,
   "id": "e322ec87-126b-4162-a40f-bc0edd3fbb89",
   "metadata": {},
   "outputs": [
    {
     "data": {
      "text/html": [
       "<table class=\"dataframe\">\n",
       "<caption>A tibble: 6 × 93</caption>\n",
       "<thead>\n",
       "\t<tr><th scope=col>year</th><th scope=col>state</th><th scope=col>popul</th><th scope=col>pc_mur</th><th scope=col>pc_rob</th><th scope=col>pc_assa</th><th scope=col>pc_burg</th><th scope=col>pc_larc</th><th scope=col>pc_auto</th><th scope=col>r_infd</th><th scope=col>⋯</th><th scope=col>decade</th><th scope=col>statdec</th><th scope=col>regyear</th><th scope=col>stid</th><th scope=col>sample_ds</th><th scope=col>sample_kls</th><th scope=col>decade_ds</th><th scope=col>ex10</th><th scope=col>active</th><th scope=col>passive</th></tr>\n",
       "\t<tr><th scope=col>&lt;dbl&gt;</th><th scope=col>&lt;dbl&gt;</th><th scope=col>&lt;dbl&gt;</th><th scope=col>&lt;dbl&gt;</th><th scope=col>&lt;dbl&gt;</th><th scope=col>&lt;dbl&gt;</th><th scope=col>&lt;dbl&gt;</th><th scope=col>&lt;dbl&gt;</th><th scope=col>&lt;dbl&gt;</th><th scope=col>&lt;dbl&gt;</th><th scope=col>⋯</th><th scope=col>&lt;dbl&gt;</th><th scope=col>&lt;dbl&gt;</th><th scope=col>&lt;dbl&gt;</th><th scope=col>&lt;dbl&gt;</th><th scope=col>&lt;dbl&gt;</th><th scope=col>&lt;dbl&gt;</th><th scope=col>&lt;dbl&gt;</th><th scope=col>&lt;dbl&gt;</th><th scope=col>&lt;dbl&gt;</th><th scope=col>&lt;dbl&gt;</th></tr>\n",
       "</thead>\n",
       "<tbody>\n",
       "\t<tr><td>1930</td><td>NA</td><td>NA</td><td>NA</td><td>NA</td><td>NA</td><td>NA</td><td>NA</td><td>NA</td><td>NA</td><td>⋯</td><td>193</td><td>1</td><td> NA</td><td>1</td><td>NA</td><td>NA</td><td>1930</td><td>1</td><td>1</td><td>0</td></tr>\n",
       "\t<tr><td>1931</td><td>NA</td><td>NA</td><td>NA</td><td>NA</td><td>NA</td><td>NA</td><td>NA</td><td>NA</td><td>NA</td><td>⋯</td><td>193</td><td>1</td><td> NA</td><td>1</td><td>NA</td><td>NA</td><td>1930</td><td>1</td><td>1</td><td>0</td></tr>\n",
       "\t<tr><td>1932</td><td>NA</td><td>NA</td><td>NA</td><td>NA</td><td>NA</td><td>NA</td><td>NA</td><td>NA</td><td>NA</td><td>⋯</td><td>193</td><td>1</td><td> NA</td><td>1</td><td>NA</td><td>NA</td><td>1930</td><td>1</td><td>1</td><td>0</td></tr>\n",
       "\t<tr><td>1933</td><td> 2</td><td>NA</td><td>NA</td><td>NA</td><td>NA</td><td>NA</td><td>NA</td><td>NA</td><td>NA</td><td>⋯</td><td>193</td><td>1</td><td>217</td><td>1</td><td>NA</td><td>NA</td><td>1930</td><td>1</td><td>1</td><td>0</td></tr>\n",
       "\t<tr><td>1934</td><td> 2</td><td>NA</td><td>NA</td><td>NA</td><td>NA</td><td>NA</td><td>NA</td><td>NA</td><td>NA</td><td>⋯</td><td>193</td><td>1</td><td>218</td><td>1</td><td>NA</td><td>NA</td><td>1930</td><td>1</td><td>1</td><td>0</td></tr>\n",
       "\t<tr><td>1935</td><td> 2</td><td>NA</td><td>NA</td><td>NA</td><td>NA</td><td>NA</td><td>NA</td><td>NA</td><td>NA</td><td>⋯</td><td>193</td><td>1</td><td>219</td><td>1</td><td>NA</td><td>NA</td><td>1930</td><td>1</td><td>1</td><td>0</td></tr>\n",
       "</tbody>\n",
       "</table>\n"
      ],
      "text/latex": [
       "A tibble: 6 × 93\n",
       "\\begin{tabular}{lllllllllllllllllllll}\n",
       " year & state & popul & pc\\_mur & pc\\_rob & pc\\_assa & pc\\_burg & pc\\_larc & pc\\_auto & r\\_infd & ⋯ & decade & statdec & regyear & stid & sample\\_ds & sample\\_kls & decade\\_ds & ex10 & active & passive\\\\\n",
       " <dbl> & <dbl> & <dbl> & <dbl> & <dbl> & <dbl> & <dbl> & <dbl> & <dbl> & <dbl> & ⋯ & <dbl> & <dbl> & <dbl> & <dbl> & <dbl> & <dbl> & <dbl> & <dbl> & <dbl> & <dbl>\\\\\n",
       "\\hline\n",
       "\t 1930 & NA & NA & NA & NA & NA & NA & NA & NA & NA & ⋯ & 193 & 1 &  NA & 1 & NA & NA & 1930 & 1 & 1 & 0\\\\\n",
       "\t 1931 & NA & NA & NA & NA & NA & NA & NA & NA & NA & ⋯ & 193 & 1 &  NA & 1 & NA & NA & 1930 & 1 & 1 & 0\\\\\n",
       "\t 1932 & NA & NA & NA & NA & NA & NA & NA & NA & NA & ⋯ & 193 & 1 &  NA & 1 & NA & NA & 1930 & 1 & 1 & 0\\\\\n",
       "\t 1933 &  2 & NA & NA & NA & NA & NA & NA & NA & NA & ⋯ & 193 & 1 & 217 & 1 & NA & NA & 1930 & 1 & 1 & 0\\\\\n",
       "\t 1934 &  2 & NA & NA & NA & NA & NA & NA & NA & NA & ⋯ & 193 & 1 & 218 & 1 & NA & NA & 1930 & 1 & 1 & 0\\\\\n",
       "\t 1935 &  2 & NA & NA & NA & NA & NA & NA & NA & NA & ⋯ & 193 & 1 & 219 & 1 & NA & NA & 1930 & 1 & 1 & 0\\\\\n",
       "\\end{tabular}\n"
      ],
      "text/markdown": [
       "\n",
       "A tibble: 6 × 93\n",
       "\n",
       "| year &lt;dbl&gt; | state &lt;dbl&gt; | popul &lt;dbl&gt; | pc_mur &lt;dbl&gt; | pc_rob &lt;dbl&gt; | pc_assa &lt;dbl&gt; | pc_burg &lt;dbl&gt; | pc_larc &lt;dbl&gt; | pc_auto &lt;dbl&gt; | r_infd &lt;dbl&gt; | ⋯ ⋯ | decade &lt;dbl&gt; | statdec &lt;dbl&gt; | regyear &lt;dbl&gt; | stid &lt;dbl&gt; | sample_ds &lt;dbl&gt; | sample_kls &lt;dbl&gt; | decade_ds &lt;dbl&gt; | ex10 &lt;dbl&gt; | active &lt;dbl&gt; | passive &lt;dbl&gt; |\n",
       "|---|---|---|---|---|---|---|---|---|---|---|---|---|---|---|---|---|---|---|---|---|\n",
       "| 1930 | NA | NA | NA | NA | NA | NA | NA | NA | NA | ⋯ | 193 | 1 |  NA | 1 | NA | NA | 1930 | 1 | 1 | 0 |\n",
       "| 1931 | NA | NA | NA | NA | NA | NA | NA | NA | NA | ⋯ | 193 | 1 |  NA | 1 | NA | NA | 1930 | 1 | 1 | 0 |\n",
       "| 1932 | NA | NA | NA | NA | NA | NA | NA | NA | NA | ⋯ | 193 | 1 |  NA | 1 | NA | NA | 1930 | 1 | 1 | 0 |\n",
       "| 1933 |  2 | NA | NA | NA | NA | NA | NA | NA | NA | ⋯ | 193 | 1 | 217 | 1 | NA | NA | 1930 | 1 | 1 | 0 |\n",
       "| 1934 |  2 | NA | NA | NA | NA | NA | NA | NA | NA | ⋯ | 193 | 1 | 218 | 1 | NA | NA | 1930 | 1 | 1 | 0 |\n",
       "| 1935 |  2 | NA | NA | NA | NA | NA | NA | NA | NA | ⋯ | 193 | 1 | 219 | 1 | NA | NA | 1930 | 1 | 1 | 0 |\n",
       "\n"
      ],
      "text/plain": [
       "  year state popul pc_mur pc_rob pc_assa pc_burg pc_larc pc_auto r_infd ⋯\n",
       "1 1930 NA    NA    NA     NA     NA      NA      NA      NA      NA     ⋯\n",
       "2 1931 NA    NA    NA     NA     NA      NA      NA      NA      NA     ⋯\n",
       "3 1932 NA    NA    NA     NA     NA      NA      NA      NA      NA     ⋯\n",
       "4 1933  2    NA    NA     NA     NA      NA      NA      NA      NA     ⋯\n",
       "5 1934  2    NA    NA     NA     NA      NA      NA      NA      NA     ⋯\n",
       "6 1935  2    NA    NA     NA     NA      NA      NA      NA      NA     ⋯\n",
       "  decade statdec regyear stid sample_ds sample_kls decade_ds ex10 active\n",
       "1 193    1        NA     1    NA        NA         1930      1    1     \n",
       "2 193    1        NA     1    NA        NA         1930      1    1     \n",
       "3 193    1        NA     1    NA        NA         1930      1    1     \n",
       "4 193    1       217     1    NA        NA         1930      1    1     \n",
       "5 193    1       218     1    NA        NA         1930      1    1     \n",
       "6 193    1       219     1    NA        NA         1930      1    1     \n",
       "  passive\n",
       "1 0      \n",
       "2 0      \n",
       "3 0      \n",
       "4 0      \n",
       "5 0      \n",
       "6 0      "
      ]
     },
     "metadata": {},
     "output_type": "display_data"
    },
    {
     "data": {
      "text/plain": [
       "      year          state         popul             pc_mur      \n",
       " Min.   :1930   Min.   : 1    Min.   :   96.0   Min.   : 0.000  \n",
       " 1st Qu.:1948   1st Qu.:13    1st Qu.:  983.5   1st Qu.: 2.900  \n",
       " Median :1967   Median :26    Median : 2657.0   Median : 5.400  \n",
       " Mean   :1967   Mean   :26    Mean   : 3940.5   Mean   : 6.958  \n",
       " 3rd Qu.:1986   3rd Qu.:39    3rd Qu.: 4757.5   3rd Qu.: 9.400  \n",
       " Max.   :2004   Max.   :51    Max.   :35484.4   Max.   :80.600  \n",
       "                NA's   :153   NA's   :250       NA's   :322     \n",
       "     pc_rob          pc_assa          pc_burg          pc_larc      \n",
       " Min.   :   0.4   Min.   :   0.5   Min.   :  67.8   Min.   :  59.9  \n",
       " 1st Qu.:  30.3   1st Qu.:  44.8   1st Qu.: 387.3   1st Qu.: 553.9  \n",
       " Median :  67.5   Median : 119.8   Median : 642.5   Median :1151.2  \n",
       " Mean   : 101.9   Mean   : 170.3   Mean   : 764.5   Mean   :1499.7  \n",
       " 3rd Qu.: 126.2   3rd Qu.: 246.9   3rd Qu.:1059.9   3rd Qu.:2394.3  \n",
       " Max.   :1635.1   Max.   :1557.6   Max.   :2906.7   Max.   :5372.7  \n",
       " NA's   :284      NA's   :296      NA's   :308      NA's   :994     \n",
       "    pc_auto           r_infd          prisoner         r_execut      \n",
       " Min.   :  32.2   Min.   : 382.1   Min.   :   129   Min.   : 0.0000  \n",
       " 1st Qu.: 163.6   1st Qu.: 940.3   1st Qu.:  1262   1st Qu.: 0.0000  \n",
       " Median : 251.4   Median :1510.0   Median :  2952   Median : 0.0000  \n",
       " Mean   : 311.8   Mean   :1688.6   Mean   :  7858   Mean   : 0.3258  \n",
       " 3rd Qu.: 403.5   3rd Qu.:2360.0   3rd Qu.:  7922   3rd Qu.: 0.0742  \n",
       " Max.   :1839.9   Max.   :5658.7   Max.   :164933   Max.   :12.4046  \n",
       " NA's   :289      NA's   :1136     NA's   :265      NA's   :365      \n",
       "    r_death          cri_prop         cri_viol          pc_pris       \n",
       " Min.   : 0.000   Min.   : 124.2   Min.   :   3.21   Min.   :  20.32  \n",
       " 1st Qu.: 2.031   1st Qu.: 565.5   1st Qu.:  93.80   1st Qu.:  78.34  \n",
       " Median : 3.078   Median : 925.3   Median : 203.80   Median : 112.59  \n",
       " Mean   : 3.749   Mean   :1078.1   Mean   : 281.68   Mean   : 161.00  \n",
       " 3rd Qu.: 4.870   3rd Qu.:1472.0   3rd Qu.: 388.10   3rd Qu.: 184.22  \n",
       " Max.   :32.527   Max.   :4342.3   Max.   :2865.70   Max.   :1785.01  \n",
       " NA's   :606      NA's   :311      NA's   :328       NA's   :327      \n",
       "    pcpris_1          c_pris_1          region         r_black      \n",
       " Min.   :  20.32   Min.   :0.0104   Min.   :1.000   Min.   :0.0000  \n",
       " 1st Qu.:  78.34   1st Qu.:0.0740   1st Qu.:2.000   1st Qu.:0.0112  \n",
       " Median : 112.59   Median :0.1185   Median :3.000   Median :0.0506  \n",
       " Mean   : 161.00   Mean   :0.1357   Mean   :2.667   Mean   :0.0965  \n",
       " 3rd Qu.: 184.22   3rd Qu.:0.1799   3rd Qu.:4.000   3rd Qu.:0.1429  \n",
       " Max.   :1785.01   Max.   :0.8702   Max.   :4.000   Max.   :0.7107  \n",
       " NA's   :327       NA's   :415      NA's   :153     NA's   :386     \n",
       "    r_urban          r_15_24          r_25_44          r_45_64      \n",
       " Min.   :0.1433   Min.   :0.0177   Min.   :0.2042   Min.   :0.1223  \n",
       " 1st Qu.:0.4942   1st Qu.:0.1510   1st Qu.:0.2589   1st Qu.:0.1812  \n",
       " Median :0.6293   Median :0.1679   Median :0.2812   Median :0.1948  \n",
       " Mean   :0.6180   Mean   :0.1662   Mean   :0.2813   Mean   :0.1916  \n",
       " 3rd Qu.:0.7464   3rd Qu.:0.1815   3rd Qu.:0.3032   3rd Qu.:0.2053  \n",
       " Max.   :1.0000   Max.   :0.2340   Max.   :0.3898   Max.   :0.2374  \n",
       " NA's   :357      NA's   :896      NA's   :386      NA's   :896     \n",
       "     r_0_14           r_0_24            r_ue           stname         \n",
       " Min.   :0.1622   Min.   :0.2716   Min.   : 0.100   Length:3825       \n",
       " 1st Qu.:0.2393   1st Qu.:0.3889   1st Qu.: 1.900   Class :character  \n",
       " Median :0.2725   Median :0.4272   Median : 2.800   Mode  :character  \n",
       " Mean   :0.2739   Mean   :0.4280   Mean   : 3.192                     \n",
       " 3rd Qu.:0.3063   3rd Qu.:0.4635   3rd Qu.: 4.100                     \n",
       " Max.   :0.4454   Max.   :0.6441   Max.   :13.900                     \n",
       " NA's   :896      NA's   :386      NA's   :1053                       \n",
       "     execs           pc_exec           execrate           execrt      \n",
       " Min.   : 0.000   Min.   :   0.00   Min.   :  0.000   Min.   :0.0000  \n",
       " 1st Qu.: 0.000   1st Qu.:   0.00   1st Qu.:  0.000   1st Qu.:0.0000  \n",
       " Median : 0.000   Median :   0.00   Median :  0.000   Median :0.0000  \n",
       " Mean   : 1.151   Mean   :  40.09   Mean   :  6.047   Mean   :0.0605  \n",
       " 3rd Qu.: 1.000   3rd Qu.:  22.38   3rd Qu.:  2.954   3rd Qu.:0.0295  \n",
       " Max.   :40.000   Max.   :1935.48   Max.   :359.755   Max.   :3.5976  \n",
       " NA's   :255      NA's   :301       NA's   :377       NA's   :377     \n",
       "      st              klssample         fips         _merge_age   \n",
       " Length:3825        Min.   :1      Min.   : 1.00   Min.   :1.000  \n",
       " Class :character   1st Qu.:1      1st Qu.:16.00   1st Qu.:1.000  \n",
       " Mode  :character   Median :1      Median :29.00   Median :1.000  \n",
       "                    Mean   :1      Mean   :28.96   Mean   :1.164  \n",
       "                    3rd Qu.:1      3rd Qu.:42.00   3rd Qu.:1.000  \n",
       "                    Max.   :1      Max.   :56.00   Max.   :3.000  \n",
       "                    NA's   :1981   NA's   :3111    NA's   :408    \n",
       "  _merge_race    _merge_census2000  _merge_urban     age15to19     \n",
       " Min.   :1.000   Min.   :1.000     Min.   :1.000   Min.   :0.0565  \n",
       " 1st Qu.:1.000   1st Qu.:1.000     1st Qu.:1.000   1st Qu.:0.0741  \n",
       " Median :1.000   Median :1.000     Median :1.000   Median :0.0841  \n",
       " Mean   :1.298   Mean   :1.015     Mean   :1.029   Mean   :0.0836  \n",
       " 3rd Qu.:1.000   3rd Qu.:1.000     3rd Qu.:1.000   3rd Qu.:0.0923  \n",
       " Max.   :3.000   Max.   :2.000     Max.   :3.000   Max.   :0.1262  \n",
       " NA's   :408     NA's   :357       NA's   :357     NA's   :411     \n",
       "   age20to24         nonwhite       _merge_DScensus _merge_CPSunemp\n",
       " Min.   :0.0513   Min.   :0.00000   Min.   :1.000   Min.   :1.00   \n",
       " 1st Qu.:0.0701   1st Qu.:0.03620   1st Qu.:1.000   1st Qu.:1.00   \n",
       " Median :0.0783   Median :0.08196   Median :1.000   Median :1.00   \n",
       " Mean   :0.0786   Mean   :0.13046   Mean   :1.204   Mean   :1.75   \n",
       " 3rd Qu.:0.0863   3rd Qu.:0.17886   3rd Qu.:1.000   3rd Qu.:3.00   \n",
       " Max.   :0.1241   Max.   :0.75895   Max.   :3.000   Max.   :3.00   \n",
       " NA's   :411      NA's   :264       NA's   :357     NA's   :153    \n",
       " _merge_ManpowerUnemp       ur           _merge_ur      population      \n",
       " Min.   :1.000        Min.   : 1.800   Min.   :1.00   Min.   :  226167  \n",
       " 1st Qu.:1.000        1st Qu.: 4.300   1st Qu.:3.00   1st Qu.: 1099000  \n",
       " Median :1.000        Median : 5.400   Median :3.00   Median : 3096612  \n",
       " Mean   :1.556        Mean   : 5.668   Mean   :2.75   Mean   : 4531744  \n",
       " 3rd Qu.:3.000        3rd Qu.: 6.700   3rd Qu.:3.00   3rd Qu.: 5387250  \n",
       " Max.   :3.000        Max.   :17.400   Max.   :3.00   Max.   :35484453  \n",
       " NA's   :153          NA's   :1530     NA's   :153    NA's   :1581      \n",
       " murderandnonnegligentmanslaughte violentcrimerate   murderrate    \n",
       " Min.   :   1                     Min.   :   9.5   Min.   : 0.200  \n",
       " 1st Qu.:  46                     1st Qu.: 177.2   1st Qu.: 3.300  \n",
       " Median : 180                     Median : 328.1   Median : 5.850  \n",
       " Mean   : 348                     Mean   : 396.2   Mean   : 7.016  \n",
       " 3rd Qu.: 443                     3rd Qu.: 539.4   3rd Qu.: 9.300  \n",
       " Max.   :4096                     Max.   :2921.8   Max.   :80.600  \n",
       " NA's   :1581                     NA's   :1581     NA's   :1581    \n",
       " forcibleraperate  robberyrate     aggravatedassaultrate propertycrimerate\n",
       " Min.   :  0.80   Min.   :   1.9   Min.   :   3.6        Min.   : 573.1   \n",
       " 1st Qu.: 14.60   1st Qu.:  38.8   1st Qu.: 103.0        1st Qu.:2660.5   \n",
       " Median : 25.75   Median :  96.4   Median : 193.7        Median :3834.2   \n",
       " Mean   : 27.30   Mean   : 131.5   Mean   : 230.4        Mean   :3791.3   \n",
       " 3rd Qu.: 37.40   3rd Qu.: 164.8   3rd Qu.: 317.9        3rd Qu.:4755.5   \n",
       " Max.   :102.20   Max.   :1635.1   Max.   :1557.6        Max.   :9512.1   \n",
       " NA's   :1581     NA's   :1581     NA's   :1581          NA's   :1581     \n",
       "  burglaryrate    larcenytheftrate motorvehicletheftrate   _merge_ucr   \n",
       " Min.   : 182.6   Min.   : 293.3   Min.   :  48.3        Min.   :1.000  \n",
       " 1st Qu.: 625.1   1st Qu.:1715.2   1st Qu.: 198.2        1st Qu.:1.000  \n",
       " Median : 914.6   Median :2508.9   Median : 328.4        Median :3.000  \n",
       " Mean   : 978.9   Mean   :2440.7   Mean   : 371.6        Mean   :2.222  \n",
       " 3rd Qu.:1246.8   3rd Qu.:3052.0   3rd Qu.: 481.4        3rd Qu.:3.000  \n",
       " Max.   :2906.7   Max.   :5833.8   Max.   :1839.9        Max.   :3.000  \n",
       " NA's   :1581     NA's   :1581     NA's   :1581          NA's   :153    \n",
       "      pop              murders          rpc_inc         _merge_realy\n",
       " Min.   :  226167   Min.   :   0.0   Min.   :  9.769   Min.   :3    \n",
       " 1st Qu.: 1099000   1st Qu.:  38.0   1st Qu.: 62.327   1st Qu.:3    \n",
       " Median : 3096612   Median : 158.0   Median : 95.563   Median :3    \n",
       " Mean   : 4531744   Mean   : 297.5   Mean   : 98.216   Mean   :3    \n",
       " 3rd Qu.: 5387250   3rd Qu.: 400.0   3rd Qu.:131.880   3rd Qu.:3    \n",
       " Max.   :35484452   Max.   :4096.0   Max.   :274.235   Max.   :3    \n",
       " NA's   :1581       NA's   :322      NA's   :187       NA's   :153  \n",
       "  statename         _merge_infantmortality _merge_prisoners     c_pris      \n",
       " Length:3825        Min.   :1.000          Min.   :1.000    Min.   :0.0105  \n",
       " Class :character   1st Qu.:1.000          1st Qu.:1.000    1st Qu.:0.0727  \n",
       " Mode  :character   Median :1.000          Median :1.000    Median :0.1179  \n",
       "                    Mean   :1.667          Mean   :1.778    Mean   :0.1351  \n",
       "                    3rd Qu.:3.000          3rd Qu.:3.000    3rd Qu.:0.1788  \n",
       "                    Max.   :3.000          Max.   :3.000    Max.   :0.8702  \n",
       "                    NA's   :153            NA's   :153      NA's   :415     \n",
       " _merge_executions  prisondeaths    _merge_prisondeaths   nfpayrolls     \n",
       " Min.   :1.000     Min.   :  0.00   Min.   :1.000       Min.   :   34.8  \n",
       " 1st Qu.:3.000     1st Qu.:  5.00   1st Qu.:1.000       1st Qu.:  368.0  \n",
       " Median :3.000     Median : 15.00   Median :1.000       Median :  833.5  \n",
       " Mean   :2.639     Mean   : 35.94   Mean   :1.694       Mean   : 1537.8  \n",
       " 3rd Qu.:3.000     3rd Qu.: 45.00   3rd Qu.:3.000       3rd Qu.: 1905.3  \n",
       " Max.   :3.000     Max.   :454.00   Max.   :3.000       Max.   :14601.9  \n",
       " NA's   :153       NA's   :2554     NA's   :153         NA's   :535      \n",
       "  lnnfpayrolls   trendpayrollslambda10     empgap        _merge_nfpayrolls\n",
       " Min.   :3.550   Min.   :3.591         Min.   :-0.2028   Min.   :1.000    \n",
       " 1st Qu.:5.908   1st Qu.:5.914         1st Qu.:-0.0117   1st Qu.:3.000    \n",
       " Median :6.726   Median :6.721         Median :-0.0003   Median :3.000    \n",
       " Mean   :6.731   Mean   :6.731         Mean   : 0.0000   Mean   :2.792    \n",
       " 3rd Qu.:7.552   3rd Qu.:7.552         3rd Qu.: 0.0118   3rd Qu.:3.000    \n",
       " Max.   :9.589   Max.   :9.593         Max.   : 0.0805   Max.   :3.000    \n",
       " NA's   :535     NA's   :535           NA's   :535       NA's   :153      \n",
       "      demp            age1519           age2024        _merge_dsdemographics\n",
       " Min.   :-0.1237   Min.   :0.05651   Min.   :0.05128   Min.   :1.000        \n",
       " 1st Qu.: 0.0068   1st Qu.:0.07447   1st Qu.:0.07037   1st Qu.:3.000        \n",
       " Median : 0.0240   Median :0.08451   Median :0.07879   Median :3.000        \n",
       " Mean   : 0.0254   Mean   :0.08401   Mean   :0.07903   Mean   :2.853        \n",
       " 3rd Qu.: 0.0413   3rd Qu.:0.09263   3rd Qu.:0.08675   3rd Qu.:3.000        \n",
       " Max.   : 0.3995   Max.   :0.13111   Max.   :0.12411   Max.   :3.000        \n",
       " NA's   :586       NA's   :264       NA's   :264                            \n",
       "     police      _merge_statepolice    ipolice          legal      \n",
       " Min.   :   71   Min.   :1.000      Min.   :   71   Min.   :0.000  \n",
       " 1st Qu.:  474   1st Qu.:1.000      1st Qu.:  446   1st Qu.:1.000  \n",
       " Median :  946   Median :3.000      Median :  884   Median :1.000  \n",
       " Mean   : 1442   Mean   :2.093      Mean   : 1378   Mean   :0.755  \n",
       " 3rd Qu.: 1723   3rd Qu.:3.000      3rd Qu.: 1659   3rd Qu.:1.000  \n",
       " Max.   :10626   Max.   :3.000      Max.   :10626   Max.   :1.000  \n",
       " NA's   :2016                       NA's   :1816                   \n",
       "     decade         statdec         regyear           stid      sample_ds   \n",
       " Min.   :193.0   Min.   :  1.0   Min.   :  1.0   Min.   : 1   Min.   :1     \n",
       " 1st Qu.:194.0   1st Qu.:102.0   1st Qu.: 95.0   1st Qu.:13   1st Qu.:1     \n",
       " Median :196.0   Median :204.0   Median :164.0   Median :26   Median :1     \n",
       " Mean   :196.3   Mean   :204.3   Mean   :156.5   Mean   :26   Mean   :1     \n",
       " 3rd Qu.:198.0   3rd Qu.:306.0   3rd Qu.:218.0   3rd Qu.:39   3rd Qu.:1     \n",
       " Max.   :200.0   Max.   :408.0   Max.   :288.0   Max.   :51   Max.   :1     \n",
       "                                 NA's   :153                  NA's   :1816  \n",
       "   sample_kls     decade_ds         ex10            active      \n",
       " Min.   :1      Min.   :1930   Min.   :0.0000   Min.   :0.0000  \n",
       " 1st Qu.:1      1st Qu.:1940   1st Qu.:0.0000   1st Qu.:0.0000  \n",
       " Median :1      Median :1960   Median :1.0000   Median :1.0000  \n",
       " Mean   :1      Mean   :1963   Mean   :0.5948   Mean   :0.5464  \n",
       " 3rd Qu.:1      3rd Qu.:1980   3rd Qu.:1.0000   3rd Qu.:1.0000  \n",
       " Max.   :1      Max.   :2000   Max.   :1.0000   Max.   :1.0000  \n",
       " NA's   :1917                                                   \n",
       "    passive      \n",
       " Min.   :0.0000  \n",
       " 1st Qu.:0.0000  \n",
       " Median :0.0000  \n",
       " Mean   :0.2086  \n",
       " 3rd Qu.:0.0000  \n",
       " Max.   :1.0000  \n",
       "                 "
      ]
     },
     "metadata": {},
     "output_type": "display_data"
    }
   ],
   "source": [
    "#open data\n",
    "mydata2 <- read_dta(\"dataLecture19murder.dta\")\n",
    "head(mydata2)\n",
    "# summarize data\n",
    "summary(mydata2)\n",
    "\n",
    "#with variables to use\n",
    "#by number of executions\n",
    "\n",
    "#ex10=1 if ex10>0\n",
    "\n",
    "#active=legal*ex10\n",
    "\n",
    "#passive=legal*(ex10==0)\n"
   ]
  },
  {
   "cell_type": "markdown",
   "id": "42f24058-edae-4fd0-ad3f-a1746dfbbe10",
   "metadata": {},
   "source": [
    "## Run regressions and Make table of results"
   ]
  },
  {
   "cell_type": "code",
   "execution_count": 15,
   "id": "dfdfe436-2f88-4fda-8c94-1d1c983988bc",
   "metadata": {},
   "outputs": [],
   "source": [
    "# death penalty and murders\n",
    "REG1<-lm(pc_mur~legal,mydata2)\n",
    "REG2<-felm(pc_mur~legal| state+year+decade_ds, data=mydata2)\n",
    "REG3<-felm(pc_mur~legal+rpc_inc+ ur+ ipolice+ nonwhite +age15to19 +age20to24 | state+year+decade_ds, data=mydata2)\n",
    "REG4<-felm(pc_mur~active+ passive| state+year+decade_ds, data=mydata2)\n",
    "REG5<-felm(pc_mur~active+ passive+rpc_inc+ ur+ ipolice+ nonwhite +age15to19 +age20to24 | state+year+decade_ds, data=mydata2)\n"
   ]
  },
  {
   "cell_type": "code",
   "execution_count": 19,
   "id": "e8577d24",
   "metadata": {},
   "outputs": [
    {
     "name": "stdout",
     "output_type": "stream",
     "text": [
      "\n",
      "=============================================================\n",
      "                           Dependent variable:               \n",
      "             ------------------------------------------------\n",
      "                                  pc_mur                     \n",
      "               OLS                     felm                  \n",
      "               (1)       (2)       (3)       (4)       (5)   \n",
      "-------------------------------------------------------------\n",
      "legal        0.903*** -1.945***  -0.100                      \n",
      "             (0.249)   (0.258)   (0.143)                     \n",
      "                                                             \n",
      "rpc_inc                         0.018***            0.016*** \n",
      "                                 (0.005)             (0.005) \n",
      "                                                             \n",
      "ur                              -0.099***           -0.106***\n",
      "                                 (0.032)             (0.032) \n",
      "                                                             \n",
      "ipolice                         -0.00001            -0.00000 \n",
      "                                (0.0001)            (0.0001) \n",
      "                                                             \n",
      "nonwhite                        9.989***            9.410*** \n",
      "                                 (1.835)             (1.827) \n",
      "                                                             \n",
      "age15to19                       62.965***           66.959***\n",
      "                                (13.681)            (13.613) \n",
      "                                                             \n",
      "age20to24                       41.779***           44.250***\n",
      "                                 (8.088)             (8.049) \n",
      "                                                             \n",
      "active                                    -2.186*** -0.527***\n",
      "                                           (0.289)   (0.165) \n",
      "                                                             \n",
      "passive                                   -1.815***   0.028  \n",
      "                                           (0.268)   (0.144) \n",
      "                                                             \n",
      "Constant     6.286***                                        \n",
      "             (0.214)                                         \n",
      "                                                             \n",
      "-------------------------------------------------------------\n",
      "Observations  3,503     3,503     2,009     3,503     2,009  \n",
      "R2            0.004     0.738     0.866     0.738     0.868  \n",
      "=============================================================\n",
      "Note:                             *p<0.1; **p<0.05; ***p<0.01\n"
     ]
    }
   ],
   "source": [
    "#make table\n",
    "#stargazer(list(REG1,REG2,REG3, REG4, REG5), type=\"text\",keep.stat=c(\"n\",\"rsq\"))\n"
   ]
  },
  {
   "attachments": {},
   "cell_type": "markdown",
   "id": "f61427df",
   "metadata": {},
   "source": [
    "Active=1 if legal and there are executions, passive =1 if legal but no executions\n",
    "\n",
    " What do you conclude?\n",
    "\n"
   ]
  },
  {
   "cell_type": "markdown",
   "id": "b02f9d49-ee9b-41db-8426-d55de003eb23",
   "metadata": {},
   "source": [
    "## Placebos"
   ]
  },
  {
   "cell_type": "code",
   "execution_count": 20,
   "id": "8b2bec32",
   "metadata": {},
   "outputs": [
    {
     "name": "stdout",
     "output_type": "stream",
     "text": [
      "\n",
      "==============================================================================================\n",
      "                                            Dependent variable:                               \n",
      "             ---------------------------------------------------------------------------------\n",
      "              pc_mur   violentcrimerate    pc_rob       pc_larc        pc_burg      pc_auto   \n",
      "                (1)          (2)            (3)           (4)            (5)          (6)     \n",
      "----------------------------------------------------------------------------------------------\n",
      "active       -0.527***     18.579*         -1.501      205.816***      -17.976     47.203***  \n",
      "              (0.165)      (10.098)       (4.570)       (39.999)      (18.658)      (10.940)  \n",
      "                                                                                              \n",
      "passive        0.028        11.167         -3.272      99.714***       -2.860        11.022   \n",
      "              (0.144)      (8.854)        (4.007)       (34.761)      (16.358)      (9.592)   \n",
      "                                                                                              \n",
      "rpc_inc      0.016***      0.874***       0.703***      6.990***        0.063       0.907***  \n",
      "              (0.005)      (0.313)        (0.142)       (1.474)        (0.578)      (0.339)   \n",
      "                                                                                              \n",
      "ur           -0.106***      2.944         2.306***     71.184***      39.580***     5.974***  \n",
      "              (0.032)      (1.952)        (0.883)       (7.905)        (3.606)      (2.114)   \n",
      "                                                                                              \n",
      "ipolice      -0.00000      0.059***       0.029***       -0.008       0.031***      0.050***  \n",
      "             (0.0001)      (0.005)        (0.002)       (0.028)        (0.009)      (0.005)   \n",
      "                                                                                              \n",
      "nonwhite     9.410***       -3.595        -93.149*    4,276.654***  -3,558.661***   -133.465  \n",
      "              (1.827)     (111.964)       (50.674)     (784.116)      (206.867)    (121.299)  \n",
      "                                                                                              \n",
      "age15to19    66.959***   2,460.854***   2,116.539***  9,794.005**    3,940.529**  3,422.675***\n",
      "             (13.613)     (834.453)      (377.662)    (3,945.919)    (1,541.748)   (904.023)  \n",
      "                                                                                              \n",
      "age20to24    44.250***  -1,911.505***     -157.160   -10,137.260***   -552.886    3,065.014***\n",
      "              (8.049)     (493.377)      (223.295)    (2,339.760)     (911.569)    (534.510)  \n",
      "                                                                                              \n",
      "----------------------------------------------------------------------------------------------\n",
      "Observations   2,009        2,009          2,009         1,519          2,009        2,009    \n",
      "R2             0.868        0.882          0.857         0.944          0.879        0.808    \n",
      "==============================================================================================\n",
      "Note:                                                              *p<0.1; **p<0.05; ***p<0.01\n"
     ]
    }
   ],
   "source": [
    "#placebo on other murders\n",
    "PREG1<-felm(pc_mur~active+ passive+rpc_inc+ ur+ ipolice+ nonwhite +age15to19 +age20to24 | state+year+decade_ds, data=mydata2)\n",
    "PREG2<-felm(violentcrimerate~active+ passive+rpc_inc+ ur+ ipolice+ nonwhite +age15to19 +age20to24 | state+year+decade_ds, data=mydata2)\n",
    "PREG3<-felm(pc_rob~active+ passive+rpc_inc+ ur+ ipolice+ nonwhite +age15to19 +age20to24 | state+year+decade_ds, data=mydata2)\n",
    "PREG4<-felm(pc_larc~active+ passive+rpc_inc+ ur+ ipolice+ nonwhite +age15to19 +age20to24 | state+year+decade_ds, data=mydata2)\n",
    "PREG5<-felm(pc_burg~active+ passive+rpc_inc+ ur+ ipolice+ nonwhite +age15to19 +age20to24 | state+year+decade_ds, data=mydata2)\n",
    "PREG6<-felm(pc_auto~active+ passive+rpc_inc+ ur+ ipolice+ nonwhite +age15to19 +age20to24 | state+year+decade_ds, data=mydata2)\n",
    "\n",
    "#make table\n",
    "stargazer(list(PREG1,PREG2,PREG3, PREG4, PREG5, PREG6), type=\"text\",keep.stat=c(\"n\",\"rsq\"))\n",
    "\n"
   ]
  },
  {
   "cell_type": "markdown",
   "id": "7ff47590",
   "metadata": {},
   "source": [
    "Even more convincing, show that active legal death penalty has deterrence on murder but not on other crimes (e.g., auto theft) "
   ]
  },
  {
   "attachments": {},
   "cell_type": "markdown",
   "id": "ad0be414",
   "metadata": {},
   "source": [
    "## Upcoming Lectures\n",
    "\n",
    "Learn methods to approach a policy impact analysis like the soda tax\n",
    "\n",
    "https://news.berkeley.edu/2019/04/02/berkeleys-soda-tax-election-changed-drinking-habits-months-before-prices-went-up/?fbclid=IwAR0NeswpSOdW82qoLZas348ZJpxyQLJ5oF3ZBl0j2pyrG3Olk3rvOKK1v5g\n",
    "\n",
    "\n",
    "Correlation is not causation , check these crazy spurious correlations:\n",
    "http://www.tylervigen.com/spurious-correlations\n",
    "\n"
   ]
  }
 ],
 "metadata": {
  "kernelspec": {
   "display_name": "R",
   "language": "R",
   "name": "ir"
  },
  "language_info": {
   "codemirror_mode": "r",
   "file_extension": ".r",
   "mimetype": "text/x-r-source",
   "name": "R",
   "pygments_lexer": "r",
   "version": "4.3.2"
  }
 },
 "nbformat": 4,
 "nbformat_minor": 5
}
