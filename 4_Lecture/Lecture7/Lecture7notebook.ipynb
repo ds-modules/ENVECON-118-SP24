{
 "cells": [
  {
   "cell_type": "markdown",
   "id": "35ada569-515b-461e-91d7-5f86d19472b8",
   "metadata": {},
   "source": [
    "#Lecture 7- Spring 2024\n",
    "#Villas-Boas\n",
    "\n",
    "#Lecture 7 EEO 118 Spring 2024\n",
    "\n"
   ]
  },
  {
   "cell_type": "code",
   "execution_count": 1,
   "id": "c2d55630-5544-43f0-89bf-fc0b25d2cc4b",
   "metadata": {},
   "outputs": [
    {
     "name": "stderr",
     "output_type": "stream",
     "text": [
      "Installing package into ‘/srv/r’\n",
      "(as ‘lib’ is unspecified)\n",
      "\n",
      "\n",
      "lfe installed\n",
      "\n"
     ]
    }
   ],
   "source": [
    "# Load the 'pacman' package\n",
    "library(pacman) \n",
    "#packages to use load them now using the pacman \"manager\"\n",
    "p_load(dplyr, readr) \n",
    "#Another great feature of p_load(): if you try to load a package that is not installed on your machine, p_load() install the package for you, rather than throwing an error. For instance, let’s install and load one final package named ggplot2. \n",
    "p_load(ggplot2)\n",
    "\n",
    "\n",
    "\n",
    "#set scientific display off, thank you Roy\n",
    "options(scipen=999)\n",
    "\n",
    "\n",
    "pacman::p_load(lfe, lmtest, haven, sandwich, tidyverse)\n",
    "# lfe for running fixed effects regression\n",
    "# lmtest for displaying robust SE in output table\n",
    "# haven for loading in dta files\n",
    "# sandwich for producing robust Var-Cov matrix\n",
    "# tidyverse for manipulating data and producing plots"
   ]
  },
  {
   "cell_type": "code",
   "execution_count": 2,
   "id": "8f0e936d-b8ad-4208-af68-7bac4180d875",
   "metadata": {},
   "outputs": [],
   "source": [
    "library(haven)\n",
    "library(ggplot2)"
   ]
  },
  {
   "cell_type": "code",
   "execution_count": 3,
   "id": "374492e7-7ae3-461c-a19e-db22081b78cc",
   "metadata": {},
   "outputs": [
    {
     "data": {
      "text/html": [
       "<table class=\"dataframe\">\n",
       "<caption>A tibble: 6 × 40</caption>\n",
       "<thead>\n",
       "\t<tr><th scope=col>state</th><th scope=col>county</th><th scope=col>fips</th><th scope=col>trump16</th><th scope=col>clinton16</th><th scope=col>otherpres16</th><th scope=col>romney12</th><th scope=col>obama12</th><th scope=col>otherpres12</th><th scope=col>demsen16</th><th scope=col>⋯</th><th scope=col>age65andolder_pct</th><th scope=col>median_hh_inc</th><th scope=col>clf_unemploy_pct</th><th scope=col>lesshs_pct</th><th scope=col>lesscollege_pct</th><th scope=col>lesshs_whites_pct</th><th scope=col>lesscollege_whites_pct</th><th scope=col>rural_pct</th><th scope=col>ruralurban_cc</th><th scope=col>bh_pct</th></tr>\n",
       "\t<tr><th scope=col>&lt;chr&gt;</th><th scope=col>&lt;chr&gt;</th><th scope=col>&lt;dbl&gt;</th><th scope=col>&lt;dbl&gt;</th><th scope=col>&lt;dbl&gt;</th><th scope=col>&lt;dbl&gt;</th><th scope=col>&lt;dbl&gt;</th><th scope=col>&lt;dbl&gt;</th><th scope=col>&lt;dbl&gt;</th><th scope=col>&lt;chr&gt;</th><th scope=col>⋯</th><th scope=col>&lt;chr&gt;</th><th scope=col>&lt;dbl&gt;</th><th scope=col>&lt;dbl&gt;</th><th scope=col>&lt;chr&gt;</th><th scope=col>&lt;chr&gt;</th><th scope=col>&lt;chr&gt;</th><th scope=col>&lt;chr&gt;</th><th scope=col>&lt;chr&gt;</th><th scope=col>&lt;chr&gt;</th><th scope=col>&lt;dbl&gt;</th></tr>\n",
       "</thead>\n",
       "<tbody>\n",
       "\t<tr><td>Alabama</td><td>Autauga</td><td>1001</td><td>18172</td><td> 5936</td><td> 865</td><td>17379</td><td> 6363</td><td>190</td><td>6331 </td><td>⋯</td><td>13.97845556</td><td>53099</td><td> 5.591657</td><td>12.41704602</td><td>75.40722865</td><td>10.00211164</td><td>74.06560146</td><td>42.00216232</td><td>2</td><td>20.94316</td></tr>\n",
       "\t<tr><td>Alabama</td><td>Baldwin</td><td>1003</td><td>72883</td><td>18458</td><td>3874</td><td>66016</td><td>18424</td><td>898</td><td>19145</td><td>⋯</td><td>18.71485139</td><td>51365</td><td> 6.286843</td><td>9.972417933</td><td>70.45288897</td><td>7.842226994</td><td>68.40560728</td><td>42.27909911</td><td>3</td><td>13.59230</td></tr>\n",
       "\t<tr><td>Alabama</td><td>Barbour</td><td>1005</td><td> 5454</td><td> 4871</td><td> 144</td><td> 5550</td><td> 5912</td><td> 47</td><td>4777 </td><td>⋯</td><td>16.52889457</td><td>33956</td><td>12.824738</td><td>26.23592756</td><td>87.13221298</td><td>19.57975167</td><td>81.36474583</td><td>67.7896347 </td><td>6</td><td>52.19809</td></tr>\n",
       "\t<tr><td>Alabama</td><td>Bibb   </td><td>1007</td><td> 6738</td><td> 1874</td><td> 207</td><td> 6132</td><td> 2202</td><td> 86</td><td>2082 </td><td>⋯</td><td>14.8856991 </td><td>39776</td><td> 7.146827</td><td>19.3015873 </td><td>88         </td><td>15.02049009</td><td>87.47177386</td><td>68.35260746</td><td>1</td><td>23.43612</td></tr>\n",
       "\t<tr><td>Alabama</td><td>Blount </td><td>1009</td><td>22859</td><td> 2156</td><td> 573</td><td>20757</td><td> 2970</td><td>279</td><td>2980 </td><td>⋯</td><td>17.19291557</td><td>46212</td><td> 5.953833</td><td>19.96858533</td><td>86.95024321</td><td>16.64336837</td><td>86.16360993</td><td>89.95150204</td><td>1</td><td>10.28525</td></tr>\n",
       "\t<tr><td>Alabama</td><td>Bullock</td><td>1011</td><td> 1140</td><td> 3530</td><td>  40</td><td> 1251</td><td> 4061</td><td> 10</td><td>3364 </td><td>⋯</td><td>15.13457165</td><td>29335</td><td>13.258520</td><td>33.43788354</td><td>89.74498841</td><td>11.7803838 </td><td>79.15778252</td><td>51.37438153</td><td>6</td><td>75.62547</td></tr>\n",
       "</tbody>\n",
       "</table>\n"
      ],
      "text/latex": [
       "A tibble: 6 × 40\n",
       "\\begin{tabular}{lllllllllllllllllllll}\n",
       " state & county & fips & trump16 & clinton16 & otherpres16 & romney12 & obama12 & otherpres12 & demsen16 & ⋯ & age65andolder\\_pct & median\\_hh\\_inc & clf\\_unemploy\\_pct & lesshs\\_pct & lesscollege\\_pct & lesshs\\_whites\\_pct & lesscollege\\_whites\\_pct & rural\\_pct & ruralurban\\_cc & bh\\_pct\\\\\n",
       " <chr> & <chr> & <dbl> & <dbl> & <dbl> & <dbl> & <dbl> & <dbl> & <dbl> & <chr> & ⋯ & <chr> & <dbl> & <dbl> & <chr> & <chr> & <chr> & <chr> & <chr> & <chr> & <dbl>\\\\\n",
       "\\hline\n",
       "\t Alabama & Autauga & 1001 & 18172 &  5936 &  865 & 17379 &  6363 & 190 & 6331  & ⋯ & 13.97845556 & 53099 &  5.591657 & 12.41704602 & 75.40722865 & 10.00211164 & 74.06560146 & 42.00216232 & 2 & 20.94316\\\\\n",
       "\t Alabama & Baldwin & 1003 & 72883 & 18458 & 3874 & 66016 & 18424 & 898 & 19145 & ⋯ & 18.71485139 & 51365 &  6.286843 & 9.972417933 & 70.45288897 & 7.842226994 & 68.40560728 & 42.27909911 & 3 & 13.59230\\\\\n",
       "\t Alabama & Barbour & 1005 &  5454 &  4871 &  144 &  5550 &  5912 &  47 & 4777  & ⋯ & 16.52889457 & 33956 & 12.824738 & 26.23592756 & 87.13221298 & 19.57975167 & 81.36474583 & 67.7896347  & 6 & 52.19809\\\\\n",
       "\t Alabama & Bibb    & 1007 &  6738 &  1874 &  207 &  6132 &  2202 &  86 & 2082  & ⋯ & 14.8856991  & 39776 &  7.146827 & 19.3015873  & 88          & 15.02049009 & 87.47177386 & 68.35260746 & 1 & 23.43612\\\\\n",
       "\t Alabama & Blount  & 1009 & 22859 &  2156 &  573 & 20757 &  2970 & 279 & 2980  & ⋯ & 17.19291557 & 46212 &  5.953833 & 19.96858533 & 86.95024321 & 16.64336837 & 86.16360993 & 89.95150204 & 1 & 10.28525\\\\\n",
       "\t Alabama & Bullock & 1011 &  1140 &  3530 &   40 &  1251 &  4061 &  10 & 3364  & ⋯ & 15.13457165 & 29335 & 13.258520 & 33.43788354 & 89.74498841 & 11.7803838  & 79.15778252 & 51.37438153 & 6 & 75.62547\\\\\n",
       "\\end{tabular}\n"
      ],
      "text/markdown": [
       "\n",
       "A tibble: 6 × 40\n",
       "\n",
       "| state &lt;chr&gt; | county &lt;chr&gt; | fips &lt;dbl&gt; | trump16 &lt;dbl&gt; | clinton16 &lt;dbl&gt; | otherpres16 &lt;dbl&gt; | romney12 &lt;dbl&gt; | obama12 &lt;dbl&gt; | otherpres12 &lt;dbl&gt; | demsen16 &lt;chr&gt; | ⋯ ⋯ | age65andolder_pct &lt;chr&gt; | median_hh_inc &lt;dbl&gt; | clf_unemploy_pct &lt;dbl&gt; | lesshs_pct &lt;chr&gt; | lesscollege_pct &lt;chr&gt; | lesshs_whites_pct &lt;chr&gt; | lesscollege_whites_pct &lt;chr&gt; | rural_pct &lt;chr&gt; | ruralurban_cc &lt;chr&gt; | bh_pct &lt;dbl&gt; |\n",
       "|---|---|---|---|---|---|---|---|---|---|---|---|---|---|---|---|---|---|---|---|---|\n",
       "| Alabama | Autauga | 1001 | 18172 |  5936 |  865 | 17379 |  6363 | 190 | 6331  | ⋯ | 13.97845556 | 53099 |  5.591657 | 12.41704602 | 75.40722865 | 10.00211164 | 74.06560146 | 42.00216232 | 2 | 20.94316 |\n",
       "| Alabama | Baldwin | 1003 | 72883 | 18458 | 3874 | 66016 | 18424 | 898 | 19145 | ⋯ | 18.71485139 | 51365 |  6.286843 | 9.972417933 | 70.45288897 | 7.842226994 | 68.40560728 | 42.27909911 | 3 | 13.59230 |\n",
       "| Alabama | Barbour | 1005 |  5454 |  4871 |  144 |  5550 |  5912 |  47 | 4777  | ⋯ | 16.52889457 | 33956 | 12.824738 | 26.23592756 | 87.13221298 | 19.57975167 | 81.36474583 | 67.7896347  | 6 | 52.19809 |\n",
       "| Alabama | Bibb    | 1007 |  6738 |  1874 |  207 |  6132 |  2202 |  86 | 2082  | ⋯ | 14.8856991  | 39776 |  7.146827 | 19.3015873  | 88          | 15.02049009 | 87.47177386 | 68.35260746 | 1 | 23.43612 |\n",
       "| Alabama | Blount  | 1009 | 22859 |  2156 |  573 | 20757 |  2970 | 279 | 2980  | ⋯ | 17.19291557 | 46212 |  5.953833 | 19.96858533 | 86.95024321 | 16.64336837 | 86.16360993 | 89.95150204 | 1 | 10.28525 |\n",
       "| Alabama | Bullock | 1011 |  1140 |  3530 |   40 |  1251 |  4061 |  10 | 3364  | ⋯ | 15.13457165 | 29335 | 13.258520 | 33.43788354 | 89.74498841 | 11.7803838  | 79.15778252 | 51.37438153 | 6 | 75.62547 |\n",
       "\n"
      ],
      "text/plain": [
       "  state   county  fips trump16 clinton16 otherpres16 romney12 obama12\n",
       "1 Alabama Autauga 1001 18172    5936      865        17379     6363  \n",
       "2 Alabama Baldwin 1003 72883   18458     3874        66016    18424  \n",
       "3 Alabama Barbour 1005  5454    4871      144         5550     5912  \n",
       "4 Alabama Bibb    1007  6738    1874      207         6132     2202  \n",
       "5 Alabama Blount  1009 22859    2156      573        20757     2970  \n",
       "6 Alabama Bullock 1011  1140    3530       40         1251     4061  \n",
       "  otherpres12 demsen16 ⋯ age65andolder_pct median_hh_inc clf_unemploy_pct\n",
       "1 190         6331     ⋯ 13.97845556       53099          5.591657       \n",
       "2 898         19145    ⋯ 18.71485139       51365          6.286843       \n",
       "3  47         4777     ⋯ 16.52889457       33956         12.824738       \n",
       "4  86         2082     ⋯ 14.8856991        39776          7.146827       \n",
       "5 279         2980     ⋯ 17.19291557       46212          5.953833       \n",
       "6  10         3364     ⋯ 15.13457165       29335         13.258520       \n",
       "  lesshs_pct  lesscollege_pct lesshs_whites_pct lesscollege_whites_pct\n",
       "1 12.41704602 75.40722865     10.00211164       74.06560146           \n",
       "2 9.972417933 70.45288897     7.842226994       68.40560728           \n",
       "3 26.23592756 87.13221298     19.57975167       81.36474583           \n",
       "4 19.3015873  88              15.02049009       87.47177386           \n",
       "5 19.96858533 86.95024321     16.64336837       86.16360993           \n",
       "6 33.43788354 89.74498841     11.7803838        79.15778252           \n",
       "  rural_pct   ruralurban_cc bh_pct  \n",
       "1 42.00216232 2             20.94316\n",
       "2 42.27909911 3             13.59230\n",
       "3 67.7896347  6             52.19809\n",
       "4 68.35260746 1             23.43612\n",
       "5 89.95150204 1             10.28525\n",
       "6 51.37438153 6             75.62547"
      ]
     },
     "metadata": {},
     "output_type": "display_data"
    }
   ],
   "source": [
    "#-------------------------------------------\n",
    "#1. Read in data\n",
    "#-------------------------------------------\n",
    "my_data <- read_dta(\"dataLecture7.dta\")\n",
    "head(my_data)"
   ]
  },
  {
   "cell_type": "code",
   "execution_count": 4,
   "id": "c310f961-0a90-4ed2-9542-308b3280c420",
   "metadata": {},
   "outputs": [],
   "source": [
    "#generate variables Y and x1\n",
    "my_data$Y<-my_data$trump16/my_data$clinton16\n",
    "my_data$x1<-my_data$romney12/my_data$obama12"
   ]
  },
  {
   "cell_type": "code",
   "execution_count": 5,
   "id": "1ff3b772-080d-4626-b0ca-7b29702f5e7d",
   "metadata": {},
   "outputs": [
    {
     "data": {
      "image/png": "[encoded data removed]",
      "text/plain": [
       "plot without title"
      ]
     },
     "metadata": {
      "image/png": {
       "height": 420,
       "width": 420
      }
     },
     "output_type": "display_data"
    }
   ],
   "source": [
    "slide12<-plot(my_data$x1,my_data$Y) "
   ]
  },
  {
   "cell_type": "code",
   "execution_count": 6,
   "id": "e39a5231-1121-4df0-b30c-b71f7a16e2d3",
   "metadata": {},
   "outputs": [],
   "source": [
    "#use non missing values only from now on\n",
    "my_data2<-my_data[complete.cases(my_data),]\n",
    "my_data3 <- my_data2[my_data2$Y !=Inf,] \n",
    "#my_data3 <-my_data2[my_data2$white_pct!=NA]"
   ]
  },
  {
   "cell_type": "code",
   "execution_count": 8,
   "id": "72638950-05c8-4163-8895-418aa23e5a6a",
   "metadata": {},
   "outputs": [
    {
     "data": {
      "text/plain": [
       "    state              county               fips          trump16      \n",
       " Length:3110        Length:3110        Min.   : 1001   Min.   :    58  \n",
       " Class :character   Class :character   1st Qu.:19038   1st Qu.:  3233  \n",
       " Mode  :character   Mode  :character   Median :29206   Median :  7246  \n",
       "                                       Mean   :30647   Mean   : 20190  \n",
       "                                       3rd Qu.:46004   3rd Qu.: 17886  \n",
       "                                       Max.   :56045   Max.   :769743  \n",
       "   clinton16        otherpres16        romney12         obama12       \n",
       " Min.   :      4   Min.   :     3   Min.   :    54   Min.   :      5  \n",
       " 1st Qu.:   1170   1st Qu.:   184   1st Qu.:  2919   1st Qu.:   1557  \n",
       " Median :   3180   Median :   499   Median :  6450   Median :   4002  \n",
       " Mean   :  21101   Mean   :  2460   Mean   : 19449   Mean   :  21054  \n",
       " 3rd Qu.:   9828   3rd Qu.:  1674   3rd Qu.: 16315   3rd Qu.:  11348  \n",
       " Max.   :2464364   Max.   :200201   Max.   :885333   Max.   :2216903  \n",
       "  otherpres12        demsen16           repsen16          othersen16       \n",
       " Min.   :    0.0   Length:3110        Length:3110        Length:3110       \n",
       " 1st Qu.:   74.0   Class :character   Class :character   Class :character  \n",
       " Median :  179.5   Mode  :character   Mode  :character   Mode  :character  \n",
       " Mean   :  840.3                                                           \n",
       " 3rd Qu.:  529.8                                                           \n",
       " Max.   :78831.0                                                           \n",
       "  demhouse16         rephouse16        otherhouse16         demgov16        \n",
       " Length:3110        Length:3110        Length:3110        Length:3110       \n",
       " Class :character   Class :character   Class :character   Class :character  \n",
       " Mode  :character   Mode  :character   Mode  :character   Mode  :character  \n",
       "                                                                            \n",
       "                                                                            \n",
       "                                                                            \n",
       "   repgov16          othergov16          repgov14           demgov14        \n",
       " Length:3110        Length:3110        Length:3110        Length:3110       \n",
       " Class :character   Class :character   Class :character   Class :character  \n",
       " Mode  :character   Mode  :character   Mode  :character   Mode  :character  \n",
       "                                                                            \n",
       "                                                                            \n",
       "                                                                            \n",
       "  othergov14        total_population       cvap             white_pct       \n",
       " Length:3110        Length:3110        Length:3110        Min.   :  0.7602  \n",
       " Class :character   Class :character   Class :character   1st Qu.: 65.5702  \n",
       " Mode  :character   Mode  :character   Mode  :character   Median : 84.7027  \n",
       "                                                          Mean   : 77.3565  \n",
       "                                                          3rd Qu.: 93.2596  \n",
       "                                                          Max.   :100.0000  \n",
       "   black_pct        hispanic_pct     nonwhite_pct   foreignborn_pct   \n",
       " Min.   : 0.0000   Min.   : 0.000   Min.   : 0.00   Length:3110       \n",
       " 1st Qu.: 0.5874   1st Qu.: 1.939   1st Qu.: 6.74   Class :character  \n",
       " Median : 2.1214   Median : 3.834   Median :15.30   Mode  :character  \n",
       " Mean   : 8.9658   Mean   : 8.991   Mean   :22.64                     \n",
       " 3rd Qu.:10.1702   3rd Qu.: 9.173   3rd Qu.:34.43                     \n",
       " Max.   :86.1849   Max.   :98.959   Max.   :99.24                     \n",
       "   female_pct    age29andunder_pct age65andolder_pct  median_hh_inc   \n",
       " Min.   :21.51   Min.   :11.84     Length:3110        Min.   : 18972  \n",
       " 1st Qu.:49.49   1st Qu.:34.17     Class :character   1st Qu.: 39676  \n",
       " Median :50.43   Median :37.00     Mode  :character   Median : 46258  \n",
       " Mean   :49.98   Mean   :37.34                        Mean   : 47819  \n",
       " 3rd Qu.:51.13   3rd Qu.:39.99                        3rd Qu.: 53566  \n",
       " Max.   :58.50   Max.   :70.98                        Max.   :125672  \n",
       " clf_unemploy_pct  lesshs_pct        lesscollege_pct    lesshs_whites_pct \n",
       " Min.   : 0.000   Length:3110        Length:3110        Length:3110       \n",
       " 1st Qu.: 4.960   Class :character   Class :character   Class :character  \n",
       " Median : 6.766   Mode  :character   Mode  :character   Mode  :character  \n",
       " Mean   : 7.066                                                           \n",
       " 3rd Qu.: 8.775                                                           \n",
       " Max.   :29.927                                                           \n",
       " lesscollege_whites_pct  rural_pct         ruralurban_cc          bh_pct      \n",
       " Length:3110            Length:3110        Length:3110        Min.   : 0.000  \n",
       " Class :character       Class :character   Class :character   1st Qu.: 3.685  \n",
       " Mode  :character       Mode  :character   Mode  :character   Median :10.004  \n",
       "                                                              Mean   :17.957  \n",
       "                                                              3rd Qu.:27.821  \n",
       "                                                              Max.   :99.005  \n",
       "       Y                  x1          \n",
       " Min.   : 0.04498   Min.   : 0.07974  \n",
       " 1st Qu.: 1.36580   1st Qu.: 1.06340  \n",
       " Median : 2.34065   Median : 1.63433  \n",
       " Mean   : 2.84454   Mean   : 2.05443  \n",
       " 3rd Qu.: 3.68811   3rd Qu.: 2.52584  \n",
       " Max.   :29.80000   Max.   :27.80000  "
      ]
     },
     "metadata": {},
     "output_type": "display_data"
    }
   ],
   "source": [
    "summary(my_data3)"
   ]
  },
  {
   "cell_type": "code",
   "execution_count": 9,
   "id": "2a2eb499-4319-4d02-b838-f9258c7700cc",
   "metadata": {},
   "outputs": [
    {
     "data": {
      "text/plain": [
       "\n",
       "Call:\n",
       "lm(formula = Y ~ x1 + white_pct, data = my_data3)\n",
       "\n",
       "Residuals:\n",
       "     Min       1Q   Median       3Q      Max \n",
       "-12.2196  -0.3804  -0.0582   0.3043  10.7917 \n",
       "\n",
       "Coefficients:\n",
       "              Estimate Std. Error t value            Pr(>|t|)    \n",
       "(Intercept) -0.9098130  0.0649996  -14.00 <0.0000000000000002 ***\n",
       "x1           1.1775786  0.0099875  117.91 <0.0000000000000002 ***\n",
       "white_pct    0.0172590  0.0008362   20.64 <0.0000000000000002 ***\n",
       "---\n",
       "Signif. codes:  0 ‘***’ 0.001 ‘**’ 0.01 ‘*’ 0.05 ‘.’ 0.1 ‘ ’ 1\n",
       "\n",
       "Residual standard error: 0.8936 on 3107 degrees of freedom\n",
       "Multiple R-squared:  0.8411,\tAdjusted R-squared:  0.841 \n",
       "F-statistic:  8222 on 2 and 3107 DF,  p-value: < 0.00000000000000022\n"
      ]
     },
     "metadata": {},
     "output_type": "display_data"
    }
   ],
   "source": [
    "\n",
    "#regression full model\n",
    "regfull<-lm(Y ~ x1 + white_pct, my_data3)\n",
    "summary(regfull)"
   ]
  },
  {
   "cell_type": "code",
   "execution_count": 10,
   "id": "20d94da3-6191-415d-959a-cf8f38ed15fe",
   "metadata": {},
   "outputs": [
    {
     "data": {
      "text/plain": [
       "\n",
       "Call:\n",
       "lm(formula = Y ~ x1, data = my_data3)\n",
       "\n",
       "Residuals:\n",
       "     Min       1Q   Median       3Q      Max \n",
       "-12.7083  -0.4276  -0.1510   0.3693  10.9405 \n",
       "\n",
       "Coefficients:\n",
       "            Estimate Std. Error t value            Pr(>|t|)    \n",
       "(Intercept)  0.32360    0.02726   11.87 <0.0000000000000002 ***\n",
       "x1           1.22707    0.01034  118.71 <0.0000000000000002 ***\n",
       "---\n",
       "Signif. codes:  0 ‘***’ 0.001 ‘**’ 0.01 ‘*’ 0.05 ‘.’ 0.1 ‘ ’ 1\n",
       "\n",
       "Residual standard error: 0.9527 on 3108 degrees of freedom\n",
       "Multiple R-squared:  0.8193,\tAdjusted R-squared:  0.8192 \n",
       "F-statistic: 1.409e+04 on 1 and 3108 DF,  p-value: < 0.00000000000000022\n"
      ]
     },
     "metadata": {},
     "output_type": "display_data"
    }
   ],
   "source": [
    "#regression no percent white as control\n",
    "regsmall<-lm(Y ~ x1, my_data3)\n",
    "summary(regsmall)"
   ]
  },
  {
   "cell_type": "code",
   "execution_count": 11,
   "id": "20a07233-e65f-47db-9d19-bc94aeb1ec4a",
   "metadata": {},
   "outputs": [
    {
     "data": {
      "text/plain": [
       "\n",
       "Call:\n",
       "lm(formula = Y ~ x1 + female_pct + white_pct, data = my_data3)\n",
       "\n",
       "Residuals:\n",
       "     Min       1Q   Median       3Q      Max \n",
       "-12.1435  -0.3643  -0.0619   0.3012  10.9558 \n",
       "\n",
       "Coefficients:\n",
       "              Estimate Std. Error t value             Pr(>|t|)    \n",
       "(Intercept)  0.9916309  0.3498073   2.835              0.00462 ** \n",
       "x1           1.1709031  0.0100133 116.935 < 0.0000000000000002 ***\n",
       "female_pct  -0.0380988  0.0068881  -5.531         0.0000000345 ***\n",
       "white_pct    0.0174700  0.0008332  20.969 < 0.0000000000000002 ***\n",
       "---\n",
       "Signif. codes:  0 ‘***’ 0.001 ‘**’ 0.01 ‘*’ 0.05 ‘.’ 0.1 ‘ ’ 1\n",
       "\n",
       "Residual standard error: 0.8894 on 3106 degrees of freedom\n",
       "Multiple R-squared:  0.8426,\tAdjusted R-squared:  0.8425 \n",
       "F-statistic:  5544 on 3 and 3106 DF,  p-value: < 0.00000000000000022\n"
      ]
     },
     "metadata": {},
     "output_type": "display_data"
    }
   ],
   "source": [
    "#collinearity Slides\n",
    "\n",
    "#Baseline Model \n",
    "regBase <- lm(Y~x1+female_pct+white_pct, my_data3)\n",
    "summary(regBase)"
   ]
  },
  {
   "cell_type": "code",
   "execution_count": 12,
   "id": "f59a6e5c-f2ce-4125-86f9-c0976048a5ed",
   "metadata": {},
   "outputs": [
    {
     "data": {
      "text/plain": [
       "\n",
       "Call:\n",
       "lm(formula = Y ~ x1 + female_pct + male_pct + white_pct, data = my_data3)\n",
       "\n",
       "Residuals:\n",
       "     Min       1Q   Median       3Q      Max \n",
       "-12.1435  -0.3643  -0.0619   0.3012  10.9558 \n",
       "\n",
       "Coefficients: (1 not defined because of singularities)\n",
       "              Estimate Std. Error t value             Pr(>|t|)    \n",
       "(Intercept)  0.9916309  0.3498073   2.835              0.00462 ** \n",
       "x1           1.1709031  0.0100133 116.935 < 0.0000000000000002 ***\n",
       "female_pct  -0.0380988  0.0068881  -5.531         0.0000000345 ***\n",
       "male_pct            NA         NA      NA                   NA    \n",
       "white_pct    0.0174700  0.0008332  20.969 < 0.0000000000000002 ***\n",
       "---\n",
       "Signif. codes:  0 ‘***’ 0.001 ‘**’ 0.01 ‘*’ 0.05 ‘.’ 0.1 ‘ ’ 1\n",
       "\n",
       "Residual standard error: 0.8894 on 3106 degrees of freedom\n",
       "Multiple R-squared:  0.8426,\tAdjusted R-squared:  0.8425 \n",
       "F-statistic:  5544 on 3 and 3106 DF,  p-value: < 0.00000000000000022\n"
      ]
     },
     "metadata": {},
     "output_type": "display_data"
    }
   ],
   "source": [
    "#Alternative Model – Perfect collinearity\n",
    "my_data3$male_pct=1-my_data3$female_pct\n",
    "regPC <- lm(Y~x1+female_pct+male_pct+white_pct, my_data3)\n",
    "summary(regPC)\n",
    "\n",
    "#note in the regression output below,  that male_pct coefficient is not estimated because male_pct is 1-female_pct, they are perfectly collinear\n",
    "#with each other, \n",
    "#the line male_pct has NA   NA\n",
    "#Non available NA"
   ]
  },
  {
   "cell_type": "code",
   "execution_count": null,
   "id": "5a1b7459-3036-496d-8e71-299a431e4b42",
   "metadata": {},
   "outputs": [],
   "source": [
    "#Alternative Model – Multi collinearity\n",
    "regMC <- lm(Y~x1+female_pct+white_pct+bh_pct, my_data3)\n",
    "#where corr(white_pct,bh_pct)=-0.92\n",
    "summary(regMC)"
   ]
  },
  {
   "cell_type": "code",
   "execution_count": null,
   "id": "717e3a72-6b68-44ca-a488-92f833ec77ef",
   "metadata": {},
   "outputs": [],
   "source": [
    "#for graph in slide 28\n",
    "#get the predicted Y hats\n",
    "my_data3$Yhat<-regBase$fitted.values\n",
    "\n",
    "#put Y and Y hat on same graph and x1 on horizontal axis\n",
    "#make combined scatter plot of Y data and fitted values of Y (Yhat)\n",
    "#given regression estimates usinf X1, white_pct and female_pct\n",
    "scatter_data_fittedVals <- ggplot(data = my_data3) + geom_point(aes(x=x1, y=Y, color = \"data\")) +\n",
    "  geom_point(aes(x=x1, y=Yhat, color = \"fitted\")) + \n",
    "  xlab(\"x1=Ratio Rodney to Obama Votes in 2012\") + ylab(\"Y=Ratio Trump to Clinton Votes in 2016 \") +\n",
    "  ggtitle(\"Y (Red) and Predicted Y (Blue) and x1\")\n",
    "scatter_data_fittedVals"
   ]
  }
 ],
 "metadata": {
  "kernelspec": {
   "display_name": "R",
   "language": "R",
   "name": "ir"
  },
  "language_info": {
   "codemirror_mode": "r",
   "file_extension": ".r",
   "mimetype": "text/x-r-source",
   "name": "R",
   "pygments_lexer": "r",
   "version": "4.3.2"
  }
 },
 "nbformat": 4,
 "nbformat_minor": 5
}
