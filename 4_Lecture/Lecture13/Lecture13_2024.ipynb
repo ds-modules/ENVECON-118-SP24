{
 "cells": [
  {
   "cell_type": "markdown",
   "id": "35ada569-515b-461e-91d7-5f86d19472b8",
   "metadata": {},
   "source": [
    "# Lecture 12- Spring 2024\n",
    "Villas-Boas\n",
    "\n",
    "This notebook does the following:\n",
    "\n",
    "Measuring amenities, hedonic model\n",
    "\n",
    "Standardizing\n",
    "\n",
    "Functional forms\n",
    "\n",
    "Selection x var, models, adjusted R squared\n",
    "\n",
    "Study Ch 6.1 + 6.3\n",
    "\n",
    "Today starts the material after the Midterm\n",
    "\n",
    "---------\n",
    "Midterm review topics posted on bcourses, with tables for midterm\n",
    "Practice Midterm posted, with solutions and formula sheet posted\n",
    "Quiz 3 includes material for midterm, has been posted. Quiz 4 already material for after midterm\n",
    "\n"
   ]
  },
  {
   "cell_type": "code",
   "execution_count": 1,
   "id": "d1c5f5f6-4926-408e-aecd-84907b8afce4",
   "metadata": {},
   "outputs": [
    {
     "name": "stderr",
     "output_type": "stream",
     "text": [
      "Installing package into ‘/srv/r’\n",
      "(as ‘lib’ is unspecified)\n",
      "\n",
      "\n",
      "lfe installed\n",
      "\n"
     ]
    }
   ],
   "source": [
    "# Load the 'pacman' package\n",
    "library(pacman) \n",
    "#packages to use load them now using the pacman \"manager\"\n",
    "p_load(dplyr, haven, readr) \n",
    "#Another great feature of p_load(): if you try to load a package that is not installed on your machine, p_load() install the package for you, rather than throwing an error. For instance, let’s install and load one final package named ggplot2. \n",
    "p_load(ggplot2)\n",
    "\n",
    "pacman::p_load(lfe, lmtest, haven, sandwich, tidyverse)\n",
    "pacman::p_load(lfe, lmtest, haven, sandwich, tidyverse,psych,car)\n",
    "# lfe for running fixed effects regression\n",
    "# lmtest for displaying robust SE in output table\n",
    "# haven for loading in dta files\n",
    "# sandwich for producing robust Var-Cov matrix\n",
    "# tidyverse for manipulating data and producing plots"
   ]
  },
  {
   "cell_type": "code",
   "execution_count": 2,
   "id": "bb849103",
   "metadata": {},
   "outputs": [],
   "source": [
    "#set scientific display off, thank you Roy\n",
    "options(scipen=999)"
   ]
  },
  {
   "cell_type": "code",
   "execution_count": 3,
   "id": "374492e7-7ae3-461c-a19e-db22081b78cc",
   "metadata": {},
   "outputs": [
    {
     "data": {
      "text/html": [
       "<table class=\"dataframe\">\n",
       "<caption>A tibble: 6 × 12</caption>\n",
       "<thead>\n",
       "\t<tr><th scope=col>price</th><th scope=col>crime</th><th scope=col>nox</th><th scope=col>rooms</th><th scope=col>dist</th><th scope=col>radial</th><th scope=col>proptax</th><th scope=col>stratio</th><th scope=col>ppoverty</th><th scope=col>lprice</th><th scope=col>lnox</th><th scope=col>lproptax</th></tr>\n",
       "\t<tr><th scope=col>&lt;dbl&gt;</th><th scope=col>&lt;dbl&gt;</th><th scope=col>&lt;dbl&gt;</th><th scope=col>&lt;dbl&gt;</th><th scope=col>&lt;dbl&gt;</th><th scope=col>&lt;dbl&gt;</th><th scope=col>&lt;dbl&gt;</th><th scope=col>&lt;dbl&gt;</th><th scope=col>&lt;dbl&gt;</th><th scope=col>&lt;dbl&gt;</th><th scope=col>&lt;dbl&gt;</th><th scope=col>&lt;dbl&gt;</th></tr>\n",
       "</thead>\n",
       "<tbody>\n",
       "\t<tr><td>24000</td><td>0.006</td><td>5.38</td><td>6.57</td><td>4.09</td><td>1</td><td>29.6</td><td>15.3</td><td>4.98</td><td>10.085809</td><td>1.682688</td><td>5.690360</td></tr>\n",
       "\t<tr><td>21599</td><td>0.027</td><td>4.69</td><td>6.42</td><td>4.97</td><td>2</td><td>24.2</td><td>17.8</td><td>9.14</td><td> 9.980402</td><td>1.545433</td><td>5.488938</td></tr>\n",
       "\t<tr><td>34700</td><td>0.027</td><td>4.69</td><td>7.18</td><td>4.97</td><td>2</td><td>24.2</td><td>17.8</td><td>4.03</td><td>10.454495</td><td>1.545433</td><td>5.488938</td></tr>\n",
       "\t<tr><td>33400</td><td>0.032</td><td>4.58</td><td>7.00</td><td>6.06</td><td>3</td><td>22.2</td><td>18.7</td><td>2.94</td><td>10.416311</td><td>1.521699</td><td>5.402678</td></tr>\n",
       "\t<tr><td>36199</td><td>0.069</td><td>4.58</td><td>7.15</td><td>6.06</td><td>3</td><td>22.2</td><td>18.7</td><td>5.33</td><td>10.496787</td><td>1.521699</td><td>5.402678</td></tr>\n",
       "\t<tr><td>28701</td><td>0.030</td><td>4.58</td><td>6.43</td><td>6.06</td><td>3</td><td>22.2</td><td>18.7</td><td>5.21</td><td>10.264688</td><td>1.521699</td><td>5.402678</td></tr>\n",
       "</tbody>\n",
       "</table>\n"
      ],
      "text/latex": [
       "A tibble: 6 × 12\n",
       "\\begin{tabular}{llllllllllll}\n",
       " price & crime & nox & rooms & dist & radial & proptax & stratio & ppoverty & lprice & lnox & lproptax\\\\\n",
       " <dbl> & <dbl> & <dbl> & <dbl> & <dbl> & <dbl> & <dbl> & <dbl> & <dbl> & <dbl> & <dbl> & <dbl>\\\\\n",
       "\\hline\n",
       "\t 24000 & 0.006 & 5.38 & 6.57 & 4.09 & 1 & 29.6 & 15.3 & 4.98 & 10.085809 & 1.682688 & 5.690360\\\\\n",
       "\t 21599 & 0.027 & 4.69 & 6.42 & 4.97 & 2 & 24.2 & 17.8 & 9.14 &  9.980402 & 1.545433 & 5.488938\\\\\n",
       "\t 34700 & 0.027 & 4.69 & 7.18 & 4.97 & 2 & 24.2 & 17.8 & 4.03 & 10.454495 & 1.545433 & 5.488938\\\\\n",
       "\t 33400 & 0.032 & 4.58 & 7.00 & 6.06 & 3 & 22.2 & 18.7 & 2.94 & 10.416311 & 1.521699 & 5.402678\\\\\n",
       "\t 36199 & 0.069 & 4.58 & 7.15 & 6.06 & 3 & 22.2 & 18.7 & 5.33 & 10.496787 & 1.521699 & 5.402678\\\\\n",
       "\t 28701 & 0.030 & 4.58 & 6.43 & 6.06 & 3 & 22.2 & 18.7 & 5.21 & 10.264688 & 1.521699 & 5.402678\\\\\n",
       "\\end{tabular}\n"
      ],
      "text/markdown": [
       "\n",
       "A tibble: 6 × 12\n",
       "\n",
       "| price &lt;dbl&gt; | crime &lt;dbl&gt; | nox &lt;dbl&gt; | rooms &lt;dbl&gt; | dist &lt;dbl&gt; | radial &lt;dbl&gt; | proptax &lt;dbl&gt; | stratio &lt;dbl&gt; | ppoverty &lt;dbl&gt; | lprice &lt;dbl&gt; | lnox &lt;dbl&gt; | lproptax &lt;dbl&gt; |\n",
       "|---|---|---|---|---|---|---|---|---|---|---|---|\n",
       "| 24000 | 0.006 | 5.38 | 6.57 | 4.09 | 1 | 29.6 | 15.3 | 4.98 | 10.085809 | 1.682688 | 5.690360 |\n",
       "| 21599 | 0.027 | 4.69 | 6.42 | 4.97 | 2 | 24.2 | 17.8 | 9.14 |  9.980402 | 1.545433 | 5.488938 |\n",
       "| 34700 | 0.027 | 4.69 | 7.18 | 4.97 | 2 | 24.2 | 17.8 | 4.03 | 10.454495 | 1.545433 | 5.488938 |\n",
       "| 33400 | 0.032 | 4.58 | 7.00 | 6.06 | 3 | 22.2 | 18.7 | 2.94 | 10.416311 | 1.521699 | 5.402678 |\n",
       "| 36199 | 0.069 | 4.58 | 7.15 | 6.06 | 3 | 22.2 | 18.7 | 5.33 | 10.496787 | 1.521699 | 5.402678 |\n",
       "| 28701 | 0.030 | 4.58 | 6.43 | 6.06 | 3 | 22.2 | 18.7 | 5.21 | 10.264688 | 1.521699 | 5.402678 |\n",
       "\n"
      ],
      "text/plain": [
       "  price crime nox  rooms dist radial proptax stratio ppoverty lprice   \n",
       "1 24000 0.006 5.38 6.57  4.09 1      29.6    15.3    4.98     10.085809\n",
       "2 21599 0.027 4.69 6.42  4.97 2      24.2    17.8    9.14      9.980402\n",
       "3 34700 0.027 4.69 7.18  4.97 2      24.2    17.8    4.03     10.454495\n",
       "4 33400 0.032 4.58 7.00  6.06 3      22.2    18.7    2.94     10.416311\n",
       "5 36199 0.069 4.58 7.15  6.06 3      22.2    18.7    5.33     10.496787\n",
       "6 28701 0.030 4.58 6.43  6.06 3      22.2    18.7    5.21     10.264688\n",
       "  lnox     lproptax\n",
       "1 1.682688 5.690360\n",
       "2 1.545433 5.488938\n",
       "3 1.545433 5.488938\n",
       "4 1.521699 5.402678\n",
       "5 1.521699 5.402678\n",
       "6 1.521699 5.402678"
      ]
     },
     "metadata": {},
     "output_type": "display_data"
    }
   ],
   "source": [
    "#read in a Stata dataset\n",
    "my_data <- read_dta(\"Lecture13HPRICE2.dta\")\n",
    "head(my_data)"
   ]
  },
  {
   "cell_type": "markdown",
   "id": "b8eb553a-caf2-451f-91d0-6dc927345d6d",
   "metadata": {},
   "source": [
    "\n",
    " \n",
    " \n",
    " Source:  D. Harrison and D.L. Rubinfeld (1978), \"Hedonic Housing Prices and the Demand for Clean Air,\" \n",
    "Journal of Environmental Economics and Management 5, 81-102. (data Lecture13Hprice2.dta in bcourses)\n",
    "Unit of analysis census tract in the Boston area – Most data 1970 U.S. Census.  \n",
    "The data below were obtained by merging/ matching average house prices and characteristics by census tract \n",
    "(1 to 6 ) with crime (census) levels  and pollution (variable 7) levels from another source.\n",
    "1. price           median housing price, $\n",
    "2. crime           crimes committed per capita\n",
    "3. ppoverty         % of people in poverty'\n",
    "4. rooms           avg number of rooms per house\n",
    "5. dist            weighted dist. to 5 employ centers\n",
    "6. stratio         average student-teacher ratio\n",
    "7. nox             nitrous oxide, parts per 100 million.  (EPA standard 5.3)\n"
   ]
  },
  {
   "cell_type": "code",
   "execution_count": 4,
   "id": "1ff3b772-080d-4626-b0ca-7b29702f5e7d",
   "metadata": {},
   "outputs": [
    {
     "data": {
      "text/html": [
       "<table class=\"dataframe\">\n",
       "<caption>A psych: 12 × 13</caption>\n",
       "<thead>\n",
       "\t<tr><th></th><th scope=col>vars</th><th scope=col>n</th><th scope=col>mean</th><th scope=col>sd</th><th scope=col>median</th><th scope=col>trimmed</th><th scope=col>mad</th><th scope=col>min</th><th scope=col>max</th><th scope=col>range</th><th scope=col>skew</th><th scope=col>kurtosis</th><th scope=col>se</th></tr>\n",
       "\t<tr><th></th><th scope=col>&lt;int&gt;</th><th scope=col>&lt;dbl&gt;</th><th scope=col>&lt;dbl&gt;</th><th scope=col>&lt;dbl&gt;</th><th scope=col>&lt;dbl&gt;</th><th scope=col>&lt;dbl&gt;</th><th scope=col>&lt;dbl&gt;</th><th scope=col>&lt;dbl&gt;</th><th scope=col>&lt;dbl&gt;</th><th scope=col>&lt;dbl&gt;</th><th scope=col>&lt;dbl&gt;</th><th scope=col>&lt;dbl&gt;</th><th scope=col>&lt;dbl&gt;</th></tr>\n",
       "</thead>\n",
       "<tbody>\n",
       "\t<tr><th scope=row>price</th><td> 1</td><td>506</td><td>22511.509881</td><td>9208.8561707</td><td>21200.000000</td><td>21535.692118</td><td>6078.6600000</td><td>5000.000000</td><td>50001.000000</td><td>45001.0000000</td><td> 1.1029987</td><td> 1.44176122</td><td>409.383591327</td></tr>\n",
       "\t<tr><th scope=row>crime</th><td> 2</td><td>506</td><td>    3.611536</td><td>   8.5902471</td><td>    0.256500</td><td>    1.684084</td><td>   0.3283959</td><td>   0.006000</td><td>   88.975998</td><td>   88.9699979</td><td> 5.2026129</td><td>36.76880405</td><td>  0.381883062</td></tr>\n",
       "\t<tr><th scope=row>nox</th><td> 3</td><td>506</td><td>    5.549783</td><td>   1.1583952</td><td>    5.380000</td><td>    5.454138</td><td>   1.2750355</td><td>   3.850000</td><td>    8.710000</td><td>    4.8600001</td><td> 0.7204428</td><td>-0.09231195</td><td>  0.051496946</td></tr>\n",
       "\t<tr><th scope=row>rooms</th><td> 4</td><td>506</td><td>    6.284051</td><td>   0.7025938</td><td>    6.210000</td><td>    6.252291</td><td>   0.5114970</td><td>   3.560000</td><td>    8.780000</td><td>    5.2199998</td><td> 0.4016121</td><td> 1.84033505</td><td>  0.031234103</td></tr>\n",
       "\t<tr><th scope=row>dist</th><td> 5</td><td>506</td><td>    3.795751</td><td>   2.1061365</td><td>    3.210000</td><td>    3.539975</td><td>   1.9125539</td><td>   1.130000</td><td>   12.130000</td><td>   11.0000001</td><td> 1.0060400</td><td> 0.45744274</td><td>  0.093629189</td></tr>\n",
       "\t<tr><th scope=row>radial</th><td> 6</td><td>506</td><td>    9.549407</td><td>   8.7072594</td><td>    5.000000</td><td>    8.733990</td><td>   2.9652000</td><td>   1.000000</td><td>   24.000000</td><td>   23.0000000</td><td> 0.9988651</td><td>-0.87892910</td><td>  0.387084894</td></tr>\n",
       "\t<tr><th scope=row>proptax</th><td> 7</td><td>506</td><td>   40.823715</td><td>  16.8537110</td><td>   33.000000</td><td>   40.004433</td><td>  10.8229789</td><td>  18.700001</td><td>   71.099998</td><td>   52.3999977</td><td> 0.6659891</td><td>-1.15031762</td><td>  0.749238841</td></tr>\n",
       "\t<tr><th scope=row>stratio</th><td> 8</td><td>506</td><td>   18.459289</td><td>   2.1658199</td><td>   19.100000</td><td>   18.667242</td><td>   1.6308606</td><td>  12.600000</td><td>   22.000000</td><td>    9.3999996</td><td>-0.8020029</td><td>-0.30257379</td><td>  0.096282441</td></tr>\n",
       "\t<tr><th scope=row>ppoverty</th><td> 9</td><td>506</td><td>   12.701482</td><td>   7.2380656</td><td>   11.360000</td><td>   11.919631</td><td>   7.1683714</td><td>   1.730000</td><td>   39.070000</td><td>   37.3399997</td><td> 0.9421348</td><td> 0.60830729</td><td>  0.321771266</td></tr>\n",
       "\t<tr><th scope=row>lprice</th><td>10</td><td>506</td><td>    9.941057</td><td>   0.4092549</td><td>    9.961757</td><td>    9.949468</td><td>   0.3119760</td><td>   8.517193</td><td>   10.819798</td><td>    2.3026056</td><td>-0.3200764</td><td> 0.75289006</td><td>  0.018193598</td></tr>\n",
       "\t<tr><th scope=row>lnox</th><td>11</td><td>506</td><td>    1.693091</td><td>   0.2014101</td><td>    1.682688</td><td>    1.684572</td><td>   0.2468201</td><td>   1.348073</td><td>    2.164472</td><td>    0.8163987</td><td> 0.3509602</td><td>-0.74426430</td><td>  0.008953773</td></tr>\n",
       "\t<tr><th scope=row>lproptax</th><td>12</td><td>506</td><td>    5.931405</td><td>   0.3963666</td><td>    5.799093</td><td>    5.931281</td><td>   0.3308327</td><td>   5.231109</td><td>    6.566672</td><td>    1.3355637</td><td> 0.3285996</td><td>-1.17916105</td><td>  0.017620644</td></tr>\n",
       "</tbody>\n",
       "</table>\n"
      ],
      "text/latex": [
       "A psych: 12 × 13\n",
       "\\begin{tabular}{r|lllllllllllll}\n",
       "  & vars & n & mean & sd & median & trimmed & mad & min & max & range & skew & kurtosis & se\\\\\n",
       "  & <int> & <dbl> & <dbl> & <dbl> & <dbl> & <dbl> & <dbl> & <dbl> & <dbl> & <dbl> & <dbl> & <dbl> & <dbl>\\\\\n",
       "\\hline\n",
       "\tprice &  1 & 506 & 22511.509881 & 9208.8561707 & 21200.000000 & 21535.692118 & 6078.6600000 & 5000.000000 & 50001.000000 & 45001.0000000 &  1.1029987 &  1.44176122 & 409.383591327\\\\\n",
       "\tcrime &  2 & 506 &     3.611536 &    8.5902471 &     0.256500 &     1.684084 &    0.3283959 &    0.006000 &    88.975998 &    88.9699979 &  5.2026129 & 36.76880405 &   0.381883062\\\\\n",
       "\tnox &  3 & 506 &     5.549783 &    1.1583952 &     5.380000 &     5.454138 &    1.2750355 &    3.850000 &     8.710000 &     4.8600001 &  0.7204428 & -0.09231195 &   0.051496946\\\\\n",
       "\trooms &  4 & 506 &     6.284051 &    0.7025938 &     6.210000 &     6.252291 &    0.5114970 &    3.560000 &     8.780000 &     5.2199998 &  0.4016121 &  1.84033505 &   0.031234103\\\\\n",
       "\tdist &  5 & 506 &     3.795751 &    2.1061365 &     3.210000 &     3.539975 &    1.9125539 &    1.130000 &    12.130000 &    11.0000001 &  1.0060400 &  0.45744274 &   0.093629189\\\\\n",
       "\tradial &  6 & 506 &     9.549407 &    8.7072594 &     5.000000 &     8.733990 &    2.9652000 &    1.000000 &    24.000000 &    23.0000000 &  0.9988651 & -0.87892910 &   0.387084894\\\\\n",
       "\tproptax &  7 & 506 &    40.823715 &   16.8537110 &    33.000000 &    40.004433 &   10.8229789 &   18.700001 &    71.099998 &    52.3999977 &  0.6659891 & -1.15031762 &   0.749238841\\\\\n",
       "\tstratio &  8 & 506 &    18.459289 &    2.1658199 &    19.100000 &    18.667242 &    1.6308606 &   12.600000 &    22.000000 &     9.3999996 & -0.8020029 & -0.30257379 &   0.096282441\\\\\n",
       "\tppoverty &  9 & 506 &    12.701482 &    7.2380656 &    11.360000 &    11.919631 &    7.1683714 &    1.730000 &    39.070000 &    37.3399997 &  0.9421348 &  0.60830729 &   0.321771266\\\\\n",
       "\tlprice & 10 & 506 &     9.941057 &    0.4092549 &     9.961757 &     9.949468 &    0.3119760 &    8.517193 &    10.819798 &     2.3026056 & -0.3200764 &  0.75289006 &   0.018193598\\\\\n",
       "\tlnox & 11 & 506 &     1.693091 &    0.2014101 &     1.682688 &     1.684572 &    0.2468201 &    1.348073 &     2.164472 &     0.8163987 &  0.3509602 & -0.74426430 &   0.008953773\\\\\n",
       "\tlproptax & 12 & 506 &     5.931405 &    0.3963666 &     5.799093 &     5.931281 &    0.3308327 &    5.231109 &     6.566672 &     1.3355637 &  0.3285996 & -1.17916105 &   0.017620644\\\\\n",
       "\\end{tabular}\n"
      ],
      "text/markdown": [
       "\n",
       "A psych: 12 × 13\n",
       "\n",
       "| <!--/--> | vars &lt;int&gt; | n &lt;dbl&gt; | mean &lt;dbl&gt; | sd &lt;dbl&gt; | median &lt;dbl&gt; | trimmed &lt;dbl&gt; | mad &lt;dbl&gt; | min &lt;dbl&gt; | max &lt;dbl&gt; | range &lt;dbl&gt; | skew &lt;dbl&gt; | kurtosis &lt;dbl&gt; | se &lt;dbl&gt; |\n",
       "|---|---|---|---|---|---|---|---|---|---|---|---|---|---|\n",
       "| price |  1 | 506 | 22511.509881 | 9208.8561707 | 21200.000000 | 21535.692118 | 6078.6600000 | 5000.000000 | 50001.000000 | 45001.0000000 |  1.1029987 |  1.44176122 | 409.383591327 |\n",
       "| crime |  2 | 506 |     3.611536 |    8.5902471 |     0.256500 |     1.684084 |    0.3283959 |    0.006000 |    88.975998 |    88.9699979 |  5.2026129 | 36.76880405 |   0.381883062 |\n",
       "| nox |  3 | 506 |     5.549783 |    1.1583952 |     5.380000 |     5.454138 |    1.2750355 |    3.850000 |     8.710000 |     4.8600001 |  0.7204428 | -0.09231195 |   0.051496946 |\n",
       "| rooms |  4 | 506 |     6.284051 |    0.7025938 |     6.210000 |     6.252291 |    0.5114970 |    3.560000 |     8.780000 |     5.2199998 |  0.4016121 |  1.84033505 |   0.031234103 |\n",
       "| dist |  5 | 506 |     3.795751 |    2.1061365 |     3.210000 |     3.539975 |    1.9125539 |    1.130000 |    12.130000 |    11.0000001 |  1.0060400 |  0.45744274 |   0.093629189 |\n",
       "| radial |  6 | 506 |     9.549407 |    8.7072594 |     5.000000 |     8.733990 |    2.9652000 |    1.000000 |    24.000000 |    23.0000000 |  0.9988651 | -0.87892910 |   0.387084894 |\n",
       "| proptax |  7 | 506 |    40.823715 |   16.8537110 |    33.000000 |    40.004433 |   10.8229789 |   18.700001 |    71.099998 |    52.3999977 |  0.6659891 | -1.15031762 |   0.749238841 |\n",
       "| stratio |  8 | 506 |    18.459289 |    2.1658199 |    19.100000 |    18.667242 |    1.6308606 |   12.600000 |    22.000000 |     9.3999996 | -0.8020029 | -0.30257379 |   0.096282441 |\n",
       "| ppoverty |  9 | 506 |    12.701482 |    7.2380656 |    11.360000 |    11.919631 |    7.1683714 |    1.730000 |    39.070000 |    37.3399997 |  0.9421348 |  0.60830729 |   0.321771266 |\n",
       "| lprice | 10 | 506 |     9.941057 |    0.4092549 |     9.961757 |     9.949468 |    0.3119760 |    8.517193 |    10.819798 |     2.3026056 | -0.3200764 |  0.75289006 |   0.018193598 |\n",
       "| lnox | 11 | 506 |     1.693091 |    0.2014101 |     1.682688 |     1.684572 |    0.2468201 |    1.348073 |     2.164472 |     0.8163987 |  0.3509602 | -0.74426430 |   0.008953773 |\n",
       "| lproptax | 12 | 506 |     5.931405 |    0.3963666 |     5.799093 |     5.931281 |    0.3308327 |    5.231109 |     6.566672 |     1.3355637 |  0.3285996 | -1.17916105 |   0.017620644 |\n",
       "\n"
      ],
      "text/plain": [
       "         vars n   mean         sd           median       trimmed     \n",
       "price     1   506 22511.509881 9208.8561707 21200.000000 21535.692118\n",
       "crime     2   506     3.611536    8.5902471     0.256500     1.684084\n",
       "nox       3   506     5.549783    1.1583952     5.380000     5.454138\n",
       "rooms     4   506     6.284051    0.7025938     6.210000     6.252291\n",
       "dist      5   506     3.795751    2.1061365     3.210000     3.539975\n",
       "radial    6   506     9.549407    8.7072594     5.000000     8.733990\n",
       "proptax   7   506    40.823715   16.8537110    33.000000    40.004433\n",
       "stratio   8   506    18.459289    2.1658199    19.100000    18.667242\n",
       "ppoverty  9   506    12.701482    7.2380656    11.360000    11.919631\n",
       "lprice   10   506     9.941057    0.4092549     9.961757     9.949468\n",
       "lnox     11   506     1.693091    0.2014101     1.682688     1.684572\n",
       "lproptax 12   506     5.931405    0.3963666     5.799093     5.931281\n",
       "         mad          min         max          range         skew      \n",
       "price    6078.6600000 5000.000000 50001.000000 45001.0000000  1.1029987\n",
       "crime       0.3283959    0.006000    88.975998    88.9699979  5.2026129\n",
       "nox         1.2750355    3.850000     8.710000     4.8600001  0.7204428\n",
       "rooms       0.5114970    3.560000     8.780000     5.2199998  0.4016121\n",
       "dist        1.9125539    1.130000    12.130000    11.0000001  1.0060400\n",
       "radial      2.9652000    1.000000    24.000000    23.0000000  0.9988651\n",
       "proptax    10.8229789   18.700001    71.099998    52.3999977  0.6659891\n",
       "stratio     1.6308606   12.600000    22.000000     9.3999996 -0.8020029\n",
       "ppoverty    7.1683714    1.730000    39.070000    37.3399997  0.9421348\n",
       "lprice      0.3119760    8.517193    10.819798     2.3026056 -0.3200764\n",
       "lnox        0.2468201    1.348073     2.164472     0.8163987  0.3509602\n",
       "lproptax    0.3308327    5.231109     6.566672     1.3355637  0.3285996\n",
       "         kurtosis    se           \n",
       "price     1.44176122 409.383591327\n",
       "crime    36.76880405   0.381883062\n",
       "nox      -0.09231195   0.051496946\n",
       "rooms     1.84033505   0.031234103\n",
       "dist      0.45744274   0.093629189\n",
       "radial   -0.87892910   0.387084894\n",
       "proptax  -1.15031762   0.749238841\n",
       "stratio  -0.30257379   0.096282441\n",
       "ppoverty  0.60830729   0.321771266\n",
       "lprice    0.75289006   0.018193598\n",
       "lnox     -0.74426430   0.008953773\n",
       "lproptax -1.17916105   0.017620644"
      ]
     },
     "metadata": {},
     "output_type": "display_data"
    }
   ],
   "source": [
    "#***summary stats of the data : price nox crime dist rooms ppoverty stratio\n",
    "\n",
    "#summary stats of data \n",
    "#one way describes all data:\n",
    "describe(my_data)"
   ]
  },
  {
   "cell_type": "code",
   "execution_count": 5,
   "id": "e39a5231-1121-4df0-b30c-b71f7a16e2d3",
   "metadata": {},
   "outputs": [
    {
     "data": {
      "text/html": [
       "<table class=\"dataframe\">\n",
       "<caption>A psych: 7 × 13</caption>\n",
       "<thead>\n",
       "\t<tr><th></th><th scope=col>vars</th><th scope=col>n</th><th scope=col>mean</th><th scope=col>sd</th><th scope=col>median</th><th scope=col>trimmed</th><th scope=col>mad</th><th scope=col>min</th><th scope=col>max</th><th scope=col>range</th><th scope=col>skew</th><th scope=col>kurtosis</th><th scope=col>se</th></tr>\n",
       "\t<tr><th></th><th scope=col>&lt;int&gt;</th><th scope=col>&lt;dbl&gt;</th><th scope=col>&lt;dbl&gt;</th><th scope=col>&lt;dbl&gt;</th><th scope=col>&lt;dbl&gt;</th><th scope=col>&lt;dbl&gt;</th><th scope=col>&lt;dbl&gt;</th><th scope=col>&lt;dbl&gt;</th><th scope=col>&lt;dbl&gt;</th><th scope=col>&lt;dbl&gt;</th><th scope=col>&lt;dbl&gt;</th><th scope=col>&lt;dbl&gt;</th><th scope=col>&lt;dbl&gt;</th></tr>\n",
       "</thead>\n",
       "<tbody>\n",
       "\t<tr><th scope=row>price</th><td>1</td><td>506</td><td>22511.509881</td><td>9208.8561707</td><td>21200.0000</td><td>21535.692118</td><td>6078.6600000</td><td>5000.000</td><td>50001.000</td><td>45001.00</td><td> 1.1029987</td><td> 1.44176122</td><td>409.38359133</td></tr>\n",
       "\t<tr><th scope=row>nox</th><td>2</td><td>506</td><td>    5.549783</td><td>   1.1583952</td><td>    5.3800</td><td>    5.454138</td><td>   1.2750355</td><td>   3.850</td><td>    8.710</td><td>    4.86</td><td> 0.7204428</td><td>-0.09231195</td><td>  0.05149695</td></tr>\n",
       "\t<tr><th scope=row>crime</th><td>3</td><td>506</td><td>    3.611536</td><td>   8.5902471</td><td>    0.2565</td><td>    1.684084</td><td>   0.3283959</td><td>   0.006</td><td>   88.976</td><td>   88.97</td><td> 5.2026129</td><td>36.76880405</td><td>  0.38188306</td></tr>\n",
       "\t<tr><th scope=row>dist</th><td>4</td><td>506</td><td>    3.795751</td><td>   2.1061365</td><td>    3.2100</td><td>    3.539975</td><td>   1.9125539</td><td>   1.130</td><td>   12.130</td><td>   11.00</td><td> 1.0060400</td><td> 0.45744274</td><td>  0.09362919</td></tr>\n",
       "\t<tr><th scope=row>rooms</th><td>5</td><td>506</td><td>    6.284051</td><td>   0.7025938</td><td>    6.2100</td><td>    6.252291</td><td>   0.5114970</td><td>   3.560</td><td>    8.780</td><td>    5.22</td><td> 0.4016121</td><td> 1.84033505</td><td>  0.03123410</td></tr>\n",
       "\t<tr><th scope=row>ppoverty</th><td>6</td><td>506</td><td>   12.701482</td><td>   7.2380656</td><td>   11.3600</td><td>   11.919631</td><td>   7.1683714</td><td>   1.730</td><td>   39.070</td><td>   37.34</td><td> 0.9421348</td><td> 0.60830729</td><td>  0.32177127</td></tr>\n",
       "\t<tr><th scope=row>stratio</th><td>7</td><td>506</td><td>   18.459289</td><td>   2.1658199</td><td>   19.1000</td><td>   18.667242</td><td>   1.6308606</td><td>  12.600</td><td>   22.000</td><td>    9.40</td><td>-0.8020029</td><td>-0.30257379</td><td>  0.09628244</td></tr>\n",
       "</tbody>\n",
       "</table>\n"
      ],
      "text/latex": [
       "A psych: 7 × 13\n",
       "\\begin{tabular}{r|lllllllllllll}\n",
       "  & vars & n & mean & sd & median & trimmed & mad & min & max & range & skew & kurtosis & se\\\\\n",
       "  & <int> & <dbl> & <dbl> & <dbl> & <dbl> & <dbl> & <dbl> & <dbl> & <dbl> & <dbl> & <dbl> & <dbl> & <dbl>\\\\\n",
       "\\hline\n",
       "\tprice & 1 & 506 & 22511.509881 & 9208.8561707 & 21200.0000 & 21535.692118 & 6078.6600000 & 5000.000 & 50001.000 & 45001.00 &  1.1029987 &  1.44176122 & 409.38359133\\\\\n",
       "\tnox & 2 & 506 &     5.549783 &    1.1583952 &     5.3800 &     5.454138 &    1.2750355 &    3.850 &     8.710 &     4.86 &  0.7204428 & -0.09231195 &   0.05149695\\\\\n",
       "\tcrime & 3 & 506 &     3.611536 &    8.5902471 &     0.2565 &     1.684084 &    0.3283959 &    0.006 &    88.976 &    88.97 &  5.2026129 & 36.76880405 &   0.38188306\\\\\n",
       "\tdist & 4 & 506 &     3.795751 &    2.1061365 &     3.2100 &     3.539975 &    1.9125539 &    1.130 &    12.130 &    11.00 &  1.0060400 &  0.45744274 &   0.09362919\\\\\n",
       "\trooms & 5 & 506 &     6.284051 &    0.7025938 &     6.2100 &     6.252291 &    0.5114970 &    3.560 &     8.780 &     5.22 &  0.4016121 &  1.84033505 &   0.03123410\\\\\n",
       "\tppoverty & 6 & 506 &    12.701482 &    7.2380656 &    11.3600 &    11.919631 &    7.1683714 &    1.730 &    39.070 &    37.34 &  0.9421348 &  0.60830729 &   0.32177127\\\\\n",
       "\tstratio & 7 & 506 &    18.459289 &    2.1658199 &    19.1000 &    18.667242 &    1.6308606 &   12.600 &    22.000 &     9.40 & -0.8020029 & -0.30257379 &   0.09628244\\\\\n",
       "\\end{tabular}\n"
      ],
      "text/markdown": [
       "\n",
       "A psych: 7 × 13\n",
       "\n",
       "| <!--/--> | vars &lt;int&gt; | n &lt;dbl&gt; | mean &lt;dbl&gt; | sd &lt;dbl&gt; | median &lt;dbl&gt; | trimmed &lt;dbl&gt; | mad &lt;dbl&gt; | min &lt;dbl&gt; | max &lt;dbl&gt; | range &lt;dbl&gt; | skew &lt;dbl&gt; | kurtosis &lt;dbl&gt; | se &lt;dbl&gt; |\n",
       "|---|---|---|---|---|---|---|---|---|---|---|---|---|---|\n",
       "| price | 1 | 506 | 22511.509881 | 9208.8561707 | 21200.0000 | 21535.692118 | 6078.6600000 | 5000.000 | 50001.000 | 45001.00 |  1.1029987 |  1.44176122 | 409.38359133 |\n",
       "| nox | 2 | 506 |     5.549783 |    1.1583952 |     5.3800 |     5.454138 |    1.2750355 |    3.850 |     8.710 |     4.86 |  0.7204428 | -0.09231195 |   0.05149695 |\n",
       "| crime | 3 | 506 |     3.611536 |    8.5902471 |     0.2565 |     1.684084 |    0.3283959 |    0.006 |    88.976 |    88.97 |  5.2026129 | 36.76880405 |   0.38188306 |\n",
       "| dist | 4 | 506 |     3.795751 |    2.1061365 |     3.2100 |     3.539975 |    1.9125539 |    1.130 |    12.130 |    11.00 |  1.0060400 |  0.45744274 |   0.09362919 |\n",
       "| rooms | 5 | 506 |     6.284051 |    0.7025938 |     6.2100 |     6.252291 |    0.5114970 |    3.560 |     8.780 |     5.22 |  0.4016121 |  1.84033505 |   0.03123410 |\n",
       "| ppoverty | 6 | 506 |    12.701482 |    7.2380656 |    11.3600 |    11.919631 |    7.1683714 |    1.730 |    39.070 |    37.34 |  0.9421348 |  0.60830729 |   0.32177127 |\n",
       "| stratio | 7 | 506 |    18.459289 |    2.1658199 |    19.1000 |    18.667242 |    1.6308606 |   12.600 |    22.000 |     9.40 | -0.8020029 | -0.30257379 |   0.09628244 |\n",
       "\n"
      ],
      "text/plain": [
       "         vars n   mean         sd           median     trimmed     \n",
       "price    1    506 22511.509881 9208.8561707 21200.0000 21535.692118\n",
       "nox      2    506     5.549783    1.1583952     5.3800     5.454138\n",
       "crime    3    506     3.611536    8.5902471     0.2565     1.684084\n",
       "dist     4    506     3.795751    2.1061365     3.2100     3.539975\n",
       "rooms    5    506     6.284051    0.7025938     6.2100     6.252291\n",
       "ppoverty 6    506    12.701482    7.2380656    11.3600    11.919631\n",
       "stratio  7    506    18.459289    2.1658199    19.1000    18.667242\n",
       "         mad          min      max       range    skew       kurtosis   \n",
       "price    6078.6600000 5000.000 50001.000 45001.00  1.1029987  1.44176122\n",
       "nox         1.2750355    3.850     8.710     4.86  0.7204428 -0.09231195\n",
       "crime       0.3283959    0.006    88.976    88.97  5.2026129 36.76880405\n",
       "dist        1.9125539    1.130    12.130    11.00  1.0060400  0.45744274\n",
       "rooms       0.5114970    3.560     8.780     5.22  0.4016121  1.84033505\n",
       "ppoverty    7.1683714    1.730    39.070    37.34  0.9421348  0.60830729\n",
       "stratio     1.6308606   12.600    22.000     9.40 -0.8020029 -0.30257379\n",
       "         se          \n",
       "price    409.38359133\n",
       "nox        0.05149695\n",
       "crime      0.38188306\n",
       "dist       0.09362919\n",
       "rooms      0.03123410\n",
       "ppoverty   0.32177127\n",
       "stratio    0.09628244"
      ]
     },
     "metadata": {},
     "output_type": "display_data"
    }
   ],
   "source": [
    "#to describe only a subset\n",
    "data2<-cbind(my_data$price,my_data$nox,my_data$crime,my_data$dist,my_data$rooms,my_data$ppoverty,my_data$stratio)\n",
    "\n",
    "##Renaming first four columns columns\n",
    "colnames(data2) <- c(\"price\", \"nox\", \"crime\", \"dist\", \"rooms\", \"ppoverty\", \"stratio\")\n",
    "\n",
    "describe(data2)"
   ]
  },
  {
   "cell_type": "code",
   "execution_count": 6,
   "id": "2a2eb499-4319-4d02-b838-f9258c7700cc",
   "metadata": {},
   "outputs": [
    {
     "data": {
      "image/png": "[encoded data removed]",
      "text/plain": [
       "Plot with title “Nox”"
      ]
     },
     "metadata": {
      "image/png": {
       "height": 420,
       "width": 420
      }
     },
     "output_type": "display_data"
    }
   ],
   "source": [
    "#box plot of NOX\n",
    "boxplot(my_data$nox, main=\"Nox\" ) \n",
    "# box plot for 'nox'\n",
    "\n",
    "#/*NOX: the variable in measured in parts per 100 mill (pp100m)  nitrogen dioxide\n",
    "#The   EPA official annual standard is 5.3 ppm\n",
    "#https://www3.epa.gov/ttn/naaqs/standards/nox/s_nox_history.html \n",
    "#*/\n",
    "#  /*REVIEW for MIDTERM: What do you see in terms of the data standard deviation\n",
    "\n",
    "#and Max Min of annual NOX in US census tracts?  \n",
    "#  Variable | Obs        Mean    Std. Dev.       Min        Max\n",
    "#nox |        506    5.549783    1.158395       3.85       8.71\n",
    "#What is the average NOX among the data census tracts? What is standard error of the average?\n",
    "\n",
    "\n",
    "#  We know that average 5.549783   \n",
    "# and std dev of the data in sample is 1.158395\n",
    "\n",
    "#Answer= std dev of average is = 1.158395/square_root(506)\n",
    "#*/\n",
    "  "
   ]
  },
  {
   "cell_type": "code",
   "execution_count": 7,
   "id": "20d94da3-6191-415d-959a-cf8f38ed15fe",
   "metadata": {},
   "outputs": [
    {
     "data": {
      "text/plain": [
       "\n",
       "Call:\n",
       "lm(formula = price ~ nox + crime + dist + rooms + ppoverty + \n",
       "    stratio, data = my_data)\n",
       "\n",
       "Residuals:\n",
       "     Min       1Q   Median       3Q      Max \n",
       "-13163.8  -3004.4   -761.9   1872.2  28594.3 \n",
       "\n",
       "Coefficients:\n",
       "            Estimate Std. Error t value             Pr(>|t|)    \n",
       "(Intercept) 34431.70    4732.08   7.276     0.00000000000134 ***\n",
       "nox         -1757.66     331.46  -5.303     0.00000017173215 ***\n",
       "crime         -80.58      30.48  -2.644              0.00846 ** \n",
       "dist        -1202.37     170.50  -7.052     0.00000000000591 ***\n",
       "rooms        4412.58     415.85  10.611 < 0.0000000000000002 ***\n",
       "ppoverty     -519.77      48.42 -10.735 < 0.0000000000000002 ***\n",
       "stratio      -998.83     115.82  -8.624 < 0.0000000000000002 ***\n",
       "---\n",
       "Signif. codes:  0 ‘***’ 0.001 ‘**’ 0.01 ‘*’ 0.05 ‘.’ 0.1 ‘ ’ 1\n",
       "\n",
       "Residual standard error: 5040 on 499 degrees of freedom\n",
       "Multiple R-squared:  0.704,\tAdjusted R-squared:  0.7005 \n",
       "F-statistic: 197.8 on 6 and 499 DF,  p-value: < 0.00000000000000022\n"
      ]
     },
     "metadata": {},
     "output_type": "display_data"
    }
   ],
   "source": [
    "reg13 <- lm(price~nox+crime+dist+rooms+ppoverty+stratio, my_data)\n",
    "summary(reg13)"
   ]
  },
  {
   "cell_type": "markdown",
   "id": "86e65a7a-9e26-4ea7-8cc7-3a227f4a3424",
   "metadata": {},
   "source": [
    "What do you see in the output of regression above\n",
    "\n",
    "One particulate increase in nox ceteris paribus, and  price drops by 1757 dollars\n",
    "One more crime per capita ceteris paribus, and housing price drops by 80 dollars\n",
    "\n",
    "Do, for yourself, a review for midterm, t test? significance ? pvalues?"
   ]
  },
  {
   "cell_type": "markdown",
   "id": "ef27ea55-10d1-4b10-8bad-7247fb8cfd41",
   "metadata": {},
   "source": [
    "# New : \n",
    "\n",
    "But how do we compare the importance of these two factors  that have different means and ranges?\n",
    "\n",
    "Crime 0 to 89 average 3.6  \n",
    "\n",
    "Nox average 5.5 pp 100 mill and from 3.8 to 8.71?\n",
    "\n",
    "Solution, compare them after standardizing the coefficients. And the one with the largest standardized coefficient has the most effect"
   ]
  },
  {
   "cell_type": "code",
   "execution_count": 9,
   "id": "20a07233-e65f-47db-9d19-bc94aeb1ec4a",
   "metadata": {},
   "outputs": [
    {
     "data": {
      "text/html": [
       "<table class=\"dataframe\">\n",
       "<caption>A matrix: 1 × 7 of type dbl</caption>\n",
       "<thead>\n",
       "\t<tr><th scope=col>sx1</th><th scope=col>sx2</th><th scope=col>sx3</th><th scope=col>sx4</th><th scope=col>sx5</th><th scope=col>sx6</th><th scope=col>sx7</th></tr>\n",
       "</thead>\n",
       "<tbody>\n",
       "\t<tr><td>0</td><td>-0.2210981</td><td>-0.07516394</td><td>-0.2749917</td><td>0.3366601</td><td>-0.4085311</td><td>-0.2349146</td></tr>\n",
       "</tbody>\n",
       "</table>\n"
      ],
      "text/latex": [
       "A matrix: 1 × 7 of type dbl\n",
       "\\begin{tabular}{lllllll}\n",
       " sx1 & sx2 & sx3 & sx4 & sx5 & sx6 & sx7\\\\\n",
       "\\hline\n",
       "\t 0 & -0.2210981 & -0.07516394 & -0.2749917 & 0.3366601 & -0.4085311 & -0.2349146\\\\\n",
       "\\end{tabular}\n"
      ],
      "text/markdown": [
       "\n",
       "A matrix: 1 × 7 of type dbl\n",
       "\n",
       "| sx1 | sx2 | sx3 | sx4 | sx5 | sx6 | sx7 |\n",
       "|---|---|---|---|---|---|---|\n",
       "| 0 | -0.2210981 | -0.07516394 | -0.2749917 | 0.3366601 | -0.4085311 | -0.2349146 |\n",
       "\n"
      ],
      "text/plain": [
       "     sx1 sx2        sx3         sx4        sx5       sx6        sx7       \n",
       "[1,] 0   -0.2210981 -0.07516394 -0.2749917 0.3366601 -0.4085311 -0.2349146"
      ]
     },
     "metadata": {},
     "output_type": "display_data"
    }
   ],
   "source": [
    "#New-------------------------\n",
    "#But how do we compare the importance of these two factors  that have different means and ranges?\n",
    "\n",
    "#  Crime 0 to 89 average 3.6  \n",
    "\n",
    "#nox average 5.5 pp 100 mill and from 3.8 to 8.71?\n",
    "\n",
    "#standardize the coefficients then, to do so\n",
    "\n",
    "\n",
    "#lets write a function\n",
    "#coefficients:\n",
    "b <- reg13$coef\n",
    "X<-cbind(1,my_data$nox,my_data$crime,my_data$dist,my_data$rooms,my_data$ppoverty,my_data$stratio)\n",
    "sx1<-sd(X[,1])\n",
    "sx2<-sd(X[,2])\n",
    "sx3<-sd(X[,3])\n",
    "sx4<-sd(X[,4])\n",
    "sx5<-sd(X[,5])\n",
    "sx6<-sd(X[,6])\n",
    "sx7<-sd(X[,7])\n",
    "sx<-cbind(sx1,sx2,sx3,sx4,sx5,sx6,sx7)\n",
    "sy<-sd(my_data$price)\n",
    "beta <- b * sx/sy\n",
    "#pring standardized betas:\n",
    "beta"
   ]
  },
  {
   "cell_type": "markdown",
   "id": "819cce4a-54a8-462a-826e-82fd9d40326c",
   "metadata": {},
   "source": [
    "From the above results we see that\n",
    "\n",
    "One std dev increase in Nox ceteris paribus, and  price drops by 0.22 standard dev\n",
    "\n",
    "One std dev increase in crime ceteris paribus, and housing price drops by 0.075 std dev\n",
    "\n",
    "This is how we compare the importance of these two factors  that have different means and ranges, \n",
    "using Z scores and interpreting the standardized betas"
   ]
  },
  {
   "cell_type": "markdown",
   "id": "99754144-52f4-4e8a-81b8-dcfca0438351",
   "metadata": {},
   "source": [
    "# New:\n",
    "\n",
    "How do we choose between two models with the same y variable but different X's on the right?\n",
    "\n",
    "In this case, which model is preferred?\n",
    "\n",
    "Model 1 $log(price)_i=\\beta_1+\\beta_2 log(distance)_i+\\epsilon_{1i}$\n",
    "\n",
    "or\n",
    "\n",
    "Model 2 $log(price)_i=\\alpha_1+\\alpha_2 distance_i+\\alpha_3 distance^2_i+\\epsilon_{2i}$\n",
    "\n",
    "where the second model has distance and the square of distance as regressors, whereas the first model has log \n",
    "distance as a regressor. Both have log(price) as the dependent variable.\n",
    "\n",
    "How do we choose between two models with the same y variable but different X's on the right?\n",
    "\n",
    "\n"
   ]
  },
  {
   "cell_type": "code",
   "execution_count": 10,
   "id": "f59a6e5c-f2ce-4125-86f9-c0976048a5ed",
   "metadata": {},
   "outputs": [
    {
     "data": {
      "text/plain": [
       "\n",
       "Call:\n",
       "lm(formula = lprice ~ lnox + rooms + ppoverty + ldist, data = my_data)\n",
       "\n",
       "Residuals:\n",
       "    Min      1Q  Median      3Q     Max \n",
       "-0.9985 -0.1154 -0.0124  0.1128  1.0021 \n",
       "\n",
       "Coefficients:\n",
       "            Estimate Std. Error t value             Pr(>|t|)    \n",
       "(Intercept) 10.76614    0.25285  42.579 < 0.0000000000000002 ***\n",
       "lnox        -0.59334    0.10424  -5.692     0.00000002138236 ***\n",
       "rooms        0.13537    0.01863   7.265     0.00000000000143 ***\n",
       "ppoverty    -0.03490    0.00216 -16.161 < 0.0000000000000002 ***\n",
       "ldist       -0.19174    0.03788  -5.062     0.00000058438597 ***\n",
       "---\n",
       "Signif. codes:  0 ‘***’ 0.001 ‘**’ 0.01 ‘*’ 0.05 ‘.’ 0.1 ‘ ’ 1\n",
       "\n",
       "Residual standard error: 0.2312 on 501 degrees of freedom\n",
       "Multiple R-squared:  0.6834,\tAdjusted R-squared:  0.6809 \n",
       "F-statistic: 270.4 on 4 and 501 DF,  p-value: < 0.00000000000000022\n"
      ]
     },
     "metadata": {},
     "output_type": "display_data"
    }
   ],
   "source": [
    "\n",
    "\n",
    "#logs specification? log of distance\n",
    "\n",
    "lprice<-log(my_data$price)\n",
    "ldist<-log(my_data$dist)\n",
    "lnox<-log(my_data$nox)\n",
    "\n",
    "reg13log<-lm(lprice~lnox+rooms+ppoverty+ldist,my_data)\n",
    "summary(reg13log)\n",
    "\n"
   ]
  },
  {
   "cell_type": "code",
   "execution_count": 11,
   "id": "de2f1ac3-45b1-4e2d-94fa-60ddbe02d7c8",
   "metadata": {},
   "outputs": [
    {
     "data": {
      "text/plain": [
       "\n",
       "Call:\n",
       "lm(formula = lprice ~ nox + crime + dist + dist2 + rooms + ppoverty + \n",
       "    stratio, data = my_data)\n",
       "\n",
       "Residuals:\n",
       "     Min       1Q   Median       3Q      Max \n",
       "-0.72953 -0.10903 -0.01039  0.10005  0.83580 \n",
       "\n",
       "Coefficients:\n",
       "             Estimate Std. Error t value             Pr(>|t|)    \n",
       "(Intercept) 11.220529   0.211784  52.981 < 0.0000000000000002 ***\n",
       "nox         -0.098098   0.014850  -6.606 0.000000000101772783 ***\n",
       "crime       -0.010501   0.001249  -8.411 0.000000000000000433 ***\n",
       "dist        -0.122620   0.024146  -5.078 0.000000539002084613 ***\n",
       "dist2        0.006774   0.002030   3.337              0.00091 ***\n",
       "rooms        0.113690   0.016665   6.822 0.000000000026135585 ***\n",
       "ppoverty    -0.028510   0.001944 -14.668 < 0.0000000000000002 ***\n",
       "stratio     -0.038550   0.004643  -8.302 0.000000000000000969 ***\n",
       "---\n",
       "Signif. codes:  0 ‘***’ 0.001 ‘**’ 0.01 ‘*’ 0.05 ‘.’ 0.1 ‘ ’ 1\n",
       "\n",
       "Residual standard error: 0.2019 on 498 degrees of freedom\n",
       "Multiple R-squared:  0.7599,\tAdjusted R-squared:  0.7565 \n",
       "F-statistic: 225.2 on 7 and 498 DF,  p-value: < 0.00000000000000022\n"
      ]
     },
     "metadata": {},
     "output_type": "display_data"
    }
   ],
   "source": [
    "\n",
    "#regress log price on distance and distance squared specification \n",
    "my_data$dist2<-my_data$dist*my_data$dist\n",
    "reg13sq<-lm(lprice~nox+crime+dist+dist2+rooms+ppoverty+stratio, my_data)\n",
    "summary(reg13sq)\n"
   ]
  },
  {
   "cell_type": "markdown",
   "id": "56f74548-9eba-466e-b7aa-a1a66767d430",
   "metadata": {},
   "source": [
    "\n",
    "What do you see? \n",
    "Which MODEL REGRESSION do we choose in this case?\n",
    " \n",
    "Adj R squared with ldist  0.68\n",
    "\n",
    "Adj R squared with dist and dist2    0.7565\n",
    "\n",
    "So you would choose the one with dist and dist 2 \n",
    "instead of the one with log distance, because it has the higher adjusted R squared"
   ]
  },
  {
   "cell_type": "markdown",
   "id": "6459235e-4dc1-44bb-b30b-4d2172b7b2dd",
   "metadata": {},
   "source": [
    "Take away\n",
    "\n",
    "if same y and different X's then use adjusted R2 like in this lecture\n",
    "\n",
    "how do we select between a regression of price on nox or a regression of log price on nox?\n",
    "different method for model selection, in a future lecture. \n",
    "\n"
   ]
  },
  {
   "cell_type": "markdown",
   "id": "1e2ee637-8957-419e-9821-00eef7e4f903",
   "metadata": {},
   "source": [
    "The end"
   ]
  }
 ],
 "metadata": {
  "kernelspec": {
   "display_name": "R",
   "language": "R",
   "name": "ir"
  },
  "language_info": {
   "codemirror_mode": "r",
   "file_extension": ".r",
   "mimetype": "text/x-r-source",
   "name": "R",
   "pygments_lexer": "r",
   "version": "4.3.2"
  }
 },
 "nbformat": 4,
 "nbformat_minor": 5
}
