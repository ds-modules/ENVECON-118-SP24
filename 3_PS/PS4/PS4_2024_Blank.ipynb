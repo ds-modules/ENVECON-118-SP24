{
 "cells": [
  {
   "cell_type": "markdown",
   "id": "8601decf",
   "metadata": {},
   "source": [
    "# EEP/IAS 118 - Introductory Applied Econometrics\n",
    "\n",
    "## Problem Set 4, Spring 2024, Villas-Boas"
   ]
  },
  {
   "cell_type": "markdown",
   "id": "dac73b6a-753e-4786-9cbc-ee252b984b7a",
   "metadata": {},
   "source": [
    "<span style=\"color:red;\"> Please read the updated instructions: </span> \n",
    "\n",
    "**In order to receive full credit**\n",
    "\n",
    "**(1)** Please **assign all and only the appropriate pages to each question** on Gradescope.\n",
    "\n",
    "**(2)** Codes and outputs not properly displayed will be marked as incorrect.\n",
    "\n",
    "**(3)** All confidence intervals/hypothesis tests **must be conducted by hand** - use functions like sd() or mean() to get values to plug into the formulas. No credit will be given for the use of canned interval/test functions (i.e. linearHypothesis()), though checking if your answer aligns with those obtained from using canned functions advisable.\n",
    "\n",
    "**(4)** Please use (i) coding cells for calculations / demonstrating work, and (ii) markdown cells for all written response and calculated values. Your written response in the markdown cell should have everything you'd like the grader to read. (i.e. In 5 steps of hypothesis testing, if you calculate the test statistic and critical value (or p-value), the calculated values should be explicitly mentioned in the markdown cell.)"
   ]
  },
  {
   "cell_type": "markdown",
   "id": "4cc62bea",
   "metadata": {},
   "source": [
    "### Preamble\n",
    "When writing R code, it's a good habit to start your notebooks or R scripts with a preamble, a section where you load all necessary packages, set paths or change the working directory, or declare other options.\n",
    "\n",
    "Use the below code cell to load in packages you will use throughout the problem set (at least `haven`, `tidyverse` and `ggplot2` this week). "
   ]
  },
  {
   "cell_type": "code",
   "execution_count": null,
   "id": "ae050731-5e11-465d-8278-bdc264d04ad7",
   "metadata": {},
   "outputs": [],
   "source": [
    "# Preamble"
   ]
  },
  {
   "cell_type": "markdown",
   "id": "cbb73252-a1ed-406d-ba24-b83005bed7a4",
   "metadata": {},
   "source": [
    "### Exercise 1. \n",
    "Data Description available on bCourses and is called pset4_2024.dta.\n",
    "\n",
    "We use a dataset describing prices and characteristics of apartments sold in 2015 in a country, in addition to neighborhood characteristics and indicators on what season of the year each sale took place.\n",
    "\n",
    "*Note: In economics and in EEP 118, log always refers to the natural log, ln(.)*"
   ]
  },
  {
   "cell_type": "markdown",
   "id": "4ed7552f",
   "metadata": {},
   "source": [
    "| VARIABLE | Definition\t|\n",
    "|:-:|:-:|\n",
    "| spring | A dummy variable = 1 if apartment sold in Spring 2015 and = 0 otherwise |\n",
    "| fall | A dummy variable = 1 if apartment sold in Fall 2015 and = 0 otherwise |\n",
    "| winter | A dummy variable = 1 if apartment sold in Winter 2015 and = 0 otherwise |\n",
    "| sizeofunit | Size of unit in square meters | \n",
    "| price | Apartment price in Patacas |\n",
    "| floor | Apartment floor (values range from -1 (basement) to 79 (79th floor)) |\n",
    "| constructionyear | Year of construction |\n",
    "| numberofhighschools | Number of high schools near apartment |\n",
    "| distancetonearestgreenest | Network distance to greenest green space in meters |\n",
    "| mediumage | Medium age of residents |\n",
    "| populationdensity | Population density (population/area) |\n",
    "| distanceSubway | Distance to a subway station in meters |\n"
   ]
  },
  {
   "attachments": {},
   "cell_type": "markdown",
   "id": "1e27d8a3",
   "metadata": {},
   "source": [
    "#### Q1-1. ####\n",
    "Read in the data and create a new column for the log of price, calling it *lprice*.\r\n"
   ]
  },
  {
   "cell_type": "code",
   "execution_count": null,
   "id": "adaa9dfe-9cac-4d62-8337-93d46c8804ed",
   "metadata": {},
   "outputs": [],
   "source": [
    "# Code for Q1-1"
   ]
  },
  {
   "attachments": {},
   "cell_type": "markdown",
   "id": "990bc551",
   "metadata": {},
   "source": [
    "#### Q1-2 ####\n",
    "For variables *price*, *lprice* and *distanceSubway* get the sample mean, standard deviation, minimum, and maximum. (No need to convert units or to write them out.)"
   ]
  },
  {
   "cell_type": "code",
   "execution_count": null,
   "id": "8c6d3029-1abe-4327-83ab-48b5d6efe87d",
   "metadata": {},
   "outputs": [],
   "source": [
    "# Code for Q1-2"
   ]
  },
  {
   "attachments": {},
   "cell_type": "markdown",
   "id": "1efda7db-8e67-4f02-8aa2-a9079446d78d",
   "metadata": {},
   "source": [
    "#### Q1-3 ####\n",
    "a) Create an *overlapped* histogram for variable *price* for (group 1) apartments that are located close to the subway (close defined as less than 250 away from the subway station entrance) and for (group 2) apartments 250 or more meters from the subway entrance. Remember to add titles, axes labels and legends for the two groups. \n",
    "\n",
    "(Hint: See PS3 Q6 | Histograms section of Coding Bootcamp Part 4)\n",
    "\n",
    "b) Report the average apartment price for each group."
   ]
  },
  {
   "cell_type": "code",
   "execution_count": null,
   "id": "5f304f6d-d301-4aff-9604-82188611bb8e",
   "metadata": {},
   "outputs": [],
   "source": [
    "# Code for Q1-3(a)"
   ]
  },
  {
   "cell_type": "code",
   "execution_count": null,
   "id": "c6260729-4ee3-4e65-b9d4-5acf2e0165da",
   "metadata": {},
   "outputs": [],
   "source": [
    "# Code for Q1-3(b)"
   ]
  },
  {
   "cell_type": "markdown",
   "id": "5cdd7542",
   "metadata": {},
   "source": [
    "#### Q1-4 ####\n",
    "Estimate the model of apartment price as a linear function of a constant, distance to subway, and distance to the closest green space. Interpret the estimated parameter for distance to greenspace using Sign, Size, and Significance (SSS)."
   ]
  },
  {
   "cell_type": "code",
   "execution_count": null,
   "id": "815c3bbf-aa13-4014-ae95-16a127ae472b",
   "metadata": {},
   "outputs": [],
   "source": [
    "# Code for Q1-4"
   ]
  },
  {
   "cell_type": "markdown",
   "id": "7790a375-2d58-4ee9-8cf7-8f286c27afc6",
   "metadata": {},
   "source": [
    "➡️ Written Response for Q1-4\n",
    "\n",
    "**Sign:**\n",
    "\n",
    "\n",
    "**Size:**\n",
    "\n",
    "\n",
    "**Significance:**\n"
   ]
  },
  {
   "cell_type": "markdown",
   "id": "0056203d",
   "metadata": {},
   "source": [
    "#### Q1-5 ####\n",
    "In absolute terms, does a change in distance to the subway or distance to the closest greenspace have a larger impact on the expected apartment sales price? (Use Standardized Regression - `lm.beta() function` - Lecture 13/Section 6) "
   ]
  },
  {
   "cell_type": "code",
   "execution_count": null,
   "id": "62622225-378c-4d87-9223-6c8f0da9698e",
   "metadata": {},
   "outputs": [],
   "source": [
    "# Code for Q1-5"
   ]
  },
  {
   "cell_type": "markdown",
   "id": "c6c077d0-286e-4127-8401-b4b5cd9dce2b",
   "metadata": {},
   "source": [
    "➡️ Written Response for Q1-5"
   ]
  },
  {
   "cell_type": "markdown",
   "id": "a1a348f2",
   "metadata": {},
   "source": [
    "#### Q1-6 ####\n",
    "\n",
    "Estimate the (unrestricted) model of apartment prices as a linear function of a constant, distance to subway, distance to the closest greenspace, number of high schools, medium age of residents, and population density. Test the joint significance of the variables medium age of residents, number of high schools, and population density at the 5% significance level, by estimating the relevant restricted model. \n",
    "\n",
    "*Note*: (i) Conduct HT by hand to receive credit, demonstrating your work. (ii) The calculated test statistic, critical value / p-value should be explicitly mentioned in the markdown cell in your write-up of the five steps. Please do not assume the reader will correctly pick out all the relevant values from the outputs of the coding cell."
   ]
  },
  {
   "cell_type": "code",
   "execution_count": null,
   "id": "d1231599-ace0-431a-be7a-b8362041a89c",
   "metadata": {},
   "outputs": [],
   "source": [
    "# Code for Q1-6"
   ]
  },
  {
   "cell_type": "markdown",
   "id": "d50db098-443a-4687-9268-9d06b7e7bac9",
   "metadata": {},
   "source": [
    "➡️ Written Response for Q1-6\n",
    "\n",
    "**Step 1**: State the hypotheses. \n",
    "\n",
    "**Step 2**: Test statistic.\n",
    "\n",
    "**Step 3**: Critical value or p-value.\n",
    "\n",
    "**Step 4**: Rejection Rule.\n",
    "\n",
    "**Step 5**: Interpret."
   ]
  },
  {
   "attachments": {},
   "cell_type": "markdown",
   "id": "7b62f55b",
   "metadata": {},
   "source": [
    "#### Q1-7 ####\n",
    "\n",
    "Assume you estimate the model of apartment prices as a linear function of the same covariates from Q1-6 + additional characteristics of the apartment (size of unit, floor, and construction year). And you are interested in testing jointly the significance of these three additional variables at the 1% significance level. Again, to receive full credit, you must conduct this hypothesis test by hand and show your steps and calculations. "
   ]
  },
  {
   "cell_type": "code",
   "execution_count": null,
   "id": "44d95ee7-ded5-47bd-819b-36d2633c6bc0",
   "metadata": {},
   "outputs": [],
   "source": [
    "# Code for Q1-7"
   ]
  },
  {
   "cell_type": "markdown",
   "id": "7a0d9bff-7b9e-404c-b397-14d2e890632a",
   "metadata": {},
   "source": [
    "➡️ Written Response for Q1-7\n",
    "\n",
    "**Step 1**: State the hypotheses. \n",
    "\n",
    "**Step 2**: Test statistic.\n",
    "\n",
    "**Step 3**: Critical value or p-value.\n",
    "\n",
    "**Step 4**: Rejection Rule.\n",
    "\n",
    "**Step 5**: Interpret."
   ]
  },
  {
   "cell_type": "markdown",
   "id": "72ef7f99",
   "metadata": {},
   "source": [
    "#### Q1-8 ####\n",
    "I am still worried that the regression in Part 7 above is not considering that the housing market is seasonal, and more people may be seeking to buy during the different seasons of the year, and therefore, we could have omitted variable biases. What regression do you propose to control for the season of the year each apartment sold? Estimate that model. Looking at the coefficient on the distance to the subway, what do you conclude regarding the seasonality of the housing markets having caused bias on our previous estimates of the impact of distance to the subway in the unrestricted model in Part 7? (Be explicit about whether we likely have upward or downward bias.)"
   ]
  },
  {
   "cell_type": "code",
   "execution_count": null,
   "id": "2ea7bccf-ac8a-4d80-9842-041a711efe6d",
   "metadata": {},
   "outputs": [],
   "source": [
    "# Code for Q1-8"
   ]
  },
  {
   "cell_type": "markdown",
   "id": "8d391cbb-3750-4ff5-af24-e1ed7ae09c41",
   "metadata": {},
   "source": [
    "➡️ Written Response for Q1-8"
   ]
  },
  {
   "cell_type": "markdown",
   "id": "53da7932-6569-44b9-a27a-55252ef77a57",
   "metadata": {},
   "source": [
    "#### Q1-9 ####\n",
    "\n",
    "Consider now a model where you regress the price on only the size of the unit, the floor of the unit, and the distance to the subway. \n",
    "\n",
    "(a) Construct a 90% confidence interval for the average predicted price for an apartment that is located 200 meters from the subway, has a size of 250 square meters, and is on the 26th floor of a building.\n",
    "\n",
    "(b) What would be the 90% confidence interval for the predicted price of a **specific** apartment (not the average predicted) with those characteristics. \n",
    "\n",
    "(c) Are you surprsied that the intervals differ between (a) and (b)? And that the latter has a wider interval?\n",
    "\n",
    "(see Lecture 14 / Section 8)"
   ]
  },
  {
   "cell_type": "code",
   "execution_count": null,
   "id": "fc9f432c-0394-4c38-bc2e-7f83ff6a288b",
   "metadata": {},
   "outputs": [],
   "source": [
    "# Code for Q1-9(a)"
   ]
  },
  {
   "cell_type": "markdown",
   "id": "932b6165-7bc6-42c6-bbee-4a9196240de9",
   "metadata": {},
   "source": [
    "➡️ Final Answer for Q1-9(a)"
   ]
  },
  {
   "cell_type": "code",
   "execution_count": null,
   "id": "e12d691d-5443-42fb-9ad1-5389c829d66e",
   "metadata": {},
   "outputs": [],
   "source": [
    "# Code for Q1-9(b)"
   ]
  },
  {
   "cell_type": "markdown",
   "id": "c215ebab-cd9b-4075-b83e-1521de99f906",
   "metadata": {},
   "source": [
    "➡️ Final Answer for Q1-9(b)"
   ]
  },
  {
   "cell_type": "code",
   "execution_count": null,
   "id": "d4a9ffdf-5305-4436-981c-e18e54d1d8be",
   "metadata": {},
   "outputs": [],
   "source": [
    "➡️ Written Response for Q1-9(c)"
   ]
  },
  {
   "cell_type": "markdown",
   "id": "c5e605c8",
   "metadata": {},
   "source": [
    "#### Q1-10 ####\n",
    "\n",
    "We want to select the best model to use for a future analysis of the benefits of public transportation. We are selecting between model (11.1) and model (11.2) below. Estimate both models, creating any variables you need. Based on your estimated output using linear regression analysis, which model would you choose to use in the remaining analysis by policymakers considering the economic benefits of expanding subway station locations?\n",
    "\n",
    "$ (10.1) \\;\\; Price_i = \\beta_0 + \\beta_1 distanceSubway_i + \\beta_2 DistanceGreen_i + \\beta_3 SizeOfUnit_i + u_i $\n",
    "\n",
    "$ (10.2) \\;\\; Price_i = \\gamma_0 + \\gamma_1 log(distanceSubway) + \\gamma_2 DistanceGreen_i + \\gamma_3 SizeOfUnit_i + \\gamma_4 SizeOfUnit * distanceSubway_i + w_i $"
   ]
  },
  {
   "cell_type": "code",
   "execution_count": null,
   "id": "13581711-4f18-4a90-89e7-f10cea6645bd",
   "metadata": {},
   "outputs": [],
   "source": [
    "# Code for Q1-10"
   ]
  },
  {
   "cell_type": "markdown",
   "id": "8b337055-eb23-41cb-a6ff-d84a0af76a22",
   "metadata": {},
   "source": [
    "➡️ Written Response for Q1-10"
   ]
  },
  {
   "cell_type": "markdown",
   "id": "51cfbb85",
   "metadata": {},
   "source": [
    "### Exercise 2 ###\n",
    "\n",
    "We want to select the best model to use for a future analysis of the benefits of public transportation. We are selecting between model (2.1) and model (2.2) below.\n",
    "\n",
    "$ (2.1) \\;\\; price_i = \\beta_0 + \\beta_1 distanceSubway_i + \\beta_2 log(SizeOfUnit)_i + u_i $\n",
    "\n",
    "$ (2.2) \\;\\; log(price_i) = \\alpha_0 + \\alpha_1 distanceSubway_i + \\alpha_2 log(SizeOfUnit)_i + w_i $\n",
    "\n",
    "(a) Estimate both models above, creating any variables you need. Using model (2.2), please predict the average apartment price that is 150 meters away from the subway and 170 square meters in size. *(Hint: See Lecture 14 / Section 8)*"
   ]
  },
  {
   "cell_type": "code",
   "execution_count": null,
   "id": "fa1a6a7f-0deb-46cc-b3fd-5ea1e3812674",
   "metadata": {},
   "outputs": [],
   "source": [
    "# Code for Q2-a"
   ]
  },
  {
   "cell_type": "markdown",
   "id": "999cd9a9-70c7-4589-8f1d-edae18f16ba0",
   "metadata": {},
   "source": [
    "➡️ Written Response for Q2-a"
   ]
  },
  {
   "cell_type": "markdown",
   "id": "e2f9c1c0-bbe5-4eb1-9782-67b2a3cf56ca",
   "metadata": {},
   "source": [
    "(b) Which of the two models would you suggest policymakers should use when considering the economic benefits of expanding subway station locations? *(Hint: See Lecture 15 / Section 8)*"
   ]
  },
  {
   "cell_type": "code",
   "execution_count": null,
   "id": "2e1b8642-96ae-4bbf-855f-bb43d9f46c2c",
   "metadata": {},
   "outputs": [],
   "source": [
    "# Code for Q2-b"
   ]
  },
  {
   "cell_type": "markdown",
   "id": "57e11043-1d41-40be-9b8d-742b14749fca",
   "metadata": {},
   "source": [
    "➡️ Written Response for Q2-b"
   ]
  },
  {
   "cell_type": "markdown",
   "id": "52bfd06c",
   "metadata": {},
   "source": [
    "### Exercise 3\n",
    "\n",
    "(a) Estimate model (2.2) from above separately for apartments sold in the spring and those not sold in the spring (aka those sold in any other season). Formally test at the 10% significance level whether the regressions should be estimated separately or whether we can pool the data like we have been doing. *(Hint: See Lecture 17)*"
   ]
  },
  {
   "cell_type": "code",
   "execution_count": null,
   "id": "c2694347-a736-4037-8fd8-b8cbe4913942",
   "metadata": {},
   "outputs": [],
   "source": [
    "# Code for Ex3-a"
   ]
  },
  {
   "cell_type": "markdown",
   "id": "0bc49256-546b-4f52-97bb-790d5eceef71",
   "metadata": {},
   "source": [
    "➡️ Written Response for Ex3-a\n",
    "\n",
    "**Step 1**: State the hypotheses. \n",
    "\n",
    "**Step 2**: Test statistic.\n",
    "\n",
    "**Step 3**: Critical value or p-value.\n",
    "\n",
    "**Step 4**: Rejection Rule.\n",
    "\n",
    "**Step 5**: Interpret."
   ]
  },
  {
   "cell_type": "markdown",
   "id": "b2abd9a0",
   "metadata": {},
   "source": [
    "\n",
    "(b) I would like to know whether the effect of the log of apartment size on the log of apartment price in model 2.2 differs depending on the median age of the residents being more than 55 years old. Estimate a model that enables you to test this and please interpret your findings. Compare the p-value for the estimated coefficient of interest to the 10 percent significance level to conclude whether you reject the null of no heterogeneity in the effect of log apartment size on log apartment prices mattering differently in areas where median age is 55 or more (older population), against a two-sided alternative, holding all else equal. *(Hint: Generate an over55 dummy variable and then the interaction terms you need and add it to the regression)*"
   ]
  },
  {
   "cell_type": "code",
   "execution_count": null,
   "id": "81479f09-d76f-4875-aec3-b9cc5db7c621",
   "metadata": {},
   "outputs": [],
   "source": [
    "# Code for Ex3-b"
   ]
  },
  {
   "cell_type": "markdown",
   "id": "dab37a80-a4dc-4666-aec5-a01f57a41cbd",
   "metadata": {},
   "source": [
    "➡️ Written Response for Ex3-b\n",
    "\n",
    "**Step 1**: State the hypotheses. \n",
    "\n",
    "**Step 2**: Test statistic.\n",
    "\n",
    "**Step 3**: Critical value or p-value.\n",
    "\n",
    "**Step 4**: Rejection Rule.\n",
    "\n",
    "**Step 5**: Interpret."
   ]
  }
 ],
 "metadata": {
  "kernelspec": {
   "display_name": "R",
   "language": "R",
   "name": "ir"
  },
  "language_info": {
   "codemirror_mode": "r",
   "file_extension": ".r",
   "mimetype": "text/x-r-source",
   "name": "R",
   "pygments_lexer": "r",
   "version": "4.3.2"
  }
 },
 "nbformat": 4,
 "nbformat_minor": 5
}
