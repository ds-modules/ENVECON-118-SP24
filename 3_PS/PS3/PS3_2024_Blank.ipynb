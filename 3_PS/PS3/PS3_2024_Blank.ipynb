{
 "cells": [
  {
   "cell_type": "markdown",
   "metadata": {},
   "source": [
    "# EEP/IAS 118 - Introductory Applied Econometrics Problem Set 3\n",
    "\n",
    "## Problem Set 3, Spring 2024, Villas-Boas\n",
    "\n",
    "#### <span style=\"text-decoration: underline\">Deadline: See Gradescope</span> \n",
    "\n",
    "DSP students. Given we must release solutions sufficiently before the MT, we are only permitting a shorter extension than usual. DSP deadline is March 10, Sunday, 11:59 AM (midday, not midnight).\n",
    "\n",
    "Submit materials as **one pdf** on [Gradescope](https://www.gradescope.com/courses/716259). After uploading the pdf to Gradescope, please **assign appropriate pages to each question**. Questions that do not have assigned pages on Gradescope may not be graded. Codes and outputs not properly displayed will be marked as incorrect."
   ]
  },
  {
   "cell_type": "markdown",
   "metadata": {},
   "source": [
    "Before submitting, make sure that all code cells are run with all output fully visible, and **do not print the entire dataset in your submission**. If you viewed the data earlier, remove that line of code and re-run the code cell (as datasets get bigger this adds many pages to pdf submissions and increases the likelihood we miss your answer).\n",
    "\n",
    "*Note: Coding Bootcamp Part 3 and Part 4 covers all necessary R methods."
   ]
  },
  {
   "cell_type": "markdown",
   "metadata": {},
   "source": [
    "### Preamble\n",
    "When writing R code, it's a good habit to start your notebooks or R scripts with a preamble, a section where you load all necessary packages, set paths or change the working directory, or declare other options.\n",
    "\n",
    "Use the below code cell to load in packages you will use throughout the problem set (at least `haven`, `tidyverse`, and `ggplot2` this week). "
   ]
  },
  {
   "cell_type": "code",
   "execution_count": null,
   "metadata": {},
   "outputs": [],
   "source": [
    "# include preamble code here"
   ]
  },
  {
   "cell_type": "markdown",
   "metadata": {},
   "source": [
    "## Exercise 1: Relationship between Housing Prices and Characteristics of Locations\n",
    "\n",
    "This exercise is to be completed using R. We will establish a simple linear relationship between **housing prices and characteristics of location** in the sample. This is called a hedonic regression, relating price to characteristics. The idea is that if a characteristic is valued in a region, like good schools, demand for housing increases as people move there, and then housing prices increase, all else constant. Vice versa, if people do not value a characteristic, like crime.  \n",
    "\n",
    "When there is a clean-up in former hazardous waste locations, what happens to the prices of houses nearby? This problem set explores individuals’ willingness to pay (WTP) for environmental quality by estimating whether increasing environmental quality impacts housing prices in the area. For this problem set, the change in environmental quality results from the cleanup of hazardous waste sites. Consider Superfund sites, areas designated by the US government as contaminated by hazardous waste that pose a hazard to environmental/human health. The EPA placed certain Superfund sites on the National Priorities List (npl=1), which meant that these sites were legally required to undergo remediation. If individuals value environmental quality, then housing prices should increase after nearby NPL sites are cleaned up. To determine the extent to which individuals value the cleanup, we can compare housing close to a hazardous waste site that was cleaned up to “comparable” homes near a similar waste site that was not cleaned up. "
   ]
  },
  {
   "attachments": {},
   "cell_type": "markdown",
   "metadata": {},
   "source": [
    "### Data description\n",
    "The data include observations on census tracts within 2 miles of a hazardous waste site (Census tracts are statistical subdivisions of a county defined by the Census Bureau to allow comparisons from census to census). This includes census tracts where the site in question was on the NPL, and thus was legally required to be cleaned up, as well as those that were not on the NPL. The shared dataset contains the following variables for each census tract in the year 2000:\n",
    "\n",
    "|Variable name \t|\tDefinition\t| \n",
    "|:-:|:-|\n",
    "| fips | Federal Information Processing Standards (FIPS) census tract identifier|\n",
    "| npl | A binary indicator for whether the site in a given census tract was placed on the NPL!|\n",
    "|price|\tMedian housing value (in USD.) -- called housing price, henceforth|\n",
    "|ba_or_better| % of the population that has a Bachelors degree or higher|\n",
    "|unemprt\t| Unemployment rate|\n",
    "|povrat\t| Poverty rate |"
   ]
  },
  {
   "attachments": {},
   "cell_type": "markdown",
   "metadata": {},
   "source": [
    "**1.** (i) Read the data into R using `mydata <- read_dta(\"dataPset3_2024.dta\")`. (ii) Create a new variable, by computing the natural log of housing price, and call it *lprice*. (iii) How many observations are there in the data?"
   ]
  },
  {
   "cell_type": "code",
   "execution_count": null,
   "metadata": {},
   "outputs": [],
   "source": [
    "# insert your code here"
   ]
  },
  {
   "cell_type": "markdown",
   "metadata": {},
   "source": [
    "**2.** Report (a) the minimum, (b) the median, (c) the sample mean, and (d) the maximum, using `summary()` for the variables lprice, price, povrate, unemprt, and npl.\n",
    "\n",
    "(Hint: see the section on summary() in Coding Bootcamp Part 1)"
   ]
  },
  {
   "cell_type": "code",
   "execution_count": null,
   "metadata": {},
   "outputs": [],
   "source": [
    "# insert your code here"
   ]
  },
  {
   "attachments": {},
   "cell_type": "markdown",
   "metadata": {},
   "source": [
    "**3.** Create a histogram for the variable price.\n",
    "\n",
    "Remember to title and label everything.\n",
    "\n",
    "_Hint: see the Histograms section of Coding Bootcamp Part 4_"
   ]
  },
  {
   "cell_type": "code",
   "execution_count": null,
   "metadata": {},
   "outputs": [],
   "source": [
    "# insert your code here"
   ]
  },
  {
   "attachments": {},
   "cell_type": "markdown",
   "metadata": {},
   "source": [
    "**4.** Using the dataset, we now compare housing across the two groups (group **npl= 1** and **npl= 0**). How many census tracts have been cleaned up (that is, npl=1), and how many census tracts have npl=0? "
   ]
  },
  {
   "cell_type": "code",
   "execution_count": null,
   "metadata": {},
   "outputs": [],
   "source": [
    "# insert your code here"
   ]
  },
  {
   "cell_type": "markdown",
   "metadata": {},
   "source": [
    "➡️ Type your written answer for _Exercise 1 Question 4_ here (replacing this text)."
   ]
  },
  {
   "attachments": {},
   "cell_type": "markdown",
   "metadata": {},
   "source": [
    "**5.** Draw separate histograms of the housing price in each group of census tracts with and without NPL. \n",
    "\n",
    "_Hint: see the Histograms section of Coding Bootcamp Part 4_"
   ]
  },
  {
   "cell_type": "code",
   "execution_count": null,
   "metadata": {},
   "outputs": [],
   "source": [
    "# insert your code here"
   ]
  },
  {
   "cell_type": "markdown",
   "metadata": {},
   "source": [
    "**6.** Overlap both histograms into the same graph and comment on differences (be precise - and explain why the differences intuitively make sense).\n",
    "\n",
    "_Hint: see the “Stacking/Multiple Histograms” section of Coding Bootcamp Part\\_4_"
   ]
  },
  {
   "cell_type": "code",
   "execution_count": null,
   "metadata": {},
   "outputs": [],
   "source": [
    "# insert your code here"
   ]
  },
  {
   "cell_type": "markdown",
   "metadata": {},
   "source": [
    "➡️ Type your written answer for _Exercise 1 Question 6_ here (replacing this text)."
   ]
  },
  {
   "attachments": {},
   "cell_type": "markdown",
   "metadata": {},
   "source": [
    "**7.** Construct a 99% confidence interval for the mean housing price for census tracts listed on the NPL (**npl == 1**), clearly writing out the estimates of the three components required for building the relevant CI. Give an interpretation of these results in a sentence. \n",
    "\n",
    "_Hint: use `mean()` and `sd()` to get the necessary information to construct the CI_"
   ]
  },
  {
   "cell_type": "code",
   "execution_count": null,
   "metadata": {},
   "outputs": [],
   "source": [
    "# insert code here"
   ]
  },
  {
   "cell_type": "markdown",
   "metadata": {},
   "source": [
    "➡️ Type your answer to _Exercise 1 Question 7_ here (replacing this text)"
   ]
  },
  {
   "attachments": {},
   "cell_type": "markdown",
   "metadata": {},
   "source": [
    "**8.**\tLet $D$ be the difference in population mean of prices between the **NPL=1** and **NPL=0**  groups. State an estimator $\\hat{D}$ for $D$ and use the estimator to compute an estimate of $D$. Compute a standard error for $\\hat{D}$. Derive a 90% confidence interval for $D$ and interpret in one sentence. "
   ]
  },
  {
   "cell_type": "code",
   "execution_count": null,
   "metadata": {},
   "outputs": [],
   "source": [
    "# insert your code here"
   ]
  },
  {
   "cell_type": "markdown",
   "metadata": {},
   "source": [
    "➡️ Type your answer to _Exercise 1 Question 8_ here (replacing this text)"
   ]
  },
  {
   "attachments": {},
   "cell_type": "markdown",
   "metadata": {},
   "source": [
    "**9.** Using the data, test whether the average of the housing price for the **NPL=1** group is statistically different at the 1% significance level (α = 0.01) from average housing price in the **NPL=0** group (that is, in terms of the hypothesis, the null is equal, and the alternative is not equal). \n",
    "\n",
    "Explicitly write out the 5-step procedure for hypothesis testing."
   ]
  },
  {
   "cell_type": "code",
   "execution_count": null,
   "metadata": {},
   "outputs": [],
   "source": [
    "# insert your code here"
   ]
  },
  {
   "cell_type": "markdown",
   "metadata": {},
   "source": [
    "➡️ Type your answer to _Exercise 1 Question 9_ here (replacing this text)\n",
    "\n",
    "**Step 1:** \n",
    "\n",
    "**Step 2:** \n",
    "\n",
    "**Step 3:** \n",
    "\n",
    "**Step 4:** \n",
    "\n",
    "**Step 5:** "
   ]
  },
  {
   "attachments": {},
   "cell_type": "markdown",
   "metadata": {},
   "source": [
    "**10.**\tRegress **price** on a **constant**, **npl** , **ba_or_better**, **unemprt**, and **povrat**. Generate a series of the predicted values of price and plot those against the price data series: What do you see in terms of fit? (Start by thinking about what we would see in the graph if the model perfectly predicted price.)\n",
    "\n",
    "_For generating predicted values of price from a model, see R bootcamp 2.5. Use `lm_object$fitted.values`_"
   ]
  },
  {
   "cell_type": "code",
   "execution_count": null,
   "metadata": {},
   "outputs": [],
   "source": [
    "# insert your code here"
   ]
  },
  {
   "attachments": {},
   "cell_type": "markdown",
   "metadata": {},
   "source": [
    "**11.**\tWhat is the percent variation of housing prices that the model is explaining, and what percent is the model NOT explaining?"
   ]
  },
  {
   "cell_type": "markdown",
   "metadata": {},
   "source": [
    "➡️ Type your answer to _Exercise 1 Question 11_ here (replacing this text)"
   ]
  },
  {
   "attachments": {},
   "cell_type": "markdown",
   "metadata": {},
   "source": [
    "**12.**\tCompute the residuals series and plot the **residuals** on the vertical axis against **ba_or_better** in the x axis, using `ggplot()`. Is the constant variance assumption for the residuals valid or not for different levels of **ba_or_better**, when you look at the scatter plot of the estimated residuals?"
   ]
  },
  {
   "cell_type": "code",
   "execution_count": null,
   "metadata": {},
   "outputs": [],
   "source": [
    "# insert your code here"
   ]
  },
  {
   "cell_type": "markdown",
   "metadata": {},
   "source": [
    "➡️ Type your answer to _Exercise 1 Question 12_ here (replacing this text)"
   ]
  },
  {
   "cell_type": "markdown",
   "metadata": {},
   "source": [
    "**13.**\tUsing the triplet Sign, Size, Significance (SSS), let’s interpret two of the coefficients from the model in Question 10. \n",
    "\n",
    "**(a)** What can you say of the effect of **povrat** on housing prices holding other factors constant? \n",
    "\n",
    "(For this question, when interpreting \"Size\", rather than moving the explanatory variable of interest **povrat** by 1 unit, which is a shift in proportion of households in poverty by 100 percentage points, consider shifting it by more sensible 0.01 unit. \"As poverty rate in the Census Tract increases by 1 percentage point, ...\")"
   ]
  },
  {
   "cell_type": "markdown",
   "metadata": {},
   "source": [
    "➡️ Type your answer to _Exercise 1 Question 13 part (a)_ here (replacing this text)\n",
    "\n",
    "**Sign:**\n",
    "\n",
    "**Size:**\n",
    "\n",
    "**Significance:**"
   ]
  },
  {
   "cell_type": "markdown",
   "metadata": {},
   "source": [
    "**(b)** What about the coefficient on **npl**? Use the (SSS) interpretation again."
   ]
  },
  {
   "cell_type": "markdown",
   "metadata": {},
   "source": [
    "➡️ Type your answer to _Exercise 1 Question 14 part (b)_ here (replacing this text)\n",
    "\n",
    "\n",
    "**Sign:**\n",
    "\n",
    "**Size:**\n",
    "\n",
    "**Significance:**"
   ]
  },
  {
   "attachments": {},
   "cell_type": "markdown",
   "metadata": {},
   "source": [
    "**14.**\tFirst, using the data, estimate correlation between **povrat** and the **ba_or_better**.\n",
    "\n",
    "Given what you found in Question 10's regression, and using the correlation between **povrat** and the **ba_or_better**, what do you expect would happen to the estimated coefficient on **ba_or_better** if you omit the poverty rate (**povrat**) from the regression considered in question 10? \n",
    "\n",
    "Go through the Omitted Variable formula and explain briefly. (We are not asking you to run the linear regression on the \"naive\" model.)"
   ]
  },
  {
   "cell_type": "code",
   "execution_count": null,
   "metadata": {},
   "outputs": [],
   "source": [
    "# insert your code here"
   ]
  },
  {
   "cell_type": "markdown",
   "metadata": {},
   "source": [
    "➡️ Type your answer to _Exercise 1 Question 15_ here (replacing this text)"
   ]
  },
  {
   "cell_type": "markdown",
   "metadata": {},
   "source": [
    "**15.**\tNow estimate the model in Question 10 but do not include **povrat**. What is the new estimate of the coefficient on **ba_or_better**, and do you confirm your answer in Question 14? "
   ]
  },
  {
   "cell_type": "code",
   "execution_count": null,
   "metadata": {},
   "outputs": [],
   "source": [
    "# insert your code here"
   ]
  },
  {
   "cell_type": "markdown",
   "metadata": {},
   "source": [
    "➡️ Type your answer to _Exercise 1 Question 16_ here (replacing this text)"
   ]
  },
  {
   "cell_type": "markdown",
   "metadata": {},
   "source": [
    "**16.**\tWhat happens to the R squared ($R^2$) when you omit the **povrat** variable in the equation compared to the R squared in Question 10?"
   ]
  },
  {
   "cell_type": "code",
   "execution_count": null,
   "metadata": {},
   "outputs": [],
   "source": [
    "# insert your code"
   ]
  },
  {
   "cell_type": "markdown",
   "metadata": {},
   "source": [
    "➡️ Type your answer to _Exercise 1 Question 17_ here (replacing this text)"
   ]
  },
  {
   "cell_type": "markdown",
   "metadata": {},
   "source": [
    "**17** Run a linear model of the log of prices (**lprice)** on the same variables in question 10. Please interpret the estimated coefficient for **npl**. Use SSS interpretation again. What do you conclude?"
   ]
  },
  {
   "cell_type": "code",
   "execution_count": null,
   "metadata": {},
   "outputs": [],
   "source": [
    "# insert your code here"
   ]
  },
  {
   "cell_type": "markdown",
   "metadata": {},
   "source": [
    "➡️ Type your answer to _Exercise 1 Question 16_ here (replacing this text)\n",
    "\n",
    "\n",
    "**Sign:**\n",
    "\n",
    "**Size:**\n",
    "\n",
    "**Significance:**"
   ]
  },
  {
   "cell_type": "markdown",
   "metadata": {},
   "source": [
    "## Exercise 2: Survey Evidence about OVB"
   ]
  },
  {
   "attachments": {},
   "cell_type": "markdown",
   "metadata": {},
   "source": [
    "Assume we surveyed a _random sample_ of 68 EEP118 Students."
   ]
  },
  {
   "cell_type": "markdown",
   "metadata": {},
   "source": [
    " | | Percent Answering both OVB Questions after Lecture 7 Correctly | Total number of respondents |\n",
    " |:--|:--:|:--:|\n",
    " | Overall | 41.2% | 68 |\n",
    " | Among Soccer Fans | 44.7% | 38 |\n",
    " | Among Non Soccer Fans | 36.7% | 30 |"
   ]
  },
  {
   "attachments": {},
   "cell_type": "markdown",
   "metadata": {},
   "source": [
    "Let $p$ be the true but unknown proportion of the population (all EEP118 students) that would have answered both OVB questions correctly."
   ]
  },
  {
   "cell_type": "markdown",
   "metadata": {},
   "source": [
    "**1.**\tUse the survey results to estimate $p$. Also estimate the standard error of your estimate. "
   ]
  },
  {
   "cell_type": "code",
   "execution_count": null,
   "metadata": {},
   "outputs": [],
   "source": [
    "# insert any code here for using R as your calculator"
   ]
  },
  {
   "cell_type": "markdown",
   "metadata": {},
   "source": [
    "➡️ Type your answer to _Exercise 2 Question 1_ here (replacing this text)"
   ]
  },
  {
   "cell_type": "markdown",
   "metadata": {},
   "source": [
    "**2.**\tConstruct a 95% confidence interval for $p$. Interpret. "
   ]
  },
  {
   "cell_type": "code",
   "execution_count": null,
   "metadata": {},
   "outputs": [],
   "source": [
    "# insert any code here for using R as your calculator"
   ]
  },
  {
   "cell_type": "markdown",
   "metadata": {},
   "source": [
    "➡️ Type your answer to _Exercise 2 Question 2_ here (replacing this text)"
   ]
  },
  {
   "cell_type": "markdown",
   "metadata": {},
   "source": [
    "**3.**\tIs there statistical evidence that more than 50% of respondents would have answered correctly? Use the 5 steps for hypothesis testing with a 5% significance level. "
   ]
  },
  {
   "cell_type": "code",
   "execution_count": null,
   "metadata": {},
   "outputs": [],
   "source": [
    "# insert any code here for using R as your calculator"
   ]
  },
  {
   "cell_type": "markdown",
   "metadata": {},
   "source": [
    "➡️ Type your answer to _Exercise 2 Question 3_ here (replacing this text)\n",
    "\n",
    "**Step 1:** \n",
    "\n",
    "**Step 2:** \n",
    "\n",
    "**Step 3:** \n",
    "\n",
    "**Step 4:** \n",
    "\n",
    "**Step 5:** "
   ]
  },
  {
   "attachments": {},
   "cell_type": "markdown",
   "metadata": {},
   "source": [
    "**4.** Is there statistical evidence that answering correctly is more likely for respondents who are soccer fans versus those who are not, at the 5% significance level? Explain (to answer this question, use the 5 steps for hypothesis testing)."
   ]
  },
  {
   "cell_type": "code",
   "execution_count": null,
   "metadata": {},
   "outputs": [],
   "source": [
    "# insert any code here for using R as your calculator"
   ]
  },
  {
   "cell_type": "markdown",
   "metadata": {},
   "source": [
    "➡️ Type your answer to _Exercise 2 Question 5_ here (replacing this text)\n",
    "\n",
    "\n",
    "**Step 1:** \n",
    "\n",
    "**Step 2:** \n",
    "\n",
    "**Step 3:** \n",
    "\n",
    "**Step 4:** \n",
    "\n",
    "**Step 5:** "
   ]
  }
 ],
 "metadata": {
  "kernelspec": {
   "display_name": "R",
   "language": "R",
   "name": "ir"
  },
  "language_info": {
   "codemirror_mode": "r",
   "file_extension": ".r",
   "mimetype": "text/x-r-source",
   "name": "R",
   "pygments_lexer": "r",
   "version": "4.3.2"
  }
 },
 "nbformat": 4,
 "nbformat_minor": 4
}
