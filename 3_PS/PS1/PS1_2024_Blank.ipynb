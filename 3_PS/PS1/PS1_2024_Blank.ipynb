{
 "cells": [
  {
   "cell_type": "markdown",
   "id": "549cbe30-2349-4fd1-bab1-9417771127f8",
   "metadata": {},
   "source": [
    "# EEP/IAS 118 - Introductory Applied Econometrics Problem Set 1\n",
    "\n",
    "## Problem Set 1, Spring 2024, Villas-Boas\n",
    "\n",
    "#### <span style=\"text-decoration: underline\">Problem Set 1: See bCourses / Gradescope for deadlines  </span> \n",
    "\n",
    "Submit materials (all handwritten/typed answers, Excel notebooks, and R reports) as **one pdf** on [Gradescope](https://www.gradescope.com/courses/716259). Make sure all codes and its associated outputs are printed in the pdf and not running off the page, as only what is visible in the pdf submission may be graded.\n",
    "\n",
    "For handwritten answers and Excel notebooks, please insert a picture/screenshot directly into this notebook ([How to add pictures to the markdown cell (See method 1 or 2)](https://mljar.com/blog/jupyter-notebook-insert-image/)). \n",
    "\n",
    "\n",
    "After uploading the pdf to Gradescope, please **assign appropriate pages to each question**. Questions that do not have assigned pages on Gradescope may not be graded.\n",
    "\n",
    "Direct all issues related to Gradescope and Jupyter Notebooks to your own GSIs."
   ]
  },
  {
   "cell_type": "markdown",
   "id": "921654d7",
   "metadata": {},
   "source": [
    "## Exercise 1: \n",
    "\n",
    "**Relationship between Car Prices (in thousands of Euros) and the number of cars sold.** \n",
    "\n",
    "Note: Please complete Exercise 1 using MS Excel or Google Sheets. Microsoft Office 365 (MS Excel) is available to Berkeley students for free - [UCB Software Link](https://software.berkeley.edu/microsoft-365-apps-enterprise)."
   ]
  },
  {
   "cell_type": "markdown",
   "id": "5fcb4ec8-3e61-450e-9b23-3444ed57a47a",
   "metadata": {},
   "source": [
    "In Exercise 1, we will establish a simple linear relationship between the number of cars sold and car prices in the 1970s in two European countries. For this exercise, ***use the values given in Tables presented below, not the actual observations from the .csv data file in the problem set folder***."
   ]
  },
  {
   "cell_type": "markdown",
   "id": "dfda5ed0-860a-4e6d-aaef-5f53d5d2cff9",
   "metadata": {},
   "source": [
    "<center><b> Table 1: Quantity of Cars sold and Prices of cars (in thousands of Euros) - Sample 1 </b></center>\n",
    "\n",
    "| Product_id <br /> (Sample 1) | Quantity  <br /> (No. of Cars) | Price  <br /> (1,000 Euros) |\n",
    "| :-----------: | :---------------: | :---------------: |\n",
    "| 9\t| 50423 | 12.59318 |\n",
    "| 10 | 45688 | 13.00866 |\n",
    "| 11 | 427 | 18.56158 |\n",
    "| 12 | 11010 | 17.12336 |\n",
    "| 13 | 48684 | 14.79126 |\n",
    "| 14 | 56452 | 14.70544 |\n",
    "| 15 | 40495 | 14.11962 |\n",
    "| 16 | 7922 | 37.77953 |"
   ]
  },
  {
   "cell_type": "markdown",
   "id": "284f47b6-2808-43e6-8ad8-ee2dda05d388",
   "metadata": {},
   "source": [
    "**(a)** Use Excel to create a scatter plot of the above observations in Table 1, putting Quantity on the vertical axis and Price on the horizontal axis. Do not forget to (1) label the axes and their units, and (2) title your graph."
   ]
  },
  {
   "cell_type": "markdown",
   "id": "27f1457a",
   "metadata": {},
   "source": [
    "➡️ Insert image of your scatter plot here"
   ]
  },
  {
   "cell_type": "markdown",
   "id": "a3188dcb-1bf4-499c-b0ab-64080b3fa1dd",
   "metadata": {},
   "source": [
    "**(b)** Estimate the linear relationship between the Quantity (Y) and the Price (X) by OLS, showing all intermediate calculations as demonstrated in lecture 3 (use Excel to create the table and show all the steps). Highlight in yellow the cells containing estimated $\\hat \\beta_0$ and $\\hat \\beta_1$.\n",
    "\n",
    "$$ \\hat Y_i = \\hat{\\beta_0} + \\hat{\\beta_1} X_i \\ \\ \\ \\ \\ \\ \\text{i = \\{car models in sample 1\\}}$$"
   ]
  },
  {
   "cell_type": "markdown",
   "id": "0bc48ded",
   "metadata": {},
   "source": [
    "➡️ Insert image of your excel calculations for _Exercise 1 (b) First Part_ here"
   ]
  },
  {
   "cell_type": "markdown",
   "id": "2687e1b6",
   "metadata": {},
   "source": [
    "**(c)** Interpret the value of the estimated parameters $\\hat \\beta_0$ and $\\hat \\beta_1$."
   ]
  },
  {
   "cell_type": "markdown",
   "id": "3dd5c26f",
   "metadata": {},
   "source": [
    "➡️ Type your answer to _Exercise 1 (b) Second Part_ here (replacing this text)"
   ]
  },
  {
   "cell_type": "markdown",
   "id": "803435db-c57c-4c88-9c4e-d7e3fdc8a77a",
   "metadata": {},
   "source": [
    "**(d)** In your table, compute the fitted value $\\hat Y_i$ and the residual $\\hat u_i$ for each observation, and verify that the residuals (approximately) sum to 0. Highlight in yellow the relevant portions of the excel."
   ]
  },
  {
   "cell_type": "markdown",
   "id": "100d26b8",
   "metadata": {},
   "source": [
    "➡️ Insert image of your excel calculations here"
   ]
  },
  {
   "cell_type": "markdown",
   "id": "f4ba0606-e12f-416e-8ccf-b3d35f5f526a",
   "metadata": {},
   "source": [
    "**(e)** According to the estimated relation, what is the predicted $\\hat Y$ (Quantity) sold for a car with price equal to 10 thousand Euros? (Pay attention to units) "
   ]
  },
  {
   "cell_type": "markdown",
   "id": "ed48cb9a-3e7b-4b39-a3fb-f20564b765a9",
   "metadata": {},
   "source": [
    "➡️ Type your answer to _Exercise 1 (e)_ here (replacing this text)"
   ]
  },
  {
   "cell_type": "markdown",
   "id": "8c3bca65-e7a9-4ca5-be48-4b11376af7ee",
   "metadata": {},
   "source": [
    "**(f)** How much of the variation in quantity sold of these eight models of cars is explained by the price? "
   ]
  },
  {
   "cell_type": "markdown",
   "id": "07f19e4a-3165-40e3-9671-3ded74a7d633",
   "metadata": {},
   "source": [
    "➡️ Type your answer to _Exercise 1 (f)_ here (replacing this text)"
   ]
  },
  {
   "cell_type": "markdown",
   "id": "25960a27-1141-4c11-a536-dbd60b340416",
   "metadata": {},
   "source": [
    "**(g)** Repeat exercise (b) with the set of car models presented below in Table 2 only. Highlight your estimates of $\\hat \\beta_0$ and $\\hat \\beta_1$. Do your estimates of $\\hat \\beta_0$ and $\\hat \\beta_1$ change between Table 1 and Table 2?"
   ]
  },
  {
   "cell_type": "markdown",
   "id": "6f3baa80-6c42-46a5-bd36-7751275c8c35",
   "metadata": {},
   "source": [
    "<center><b> Table 2: Quantity of Cars sold and Prices of cars (in thousands of Euros) - Sample 2 </b></center>\n",
    "\n",
    "| Product_id <br /> (Sample 2) | Quantity  <br /> (No. of Cars) | Price  <br /> (1,000 Euros) |\n",
    "| :-----------: | :---------------: | :---------------: |\n",
    "| 1 | 1308 | 29.7657 |\n",
    "| 2 | 1016 | 26.01733 |\n",
    "| 3 | 9659 | 17.58998 |\n",
    "| 4 | 14032 | 9.692931 |\n",
    "| 5 | 12343 | 10.18069 |\n",
    "| 6 | 100523 | 13.00866 |\n",
    "| 7 | 168548 | 14.65388 |\n",
    "| 8\t| 197574 | 15.12964 |"
   ]
  },
  {
   "cell_type": "markdown",
   "id": "0abea128",
   "metadata": {},
   "source": [
    "➡️ Insert image of your excel calculations for _Exercise 1 (g)"
   ]
  },
  {
   "cell_type": "markdown",
   "id": "abc453a0",
   "metadata": {},
   "source": [
    "➡️ Type your answer to _Exercise 1 (g) here (replacing this text)"
   ]
  },
  {
   "cell_type": "markdown",
   "id": "83bed41d-26b7-4c45-9086-fd3ede6aa1af",
   "metadata": {},
   "source": [
    "## Exercise 2: Functional Forms\n",
    "\n",
    "Suppose you estimate alternative specifications as given below using data for 16 products:\n",
    "\n",
    "A linear relationship: $\\hat{Y_i} = 93432- 2615 X_i$\n",
    "\n",
    "A linear-log relationship: $\\hat{Y_i} = 179761   - 47311 \\log(X)$ \n",
    "\n",
    "A log-log relationship: $\\widehat{\\log(Y_i)} = 17.3 - 2.7 \\log(X_i)$ \n",
    "\n",
    "**Note:** In economics, by convention, log() always refers to the natural log, ln()."
   ]
  },
  {
   "cell_type": "markdown",
   "id": "79c30bda-7bd3-453d-a5be-64f19b008310",
   "metadata": {},
   "source": [
    "**(i)** Interpret the estimated parameter on price X (or log of price $log(X)$) in each of these equations. "
   ]
  },
  {
   "cell_type": "markdown",
   "id": "a31e4d86-e117-42ee-83a5-73b179977f05",
   "metadata": {},
   "source": [
    "➡️ Type your answer to _Exercise 2 (a) i_ here (replacing this text)"
   ]
  },
  {
   "cell_type": "markdown",
   "id": "a0c18632-90c8-48c6-ad26-3ca76ff956af",
   "metadata": {},
   "source": [
    "**(ii)** What is the predicted quantity of cars (in levels not logs) sold for a product that costs 10 thousand Euros in each of these equations?"
   ]
  },
  {
   "cell_type": "markdown",
   "id": "52f93e1d-ae6e-481f-81f1-fcee682b3c84",
   "metadata": {},
   "source": [
    "➡️ Type your answer to _Exercise 2 (a) ii_ here (replacing this text)"
   ]
  },
  {
   "cell_type": "markdown",
   "id": "66c8c23c-f7ce-4296-a2ec-257a8541d24e",
   "metadata": {},
   "source": [
    "## Exercise 3. Importing data into R and Basic R first commands \n",
    "\n",
    "For the purposes of this class, we will be using RStudio or a cloud-based version of RStudio provided through UC Berkeley’s Datahub. The data files can be accessed directly through Datahub and do not require you to install anything on your computer. This exercise is designed to get you familiar with R (if you have RStudio on your computer) or accessing the service.\n",
    "\n",
    "The exercise will have you learn about loading data and obtaining summary statistics. To start off, we’re going to use Jupyter notebooks to help familiarize you with some R commands. For help with Jupyter and R, refer to the Coding Bootcamp Part 1 recording on bCourses > Course > Media Gallery and the [corresponding Jupyter Notebook on Datahub](https://datahub.berkeley.edu/hub/user-redirect/git-pull?repo=https%3A%2F%2Fgithub.com%2Fds-modules%2FENVECON-118-SP24&branch=main&urlpath=tree%2FENVECON-118-SP24%2F1_CodingBootcamp%2FCoding_Bootcamp_Part_1_2024.ipynb). "
   ]
  },
  {
   "cell_type": "markdown",
   "id": "e331e854-673a-4a82-b56a-a9db3b925253",
   "metadata": {},
   "source": [
    "**(a)** To access the Jupyter notebook for this problem set on Datahub, click the following link and navigate to the Problem Set 1 folder.\n",
    "\n",
    "*Skip! You are already here - nice work.*"
   ]
  },
  {
   "cell_type": "markdown",
   "id": "58afad9a-a63b-49f9-9273-824ba07ee674",
   "metadata": {},
   "source": [
    "**(b)** Load the datafile \"dataPset1_2024.csv\" into R (since this is a “.csv” file, you should use the read.csv() function). "
   ]
  },
  {
   "cell_type": "code",
   "execution_count": null,
   "id": "5ba16919-bd12-43af-a0e5-b460c15ff27b",
   "metadata": {},
   "outputs": [],
   "source": [
    "# insert code here"
   ]
  },
  {
   "cell_type": "markdown",
   "id": "64e0547d-daf5-4b43-8997-e3a47d04e112",
   "metadata": {},
   "source": [
    "**(c)** Provide basic summary statistics on the log of price (lprice) in the dataframe. Use the summary() command. This function is part of base R, so you do not need to load any packages before using it. What is the average of log price of the products in the sample?"
   ]
  },
  {
   "cell_type": "code",
   "execution_count": null,
   "id": "e751bfcf-683d-4cc4-924c-fbb05d77dce0",
   "metadata": {},
   "outputs": [],
   "source": [
    "# insert code here"
   ]
  },
  {
   "cell_type": "markdown",
   "id": "12b43554-ddfe-47bc-a46c-61782f1a7502",
   "metadata": {},
   "source": [
    "➡️ Type your written answer to _Exercise 3 (c)_ here (replacing this text)"
   ]
  },
  {
   "cell_type": "markdown",
   "id": "c1dfbc83-4d3b-4f0b-925c-2893b3547967",
   "metadata": {},
   "source": [
    "**(d)** Next, generate custom summary statistics on the quantity sold (qu) using the summarise() function provided by dplyr. At minimum, your summary stats should include (a) obs. count, (b) min, mean, median, max, (c) range, and (d) std. deviation. You will need to call the tidyverse package with the library() function to use it (tidyverse is a collection of packages designed for data science. It includes dplyr and several other packages we’ll use this term). "
   ]
  },
  {
   "cell_type": "code",
   "execution_count": null,
   "id": "9e8c345f-42e6-42b2-bc2f-27f4178835b1",
   "metadata": {},
   "outputs": [],
   "source": [
    "# insert code here"
   ]
  },
  {
   "cell_type": "markdown",
   "id": "b1c35a7b-3321-435f-bf64-d26f67b9e5c0",
   "metadata": {},
   "source": [
    "**(e)** Create a scatter plot of the levels, of Quantity sold and the Price in levels. Use \n",
    "                    \n",
    "`fig1 <- plot(ps1_df$price, ps1_df$qu, \n",
    "            main=\"Scatter of Y on X\", \n",
    "            xlab=\"X = Price (in thousand Euros)\", \n",
    "            ylab=\"Y = Quantity of Cars Sold \")`\n",
    "\n",
    "Note: Make sure to print the scatterplot in the notebook's codecell."
   ]
  },
  {
   "cell_type": "code",
   "execution_count": null,
   "id": "8c910253-5eb7-429e-8f19-afb25a657762",
   "metadata": {},
   "outputs": [],
   "source": [
    "# insert code here (all you need to do is copy & paste correctly)"
   ]
  },
  {
   "cell_type": "markdown",
   "id": "c18af819",
   "metadata": {},
   "source": [
    "**(f)** Save a pdf to your computer. This can be done by going to `File > Download As... > PDF via HTML (bottom option)`. Some of the other options that purports to export / download as pdf do not work, including one of the two options that exactly read the same \"PDF via HTML'. If none of the works, try `File > Print Preview` and then print as pdf. Please exhaust all of these options before reaching out to GSIs for help.\n",
    "\n",
    "**Note: Make sure to check your pdf before uploading to ensure all the code cells are run and all text/output is visible and insert all screenshots from Excel/handwritten work before uploading to Gradescope. Only what is visible on the pdf and in Gradescope submission can be graded.** "
   ]
  }
 ],
 "metadata": {
  "kernelspec": {
   "display_name": "R",
   "language": "R",
   "name": "ir"
  },
  "language_info": {
   "codemirror_mode": "r",
   "file_extension": ".r",
   "mimetype": "text/x-r-source",
   "name": "R",
   "pygments_lexer": "r",
   "version": "4.3.2"
  }
 },
 "nbformat": 4,
 "nbformat_minor": 5
}
